{
 "cells": [
  {
   "cell_type": "code",
   "execution_count": 1,
   "id": "e59617d8-51ae-4440-9e66-f7c3d07a204a",
   "metadata": {},
   "outputs": [],
   "source": [
    "import numpy as np\n",
    "from matplotlib import pyplot as plt"
   ]
  },
  {
   "cell_type": "code",
   "execution_count": 2,
   "id": "713e65c4-f8e2-4557-9fb2-45e007b0a875",
   "metadata": {},
   "outputs": [
    {
     "name": "stdout",
     "output_type": "stream",
     "text": [
      "[[1. 0. 0. ... 0. 0. 0.]\n",
      " [0. 0. 0. ... 0. 0. 0.]\n",
      " [1. 0. 0. ... 0. 0. 0.]\n",
      " ...\n",
      " [7. 0. 0. ... 0. 0. 0.]\n",
      " [6. 0. 0. ... 0. 0. 0.]\n",
      " [9. 0. 0. ... 0. 0. 0.]]\n"
     ]
    }
   ],
   "source": [
    "data = np.genfromtxt('train.csv', delimiter=',', skip_header=1)\n",
    "print(data)"
   ]
  },
  {
   "cell_type": "code",
   "execution_count": 3,
   "id": "db0d0696-c9fd-47d8-a883-64b8054be12d",
   "metadata": {},
   "outputs": [
    {
     "name": "stdout",
     "output_type": "stream",
     "text": [
      "[[1. 0. 0. ... 0. 0. 0.]\n",
      " [0. 0. 0. ... 0. 0. 0.]\n",
      " [8. 0. 0. ... 0. 0. 0.]\n",
      " ...\n",
      " [4. 0. 0. ... 0. 0. 0.]\n",
      " [4. 0. 0. ... 0. 0. 0.]\n",
      " [0. 0. 0. ... 0. 0. 0.]]\n"
     ]
    }
   ],
   "source": [
    "np.random.shuffle(data)\n",
    "print(data)"
   ]
  },
  {
   "cell_type": "code",
   "execution_count": 4,
   "id": "89f64c36-9752-4503-803a-70c1ce74de47",
   "metadata": {},
   "outputs": [
    {
     "name": "stdout",
     "output_type": "stream",
     "text": [
      "Samples: 42000, Features: 785\n"
     ]
    }
   ],
   "source": [
    "samples, features = data.shape\n",
    "print(f\"Samples: {samples}, Features: {features}\")"
   ]
  },
  {
   "cell_type": "code",
   "execution_count": 5,
   "id": "0f52679a-dc98-4a6c-a781-4ab936b0cc96",
   "metadata": {},
   "outputs": [],
   "source": [
    "samples, features = data.shape\n",
    "\n",
    "dataT = data.T\n",
    "\n",
    "Y = dataT[0,:]\n",
    "X = dataT[1:features, :] / 255\n",
    "\n",
    "Y_train = Y[1000:samples]\n",
    "Y_test = Y[0:1000]\n",
    "\n",
    "X_train = X[:,1000:samples]\n",
    "X_test = X[:,0:1000]"
   ]
  },
  {
   "cell_type": "code",
   "execution_count": 6,
   "id": "f85d0051-6950-47c3-8d01-2439a257b923",
   "metadata": {},
   "outputs": [],
   "source": [
    "def init_params():\n",
    "    W1 = np.random.randn(10, 784) * 0.01\n",
    "    B1 = np.zeros((10, 1))\n",
    "    W2 = np.random.randn(10, 10) * 0.01\n",
    "    B2 = np.zeros((10, 1))\n",
    "    return W1, B1, W2, B2"
   ]
  },
  {
   "cell_type": "code",
   "execution_count": 7,
   "id": "f55cb6ec-4eab-4a56-8ffe-f9af9d588fda",
   "metadata": {},
   "outputs": [],
   "source": [
    "def ReLU(Z):\n",
    "    return np.maximum(Z, 0)\n",
    "\n",
    "def softmax(Z):\n",
    "    \"\"\"Compute softmax values for each sets of scores in x.\"\"\"\n",
    "    exp = np.exp(Z - np.max(Z, axis=0)) # avoid huge numbers which are inaccurate\n",
    "    return exp / exp.sum(axis=0)\n",
    "\n",
    "def one_hot(Y):\n",
    "    rows = Y.shape[0]\n",
    "    encoded = int(Y.max()) + 1\n",
    "    \n",
    "    one_hot_Y = np.zeros((rows, encoded))\n",
    "\n",
    "    row_indicies = np.arange(rows) # sequential array\n",
    "    col_indicies = Y.astype(int) # the labels double up as hot-one indicies\n",
    "    \n",
    "    one_hot_Y[row_indicies, col_indicies] = 1\n",
    "    one_hot_Y = one_hot_Y.T\n",
    "    return one_hot_Y\n",
    "\n",
    "def ReLU_deriv(Z):\n",
    "    return Z > 0"
   ]
  },
  {
   "cell_type": "code",
   "execution_count": 8,
   "id": "4e7eda3d-f58d-4ca5-ac68-5e85ef67556e",
   "metadata": {},
   "outputs": [],
   "source": [
    "def feedforward(W1, B1, W2, B2, X):\n",
    "    if X.ndim == 1:\n",
    "        A0 = X.reshape(-1, 1)\n",
    "    else:\n",
    "        A0 = X\n",
    "    Z1 = W1.dot(A0) + B1\n",
    "    A1 = ReLU(Z1)\n",
    "    Z2 = W2.dot(A1) + B2\n",
    "    A2 = softmax(Z2)\n",
    "    return A0, Z1, A1, Z2, A2"
   ]
  },
  {
   "cell_type": "code",
   "execution_count": 9,
   "id": "9eaac56c-228f-40ac-bcb9-cbb396ece9a8",
   "metadata": {},
   "outputs": [],
   "source": [
    "def backprop(Z1, A1, Z2, A2, W1, W2, X, Y):\n",
    "    m = len(Y)\n",
    "    \n",
    "    dZ2 = A2 - one_hot(Y)\n",
    "    \n",
    "    dW2 = 1/m * dZ2.dot(A1.T)\n",
    "    dB2 = 1/m * np.sum(dZ2)\n",
    "\n",
    "    dZ1 = W2.T.dot(dZ2) * ReLU_deriv(Z1)\n",
    "\n",
    "    dW1 = 1 / m * dZ1.dot(X.T)\n",
    "    dB1 = 1 / m * np.sum(dZ1)\n",
    "\n",
    "    return dW1, dB1, dW2, dB2"
   ]
  },
  {
   "cell_type": "code",
   "execution_count": 10,
   "id": "589f9bec-f896-4937-88e0-cc108c40e049",
   "metadata": {},
   "outputs": [],
   "source": [
    "def updateParams(W1, W2, B1, B2, dW1, dW2, dB1, dB2, LR):\n",
    "    W1 = W1 - LR * dW1\n",
    "    W2 = W2 - LR * dW2\n",
    "    B1 = B1 - LR * dB1\n",
    "    B2 = B2 - LR * dB1\n",
    "    return W1, B1, W2, B2"
   ]
  },
  {
   "cell_type": "code",
   "execution_count": 11,
   "id": "01b80e0c-7770-44f3-9bab-104c82dd4b18",
   "metadata": {},
   "outputs": [],
   "source": [
    "def get_predictions(A2):\n",
    "    # Gives index position which is also the answer\n",
    "    return np.argmax(A2, axis=0)\n",
    "\n",
    "def get_accuracy(predictions, Y):\n",
    "    # print(predictions, Y)\n",
    "    return np.sum(predictions == Y) / Y.size\n",
    "\n",
    "def gradient_descent(X, Y, LR, epochs):\n",
    "    \n",
    "    W1, B1, W2, B2 = init_params()\n",
    "    \n",
    "    for i in range(epochs):\n",
    "        A0, Z1, A1, Z2, A2 = feedforward(W1, B1, W2, B2, X_train)\n",
    "        dW1, dB1, dW2, dB2 = backprop(Z1, A1, Z2, A2, W1, W2, X_train, Y_train)\n",
    "        W1, B1, W2, B2 = updateParams(W1, W2, B1, B2, dW1, dW2, dB1, dB2, LR)\n",
    "    \n",
    "        if i % 250 == 0:\n",
    "            print('Iteration:', i)\n",
    "            predictions = get_predictions(A2)\n",
    "            print('Accuracy:', get_accuracy(predictions, Y))\n",
    "\n",
    "    return W1, B1, W2, B2"
   ]
  },
  {
   "cell_type": "code",
   "execution_count": 12,
   "id": "e5ef0feb-46f0-42d9-868a-dd1229791968",
   "metadata": {},
   "outputs": [
    {
     "name": "stdout",
     "output_type": "stream",
     "text": [
      "Iteration: 0\n",
      "Accuracy: 0.10439024390243902\n",
      "Iteration: 250\n",
      "Accuracy: 0.8439024390243902\n",
      "Iteration: 500\n",
      "Accuracy: 0.8919756097560976\n",
      "Iteration: 750\n",
      "Accuracy: 0.9057073170731708\n"
     ]
    }
   ],
   "source": [
    "fw1, fb1, fw2, fb2 = gradient_descent(X_train, Y_train, 0.1, 1000)"
   ]
  },
  {
   "cell_type": "code",
   "execution_count": 15,
   "id": "4522279b-70d6-46a3-b93d-0f5f996a35e2",
   "metadata": {},
   "outputs": [],
   "source": [
    "def make_predictions(W1, B1, W2, B2, X):\n",
    "    _, _, _, _, A2 = feedforward(W1, B1, W2, B2, X)\n",
    "    return get_predictions(A2)"
   ]
  },
  {
   "cell_type": "code",
   "execution_count": 18,
   "id": "6cfcf8ca-a2f4-4604-9218-9dcdf818d80a",
   "metadata": {},
   "outputs": [
    {
     "name": "stdout",
     "output_type": "stream",
     "text": [
      "Accuracy: 0.912\n"
     ]
    }
   ],
   "source": [
    "test_predictions = make_predictions(fw1, fb1, fw2, fb2, X_test)\n",
    "\n",
    "print('Accuracy:', get_accuracy(test_predictions, Y_test))"
   ]
  },
  {
   "cell_type": "code",
   "execution_count": 26,
   "id": "39028737-d6e2-4840-8f93-32360f574bd4",
   "metadata": {},
   "outputs": [],
   "source": [
    "def singlePrediction(X_sample, Y_sample, W1, B1, W2, B2):\n",
    "    _, _, _, _, _A2 = feedforward(fw1, fb1, fw2, fb2, X_sample)\n",
    "    print(\"Model Prediction:\", int(np.argmax(_A2)))\n",
    "    print(\"Correct Label:\", int(Y_sample))\n",
    "    current_image = X_sample\n",
    "    current_image = current_image.reshape((28, 28)) * 255\n",
    "    plt.gray()\n",
    "    plt.imshow(current_image, interpolation='nearest')\n",
    "    plt.show()"
   ]
  },
  {
   "cell_type": "code",
   "execution_count": 39,
   "id": "13ddb1e5-5579-438d-a7fa-cf7fe6a32774",
   "metadata": {},
   "outputs": [
    {
     "name": "stdout",
     "output_type": "stream",
     "text": [
      "Model Prediction: 7\n",
      "Correct Label: 3\n"
     ]
    },
    {
     "data": {
      "image/png": "[encoded data removed]",
      "text/plain": [
       "<Figure size 640x480 with 1 Axes>"
      ]
     },
     "metadata": {},
     "output_type": "display_data"
    }
   ],
   "source": [
    "_x = 9\n",
    "singlePrediction(X_test[:,_x], Y_test[_x], fw1, fb1, fw2, fb2)"
   ]
  }
 ],
 "metadata": {
  "kernelspec": {
   "display_name": "w4",
   "language": "python",
   "name": "w4"
  },
  "language_info": {
   "codemirror_mode": {
    "name": "ipython",
    "version": 3
   },
   "file_extension": ".py",
   "mimetype": "text/x-python",
   "name": "python",
   "nbconvert_exporter": "python",
   "pygments_lexer": "ipython3",
   "version": "3.13.2"
  }
 },
 "nbformat": 4,
 "nbformat_minor": 5
}
