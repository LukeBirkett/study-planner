{
 "cells": [
  {
   "cell_type": "markdown",
   "metadata": {
    "id": "rxyl5fPn1cEU"
   },
   "source": [
    "# Objectives"
   ]
  },
  {
   "cell_type": "markdown",
   "metadata": {
    "id": "qCCRn5I21gF8"
   },
   "source": [
    "\n",
    "* To explore an existing dataset\n",
    "> This week, we'll use a subset of the UK Met dataset. You can read more about the UK Met dataset here: https://rmets.onlinelibrary.wiley.com/doi/10.1002/gdj3.78. We will use the 60km-resolution data for 2010 to 2022.\n",
    "\n",
    "* To apply support vector machine (SVM) and logistic regression algorithms from Week 3 lecture to automatic detection of the number of days of ground frost and snow based on other weather variables."
   ]
  },
  {
   "cell_type": "markdown",
   "metadata": {
    "id": "kPvpMsQb3JN7"
   },
   "source": [
    "# Section 1 - Explore the UK Met (60km, 2010-2022) dataset"
   ]
  },
  {
   "cell_type": "markdown",
   "metadata": {
    "id": "DiO4BnO_-szF"
   },
   "source": [
    "See the dataset on the Week 3 page for the module, on Canvas (see 'Week 3 Lab Dataset' on the page). The file is named c*urated_data_1month_2010-2022_nonans.csv*.\n",
    "* What does each variable in the dataset represent?\n",
    "* What is the distribution of the number of days of ground frost in the dataset? What of for the number of days of snow?\n",
    "* What does this tell you about the data?\n",
    "* What else can you tell about the data?\n"
   ]
  },
  {
   "cell_type": "markdown",
   "metadata": {
    "id": "ZNQnWrTL1uFN"
   },
   "source": [
    "# Section 2 - Load the dataset\n",
    "\n"
   ]
  },
  {
   "cell_type": "markdown",
   "metadata": {
    "id": "KXj3aE3e2dHy"
   },
   "source": [
    "\n",
    "\n",
    "1. You need to first download the data before you can get started. Download from the Week 3 page for the module, on Canvas (see 'Week 3 Lab Dataset' on the page). The file you download will be named *curated_data_1month_2010-2022_nonans.csv*.\n",
    "\n",
    "2. Then, use the file menu in Google Colab to upload the file to your Colab directory. Once upload is complete, you should be able to see the file on the listed contents of your Colab directory.\n",
    "\n",
    "3. You can now run the code in the cell below to load the data."
   ]
  },
  {
   "cell_type": "code",
   "execution_count": 26,
   "metadata": {
    "id": "0gFnB9nq4yWz"
   },
   "outputs": [
    {
     "name": "stdout",
     "output_type": "stream",
     "text": [
      "\n",
      " The dataset has shape: (10296, 13)\n",
      "['x_coord', 'y_coord', 'month', 'year', 'groundfrost_1', 'hurs_1', 'psl_1', 'sun_1', 'pv_1', 'sfcWind_1', 'tas_1', 'snowLying_1', 'rainfall_1']\n",
      "\n",
      " A peek at the dataset features: \n",
      "[[8.93698275e+01 1.02266536e+03 6.45115642e+01 ... 6.45810733e+00\n",
      "  6.72744772e+00 1.12235238e+02]\n",
      " [8.94462109e+01 1.02270800e+03 5.74868117e+01 ... 5.88191052e+00\n",
      "  6.23064828e+00 1.16354749e+02]\n",
      " [8.93435447e+01 1.02243684e+03 6.82935149e+01 ... 4.62830127e+00\n",
      "  6.29080656e+00 5.75377881e+01]\n",
      " ...\n",
      " [8.78370293e+01 1.00645706e+03 1.38800195e+01 ... 4.96064026e+00\n",
      "  1.85626301e+00 1.77242463e+02]\n",
      " [8.88116315e+01 1.00662248e+03 2.05853162e+01 ... 4.93635497e+00\n",
      "  7.75835354e-01 1.35402879e+02]\n",
      " [8.27601516e+01 1.00593830e+03 1.05309193e+01 ... 8.38081942e+00\n",
      "  3.54509758e+00 1.40831213e+02]]\n",
      "\n",
      " A peek at the ground frost labels: \n",
      "[ 9.84928987 10.85267889 12.97189949 ... 21.7275541  23.77582838\n",
      " 17.35386163]\n",
      "\n",
      " A peek at the snow labels: \n",
      "[0.69719979 1.62952568 1.17293773 ... 7.99709543 8.468159   6.3599061 ]\n"
     ]
    }
   ],
   "source": [
    "import csv\n",
    "import numpy\n",
    "\n",
    "\n",
    "# !ls  /content\n",
    "\n",
    "data_file_full_path = \"curated_data_1month_2010-2022_nonans.csv\"\n",
    "\n",
    "data_as_list = []\n",
    "\n",
    "# load the dataset\n",
    "with open(data_file_full_path) as csv_file:\n",
    "    csv_reader = csv.reader(csv_file, delimiter=',')\n",
    "\n",
    "    row_count = 0\n",
    "    for row in csv_reader:\n",
    "        if row_count == 0:\n",
    "            headers = row\n",
    "        if row_count > 0:\n",
    "            data_as_list.append([float(val) for val in row])\n",
    "        row_count += 1\n",
    "data = numpy.array(data_as_list)\n",
    "\n",
    "# check its shape\n",
    "print(\"\\n The dataset has shape: \"+str(data.shape))\n",
    "print(headers)\n",
    "\n",
    "# get features and labels from the data\n",
    "# based on the objectives (see the Objectives section)\n",
    "feat_col = [5, 6, 7, 8, 9, 10, 12]\n",
    "ground_frost_col = 4\n",
    "snow_col = 11\n",
    "\n",
    "feats = data[:, feat_col]\n",
    "ground_frost_label = data[:, ground_frost_col]\n",
    "snow_label = data[:, snow_col]\n",
    "\n",
    "\n",
    "# take a peek\n",
    "print(\"\\n A peek at the dataset features: \\n\"+str(feats))\n",
    "print(\"\\n A peek at the ground frost labels: \\n\"+str(ground_frost_label))\n",
    "print(\"\\n A peek at the snow labels: \\n\"+str(snow_label))\n"
   ]
  },
  {
   "cell_type": "markdown",
   "metadata": {
    "id": "oHjsZ1d3NYCP"
   },
   "source": [
    "# Section 3 - Split into training, validation, and test sets"
   ]
  },
  {
   "cell_type": "code",
   "execution_count": 23,
   "metadata": {},
   "outputs": [
    {
     "data": {
      "text/plain": [
       "array([    0,     1,     2, ..., 10293, 10294, 10295], shape=(10296,))"
      ]
     },
     "execution_count": 23,
     "metadata": {},
     "output_type": "execute_result"
    }
   ],
   "source": [
    "numpy.arange(0, feats.shape[0]) # print(len(feats))"
   ]
  },
  {
   "cell_type": "code",
   "execution_count": 27,
   "metadata": {
    "id": "pFYBM9RBSMDS"
   },
   "outputs": [],
   "source": [
    "from sklearn.model_selection import train_test_split\n",
    "\n",
    "all_ids = numpy.arange(0, feats.shape[0]) # an array ids upto length of data\n",
    "\n",
    "random_seed = 1\n",
    "\n",
    "# First randomly split the data into 70:30 to get the training set\n",
    "train_set_ids, rem_set_ids = train_test_split(\n",
    "    all_ids, \n",
    "    test_size=0.3, \n",
    "    train_size=0.7,\n",
    "    random_state=random_seed, \n",
    "    shuffle=True\n",
    ")\n",
    "\n",
    "\n",
    "# Then further split the remaining data 50:50 into validation and test sets\n",
    "val_set_ids, test_set_ids = train_test_split(\n",
    "    rem_set_ids, \n",
    "    test_size=0.5, \n",
    "    train_size=0.5,\n",
    "    random_state=random_seed, \n",
    "    shuffle=True\n",
    ")\n",
    "\n",
    "train_data = feats[train_set_ids, :]\n",
    "train_ground_frost_labels = ground_frost_label[train_set_ids]\n",
    "train_snow_labels = snow_label[train_set_ids]\n",
    "\n",
    "val_data = feats[val_set_ids, :]\n",
    "val_ground_frost_labels = ground_frost_label[val_set_ids]\n",
    "val_snow_labels = snow_label[val_set_ids]\n",
    "\n",
    "test_data = feats[test_set_ids, :]\n",
    "test_ground_frost_labels = ground_frost_label[test_set_ids]\n",
    "test_snow_labels = snow_label[test_set_ids]"
   ]
  },
  {
   "cell_type": "markdown",
   "metadata": {
    "id": "dlxoG_76etp6"
   },
   "source": [
    "# Section 4 - Train and evaluate a SVM regression model (with hyperparameter optimization)"
   ]
  },
  {
   "cell_type": "code",
   "execution_count": 36,
   "metadata": {
    "id": "sETTFPn0HBCL"
   },
   "outputs": [
    {
     "name": "stdout",
     "output_type": "stream",
     "text": [
      "c: 0.1 error: 5.700074988389891\n",
      "c: 1.0 error: 5.895869919107431\n",
      "c: 10.0 error: 5.859312729827764\n",
      "\n",
      " The optimal c for this data is: 0.1\n",
      "\n",
      " The test mean squared error (MSE) is: 5.89499423330703\n"
     ]
    }
   ],
   "source": [
    "\n",
    "from sklearn.svm import LinearSVR\n",
    "from sklearn.metrics import mean_squared_error\n",
    "import sys\n",
    "\n",
    "#--- Use the validation set to optimize the box constraint hyperparameter ---\n",
    "#--- based on grid search method ---\n",
    "\n",
    "random_seed = 1\n",
    "\n",
    "# C: This parameter controls the trade-off between achieving a smooth decision boundary and correctly classifying training points.\n",
    "\n",
    "# set the range of hyperparameters to search from\n",
    "c_options = [0.1, 1.0, 10.0]\n",
    "best_c = 0.1 # initialize the optimal box constraint value\n",
    "\n",
    "# initialize the performance of the optimal box constraint value\n",
    "best_c_perf = sys.float_info.max # max loss function number possible, will be updated with search with lower values\n",
    "\n",
    "# for each box constraint in the set of values to search\n",
    "# training a SVM model and evaluate it\n",
    "# if the performance obtained is better than the currrent 'best_c_perf'\n",
    "# set the box constraint as the current optimal\n",
    "for c in c_options:\n",
    "    #print(\"\\n for c=\"+str(c)+\"...\")\n",
    "    model_SVM = LinearSVR(C=c, random_state=random_seed, loss='squared_epsilon_insensitive')\n",
    "    model_SVM.fit(train_data, train_ground_frost_labels)\n",
    "    val_pred_SVM = model_SVM.predict(val_data)\n",
    "    val_mse_SVM = mean_squared_error(val_ground_frost_labels, val_pred_SVM)\n",
    "    print(\"c:\", c, \"error:\", val_mse_SVM)\n",
    "    \n",
    "    if val_mse_SVM < best_c_perf:\n",
    "        best_c = c\n",
    "        best_c_perf = val_mse_SVM\n",
    "\n",
    "print('\\n The optimal c for this data is: '+str(best_c))\n",
    "\n",
    "# use the optimized box constraint to train the final model\n",
    "model_SVM = LinearSVR(C=best_c, random_state=random_seed, loss='squared_epsilon_insensitive')\n",
    "model_SVM.fit(train_data, train_ground_frost_labels)\n",
    "\n",
    "# evaluate the trained model using the test set\n",
    "test_pred_SVM = model_SVM.predict(test_data)\n",
    "mse_SVM = mean_squared_error(test_ground_frost_labels, test_pred_SVM)\n",
    "print('\\n The test mean squared error (MSE) is: '+str(mse_SVM))\n",
    "\n"
   ]
  },
  {
   "cell_type": "markdown",
   "metadata": {
    "id": "JK-55bd7wDPE"
   },
   "source": [
    "# Section 5 - Train and evaluate with scaled features"
   ]
  },
  {
   "cell_type": "markdown",
   "metadata": {
    "id": "hZiydO8NR11u"
   },
   "source": [
    "* Read the StandardScaler documentation (https://scikit-learn.org/stable/modules/generated/sklearn.preprocessing.StandardScaler.html). Using the documentation above, compute scaled features from *feats* in Section 2 based on standard scaling.\n",
    "\n",
    "* Train and evaluate the SVM model with the scaled features.\n",
    "\n",
    "* What differences do you notice in the feature distribution and the results?\n"
   ]
  },
  {
   "cell_type": "code",
   "execution_count": 37,
   "metadata": {},
   "outputs": [
    {
     "name": "stdout",
     "output_type": "stream",
     "text": [
      "\n",
      " A peek at the scaled dataset features: \n",
      "[[ 1.32716655  1.57084147 -0.88330353 ...  1.51819974 -0.59716362\n",
      "   0.21295927]\n",
      " [ 1.34196535  1.57808582 -0.99442844 ...  1.03005351 -0.70725389\n",
      "   0.27324641]\n",
      " [ 1.32207443  1.53201409 -0.82347666 ... -0.03198748 -0.69392287\n",
      "  -0.58751254]\n",
      " ...\n",
      " [ 1.03019683 -1.18300764 -1.68424647 ...  0.24956567 -1.67661336\n",
      "   1.16430985]\n",
      " [ 1.2190197  -1.15490117 -1.57817505 ...  0.2289915  -1.91603506\n",
      "   0.55200694]\n",
      " [ 0.04658465 -1.27114612 -1.73722605 ...  3.1470957  -1.30236928\n",
      "   0.6314481 ]]\n",
      "\n",
      " The optimal c for the scaled data is: 10.0\n",
      "\n",
      " The test MSE is: 4.501317738177738\n"
     ]
    }
   ],
   "source": [
    "from sklearn.preprocessing import StandardScaler\n",
    "scaler = StandardScaler()\n",
    "scaler.fit(feats)\n",
    "scaled_feats = scaler.transform(feats)\n",
    "print(\"\\n A peek at the scaled dataset features: \\n\"+str(scaled_feats))\n",
    "\n",
    "\n",
    "scaled_train_data = scaled_feats[train_set_ids, :]\n",
    "scaled_val_data = scaled_feats[val_set_ids, :]\n",
    "scaled_test_data = scaled_feats[test_set_ids, :]\n",
    "\n",
    "\n",
    "# set the range of hyperparameters to search from\n",
    "c_options = [0.1, 1.0, 10.0]\n",
    "# initialize the optimal box constraint value\n",
    "best_c = 0.1\n",
    "# initialize the performance of the optimal box constraint value\n",
    "best_c_perf = sys.float_info.max\n",
    "\n",
    "# for each box constraint in the set of values to search\n",
    "# training a SVM model and evaluate it\n",
    "# if the performance obtained is better than the currrent 'best_c_perf'\n",
    "# set the box constraint as the current optimal\n",
    "for c in c_options:\n",
    "\n",
    "  model_SVM = LinearSVR(C=c, random_state=random_seed, loss='squared_epsilon_insensitive')\n",
    "  model_SVM.fit(scaled_train_data, train_ground_frost_labels)\n",
    "  val_pred_SVM = model_SVM.predict(scaled_val_data)\n",
    "  val_mse_SVM = mean_squared_error(val_ground_frost_labels, val_pred_SVM)\n",
    "\n",
    "  if val_mse_SVM < best_c_perf:\n",
    "    best_c = c\n",
    "    best_c_perf = val_mse_SVM\n",
    "\n",
    "print('\\n The optimal c for the scaled data is: '+str(best_c))\n",
    "\n",
    "\n",
    "# use the optimized box constraint to train the final model\n",
    "model_SVM = LinearSVR(C=best_c, random_state=random_seed, loss='squared_epsilon_insensitive')\n",
    "model_SVM.fit(scaled_train_data, train_ground_frost_labels)\n",
    "\n",
    "# evaluate the trained model using the test set\n",
    "test_pred_SVM = model_SVM.predict(scaled_test_data)\n",
    "mse_SVM = mean_squared_error(test_ground_frost_labels, test_pred_SVM)\n",
    "print('\\n The test MSE is: '+str(mse_SVM))"
   ]
  },
  {
   "cell_type": "markdown",
   "metadata": {},
   "source": [
    "* Error is much lower\n",
    "* Optimal C is much higher\n",
    "* A higher C has a more narrow margin\n",
    "* It can more strongly fit to the training data\n",
    "* This is likely before the magnitute of the variance has been normalilzed out"
   ]
  },
  {
   "cell_type": "markdown",
   "metadata": {
    "id": "ZPZlfnwlTsle"
   },
   "source": [
    "# Section 6 - Train and evaluate a LR classification model"
   ]
  },
  {
   "cell_type": "markdown",
   "metadata": {
    "id": "gBxV3dKuUadG"
   },
   "source": [
    "* Use the information from Section 1 to split the ground frost label values into 4 classes.\n",
    "* Apply this to create classification labels for the labels in Section 2.\n",
    "* Use the classification labels to train and evaluate a logistic regression model using the Scikit Learn library (https://scikit-learn.org/stable/modules/generated/sklearn.linear_model.LogisticRegression.html).\n"
   ]
  },
  {
   "cell_type": "code",
   "execution_count": 47,
   "metadata": {},
   "outputs": [
    {
     "name": "stdout",
     "output_type": "stream",
     "text": [
      "\n",
      " A peek at the classification ground frost labels: \n",
      "[2. 2. 2. ... 3. 3. 3.]\n",
      "\n",
      " The test accuracy is: 0.8\n"
     ]
    }
   ],
   "source": [
    "from sklearn.linear_model import LogisticRegression\n",
    "from sklearn.metrics import accuracy_score\n",
    "from copy import deepcopy\n",
    "\n",
    "# to obtain an even distribution of data instances across classes\n",
    "# split based on distribution of given data (use the quartile information)\n",
    "# and take into consideration that the max possible number of days of ground frost\n",
    "# is 31 days since the longest month in the year has that number of days\n",
    "\n",
    "ground_frost_label_class = deepcopy(ground_frost_label)\n",
    "ground_frost_label_class\n",
    "numpy.place(ground_frost_label_class, ground_frost_label_class<=0.95, 0)\n",
    "numpy.place(ground_frost_label_class, numpy.logical_and(ground_frost_label_class>0.95, ground_frost_label_class<=6.87), 1)\n",
    "numpy.place(ground_frost_label_class, numpy.logical_and(ground_frost_label_class>6.87, ground_frost_label_class<=13.87), 2)\n",
    "numpy.place(ground_frost_label_class, ground_frost_label_class>13.87, 3)\n",
    "\n",
    "print(\"\\n A peek at the classification ground frost labels: \\n\"+str(ground_frost_label_class))\n",
    "\n",
    "train_ground_frost_labels_class = ground_frost_label_class[train_set_ids]\n",
    "val_ground_frost_labels_class = ground_frost_label_class[val_set_ids]\n",
    "test_ground_frost_labels_class = ground_frost_label_class[test_set_ids]\n",
    "\n",
    "model_LR = LogisticRegression(penalty='l2', random_state=random_seed)\n",
    "model_LR.fit(scaled_train_data, train_ground_frost_labels_class)\n",
    "\n",
    "test_pred_LR = model_LR.predict(scaled_test_data)\n",
    "acc_LR = accuracy_score(test_ground_frost_labels_class, test_pred_LR)\n",
    "print('\\n The test accuracy is: '+str(acc_LR))"
   ]
  },
  {
   "cell_type": "markdown",
   "metadata": {
    "id": "e1EuTj3KpxQo"
   },
   "source": [
    "# Section 7 - Evaluate using other classification metrics"
   ]
  },
  {
   "cell_type": "code",
   "execution_count": 48,
   "metadata": {
    "id": "jQHmDopxb0q9"
   },
   "outputs": [
    {
     "name": "stdout",
     "output_type": "stream",
     "text": [
      "\n",
      " The F1 scores for each of the classes are: [0.87263556 0.73572377 0.73803526 0.85333333]\n",
      "\n",
      " The average F1 score is: 0.7999319826393643\n",
      "\n"
     ]
    },
    {
     "data": {
      "image/png": "[encoded data removed]",
      "text/plain": [
       "<Figure size 640x480 with 2 Axes>"
      ]
     },
     "metadata": {},
     "output_type": "display_data"
    }
   ],
   "source": [
    "from sklearn.metrics import f1_score, confusion_matrix, ConfusionMatrixDisplay\n",
    "import matplotlib.pyplot as plt\n",
    "\n",
    "# F1 score similar to accuracy in that it ranges between 0 and 1\n",
    "# We will look at this metric in Weeks 5-6\n",
    "avg_f1_score_LR = f1_score(test_ground_frost_labels_class, test_pred_LR, average='macro')\n",
    "f1_scores_LR = f1_score(test_ground_frost_labels_class, test_pred_LR, average=None)\n",
    "print('\\n The F1 scores for each of the classes are: '+str(f1_scores_LR))\n",
    "print('\\n The average F1 score is: '+str(avg_f1_score_LR))\n",
    "print()\n",
    "\n",
    "# Confusion shows the misclassification\n",
    "# We will look at this metric in Weeks 5-6\n",
    "confusion_matrix_SVM = confusion_matrix(test_ground_frost_labels_class, test_pred_LR)\n",
    "disp = ConfusionMatrixDisplay(confusion_matrix_SVM)\n",
    "disp.plot()\n",
    "plt.show()\n"
   ]
  }
 ],
 "metadata": {
  "colab": {
   "authorship_tag": "ABX9TyNTfF/iNcAb2YuqtjbE8n86",
   "collapsed_sections": [
    "rxyl5fPn1cEU",
    "kPvpMsQb3JN7",
    "ZNQnWrTL1uFN",
    "oHjsZ1d3NYCP",
    "dlxoG_76etp6",
    "JK-55bd7wDPE",
    "ZPZlfnwlTsle",
    "e1EuTj3KpxQo"
   ],
   "provenance": []
  },
  "kernelspec": {
   "display_name": "w3env",
   "language": "python",
   "name": "w3env"
  },
  "language_info": {
   "codemirror_mode": {
    "name": "ipython",
    "version": 3
   },
   "file_extension": ".py",
   "mimetype": "text/x-python",
   "name": "python",
   "nbconvert_exporter": "python",
   "pygments_lexer": "ipython3",
   "version": "3.13.2"
  }
 },
 "nbformat": 4,
 "nbformat_minor": 4
}
