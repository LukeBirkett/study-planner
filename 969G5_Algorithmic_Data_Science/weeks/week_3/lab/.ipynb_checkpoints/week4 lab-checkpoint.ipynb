{
 "cells": [
  {
   "cell_type": "markdown",
   "metadata": {},
   "source": [
    "# Algorithmic Data Science: Week 4 lab - Unit 3 Matrices\n",
    "\n",
    "## Introduction\n",
    "\n",
    "One usually uses the numpy library to do matrix manipulations in Python. Let's import that, and create a couple of matrices, as numpy arrays. Here [1,3,4] is the first row of A, [2,-1,0] is the second row, and so on."
   ]
  },
  {
   "cell_type": "code",
   "execution_count": 1,
   "metadata": {},
   "outputs": [
    {
     "name": "stdout",
     "output_type": "stream",
     "text": [
      "[[ 1  3  4]\n",
      " [ 2 -1  0]\n",
      " [ 3  7  9]]\n"
     ]
    }
   ],
   "source": [
    "import numpy as np\n",
    "\n",
    "A=np.array([[1,3,4],[2,-1,0],[3,7,9]])\n",
    "B=np.array([[0,6,1],[-1,-1,5],[3,0,-1]])\n",
    "\n",
    "print(A)"
   ]
  },
  {
   "cell_type": "markdown",
   "metadata": {},
   "source": [
    "To access an individual component, use indices, starting from 0 (this is different from standard hand-written mathematics, for which indices start from 1)."
   ]
  },
  {
   "cell_type": "code",
   "execution_count": 2,
   "metadata": {},
   "outputs": [
    {
     "name": "stdout",
     "output_type": "stream",
     "text": [
      "3\n"
     ]
    }
   ],
   "source": [
    "print(A[0,1])"
   ]
  },
  {
   "cell_type": "markdown",
   "metadata": {},
   "source": [
    "You add matrices just using + (and subtract just using -)."
   ]
  },
  {
   "cell_type": "code",
   "execution_count": 3,
   "metadata": {},
   "outputs": [
    {
     "name": "stdout",
     "output_type": "stream",
     "text": [
      "[[ 1  9  5]\n",
      " [ 1 -2  5]\n",
      " [ 6  7  8]]\n"
     ]
    }
   ],
   "source": [
    "C=A+B\n",
    "print(C)"
   ]
  },
  {
   "cell_type": "markdown",
   "metadata": {},
   "source": [
    "You can multiply by a scalar like so:"
   ]
  },
  {
   "cell_type": "code",
   "execution_count": 4,
   "metadata": {},
   "outputs": [
    {
     "name": "stdout",
     "output_type": "stream",
     "text": [
      "[[ 5 15 20]\n",
      " [10 -5  0]\n",
      " [15 35 45]]\n"
     ]
    }
   ],
   "source": [
    "C=5*A\n",
    "print(C)"
   ]
  },
  {
   "cell_type": "markdown",
   "metadata": {},
   "source": [
    "For multiplication you normally use:"
   ]
  },
  {
   "cell_type": "code",
   "execution_count": 5,
   "metadata": {},
   "outputs": [
    {
     "name": "stdout",
     "output_type": "stream",
     "text": [
      "[[ 9  3 12]\n",
      " [ 1 13 -3]\n",
      " [20 11 29]]\n"
     ]
    }
   ],
   "source": [
    "C=np.matmul(A,B)\n",
    "print(C)"
   ]
  },
  {
   "cell_type": "markdown",
   "metadata": {},
   "source": [
    "However in this lab we're going to use our own functions for implementing the naive method of matrix multiplication and Strassen's method. "
   ]
  },
  {
   "cell_type": "markdown",
   "metadata": {},
   "source": [
    "## Exercise 1\n",
    "\n",
    "Here is a basic function for implementing the naive method, assuming square matrices are input:"
   ]
  },
  {
   "cell_type": "code",
   "execution_count": 24,
   "metadata": {},
   "outputs": [],
   "source": [
    "def naivemult(A,B):\n",
    "\n",
    "    (m,n) = np.shape(A)\n",
    "        \n",
    "    C = np.zeros([m,m])\n",
    "    \n",
    "    for i in range(m): # for the rows\n",
    "        for j in range(m): # for the columns \n",
    "            for k in range(m): # to coordinate the cols and rows\n",
    "                C[i,j] += A[i,k] * B[k,j]\n",
    "        \n",
    "    return C\n",
    "\n",
    "# first i will grab the 0 column for matrix A\n",
    "# first j will grab the 0 column for matrix B\n",
    "# the k will run through a full interaction, running down the dimension of each vector\n",
    "# each interation will be added to the first empty value in C\n",
    "# next the j interaction will cycle over 1\n",
    "# this will grab the 1 column for matrix B and the next empty value to fill"
   ]
  },
  {
   "cell_type": "code",
   "execution_count": 15,
   "metadata": {},
   "outputs": [],
   "source": [
    "C=naivemult(A,B)"
   ]
  },
  {
   "cell_type": "markdown",
   "metadata": {},
   "source": [
    "Repeat the exercise you did last week for the insertion-sort algorithm on the naive matrix multiplication algorithm. I.e., obtain a graph of run time against *n*, for multiplying *n*x*n* matrices, and then do some analyses with your data to demonstrate that the time complexity is $O(n^3)$."
   ]
  },
  {
   "cell_type": "code",
   "execution_count": 1,
   "metadata": {},
   "outputs": [],
   "source": [
    "import numpy as np\n",
    "import time\n",
    "\n",
    "def timeit(somefunc,*args,repeats=10,**kwargs):\n",
    "    times=[]\n",
    "  \n",
    "    while repeats>0:\n",
    "        starttime=time.time()\n",
    "        ans=somefunc(*args,**kwargs)\n",
    "        endtime=time.time()\n",
    "        timetaken=endtime-starttime\n",
    "        times.append(timetaken)\n",
    "        repeats-=1\n",
    "    \n",
    "    mean=np.mean(times)\n",
    "    stdev=np.std(times)\n",
    " \n",
    "    return (mean,stdev)"
   ]
  },
  {
   "cell_type": "code",
   "execution_count": 22,
   "metadata": {},
   "outputs": [
    {
     "name": "stdout",
     "output_type": "stream",
     "text": [
      "[[ 6  7  7]\n",
      " [ 1  7  7]\n",
      " [ 4 10  6]]\n",
      "[[10  1  2]\n",
      " [ 2  0 10]\n",
      " [ 3  2  5]]\n"
     ]
    }
   ],
   "source": [
    "import random\n",
    "\n",
    "def n_vector(n):\n",
    "    return [random.randint(0,10) for n in range(n)]\n",
    "\n",
    "def n_matrix(n):\n",
    "    return np.array([n_vector(n) for z in range(n)])\n",
    "\n",
    "a = n_matrix(3)\n",
    "print(a)\n",
    "b = n_matrix(3)\n",
    "print(b)"
   ]
  },
  {
   "cell_type": "code",
   "execution_count": 56,
   "metadata": {},
   "outputs": [],
   "source": [
    "xs=[]\n",
    "ys=[]\n",
    "\n",
    "for n in range(1,150,10):\n",
    "    xs.append(n)\n",
    "    A=n_matrix(n)\n",
    "    B=n_matrix(n)\n",
    "    (mean,stdev)=timeit(naivemult, A, B,repeats=10)\n",
    "    ys.append(mean)"
   ]
  },
  {
   "cell_type": "code",
   "execution_count": 63,
   "metadata": {},
   "outputs": [
    {
     "data": {
      "image/png": "[encoded data removed]",
      "text/plain": [
       "<Figure size 640x480 with 1 Axes>"
      ]
     },
     "metadata": {},
     "output_type": "display_data"
    }
   ],
   "source": [
    "import matplotlib.pyplot as plt\n",
    "%matplotlib inline\n",
    "plt.scatter(xs,ys)\n",
    "plt.ylim(0,1)\n",
    "plt.xlabel(\"n size\")\n",
    "plt.ylabel(\"Average time\")\n",
    "plt.title(\"title\")\n",
    "plt.show()"
   ]
  },
  {
   "cell_type": "code",
   "execution_count": 64,
   "metadata": {},
   "outputs": [
    {
     "data": {
      "image/png": "[encoded data removed]",
      "text/plain": [
       "<Figure size 640x480 with 1 Axes>"
      ]
     },
     "metadata": {},
     "output_type": "display_data"
    }
   ],
   "source": [
    "logxs=[np.log10(x) for x in xs]\n",
    "logys=[np.log10(y) for y in ys]\n",
    "\n",
    "plt.scatter(logxs,logys)\n",
    "plt.ylim(-10,1)\n",
    "plt.xlabel(\"n size\")\n",
    "plt.ylabel(\"Average time\")\n",
    "plt.title(\"title\")\n",
    "plt.show()"
   ]
  },
  {
   "cell_type": "code",
   "execution_count": 66,
   "metadata": {},
   "outputs": [
    {
     "name": "stdout",
     "output_type": "stream",
     "text": [
      "Slope is 2.3541063371086137 and intercept is -5.298412258516499\n"
     ]
    }
   ],
   "source": [
    "import scipy.stats as stats\n",
    "\n",
    "res = stats.linregress(logxs, logys)\n",
    "print(\"Slope is {} and intercept is {}\".format(res.slope,res.intercept))"
   ]
  },
  {
   "cell_type": "markdown",
   "metadata": {},
   "source": [
    "Using *np.matmul* is more efficient because it makes use of parallelisation, which we'll discuss in lecture 4, and also runs the for loops in C, so there is less overhead with Python having to repeatedly execute commands in C.\n",
    "\n",
    "Repeat the exercise using this function to see how much more efficient it is."
   ]
  },
  {
   "cell_type": "code",
   "execution_count": 69,
   "metadata": {},
   "outputs": [],
   "source": [
    "xs2=[]\n",
    "ys2=[]\n",
    "\n",
    "for n in range(1,150,10):\n",
    "    xs2.append(n)\n",
    "    A=n_matrix(n)\n",
    "    B=n_matrix(n)\n",
    "    (mean,stdev)=timeit(np.matmul, A, B,repeats=10)\n",
    "    ys2.append(mean)"
   ]
  },
  {
   "cell_type": "code",
   "execution_count": 70,
   "metadata": {},
   "outputs": [
    {
     "data": {
      "image/png": "[encoded data removed]",
      "text/plain": [
       "<Figure size 640x480 with 1 Axes>"
      ]
     },
     "metadata": {},
     "output_type": "display_data"
    }
   ],
   "source": [
    "logxs2=[np.log10(x) for x in xs2]\n",
    "logys2=[np.log10(y) for y in ys2]\n",
    "\n",
    "plt.scatter(logxs2,logys2)\n",
    "plt.ylim(-10,1)\n",
    "plt.xlabel(\"n size\")\n",
    "plt.ylabel(\"Average time\")\n",
    "plt.title(\"title\")\n",
    "plt.show()"
   ]
  },
  {
   "cell_type": "code",
   "execution_count": 71,
   "metadata": {},
   "outputs": [
    {
     "name": "stdout",
     "output_type": "stream",
     "text": [
      "Slope is 1.2483603547391195 and intercept is -5.9333813177980055\n"
     ]
    }
   ],
   "source": [
    "import scipy.stats as stats\n",
    "\n",
    "res = stats.linregress(logxs2, logys2)\n",
    "print(\"Slope is {} and intercept is {}\".format(res.slope,res.intercept))"
   ]
  },
  {
   "cell_type": "markdown",
   "metadata": {},
   "source": [
    "## Exercise 2\n",
    "\n",
    "Write a function to implement Strassen's method. (If you are relatively new to Python, just copy and paste this from the solutions, or search for the code on the internet, or use AI to assist you.) You may assume the inputs are square matrices with $n = 2^p$,  where $p$ is a positive integer."
   ]
  },
  {
   "cell_type": "markdown",
   "metadata": {},
   "source": [
    "- https://www.youtube.com/watch?v=2IgZuVGwEb0\n",
    "- https://www.youtube.com/watch?v=OSelhO6Qnlc"
   ]
  },
  {
   "cell_type": "code",
   "execution_count": null,
   "metadata": {},
   "outputs": [],
   "source": []
  },
  {
   "cell_type": "markdown",
   "metadata": {},
   "source": [
    "\n",
    "- Compare run-times of the naive method and Strassen's method for matrix multiplication.  Consider square matrices where $n = 2^p,  p \\in \\{1,2,3,\\ldots\\}$.  To make really big matrices, you could generate random numbers to populate the elements.\n",
    "\n",
    "- What's the biggest value of $p$ you can use and obtain an output within a couple of minutes? Which method is faster for the largest value of $p$? \n",
    "\n",
    "- Because Strassen's method involves so many additions and subtractions, it is inefficient to use Strassen's method all the way down the recursion. If this is what you've done, then try making a small modification to not do recursion all the way down- instead switch to the naive method once the recursion has broken your large matrix down into matrices of a certain size. Can you then get Strassen's method to beat the naive method?\n",
    "\n"
   ]
  },
  {
   "cell_type": "code",
   "execution_count": null,
   "metadata": {
    "collapsed": true,
    "jupyter": {
     "outputs_hidden": true
    }
   },
   "outputs": [],
   "source": []
  },
  {
   "cell_type": "markdown",
   "metadata": {},
   "source": [
    "- (Optional) Can you work out how much memory you are using for each method? Is there a way to use less memory?"
   ]
  },
  {
   "cell_type": "markdown",
   "metadata": {},
   "source": []
  },
  {
   "cell_type": "markdown",
   "metadata": {},
   "source": [
    "## Optional extension exercises\n",
    "\n",
    "- Implement the naive methods of finding determinants and inverses of square matrices.  Can you handle 4x4 or even 5x5 matrices?  What happens to the running time as n gets larger?\n",
    "\n",
    "- Read up on LUP decomposition, and explore the run-time for finding the inverse of a matrix via LUP decomposition\n"
   ]
  },
  {
   "cell_type": "code",
   "execution_count": null,
   "metadata": {},
   "outputs": [],
   "source": []
  }
 ],
 "metadata": {
  "kernelspec": {
   "display_name": "algo",
   "language": "python",
   "name": "algo"
  },
  "language_info": {
   "codemirror_mode": {
    "name": "ipython",
    "version": 3
   },
   "file_extension": ".py",
   "mimetype": "text/x-python",
   "name": "python",
   "nbconvert_exporter": "python",
   "pygments_lexer": "ipython3",
   "version": "3.13.2"
  }
 },
 "nbformat": 4,
 "nbformat_minor": 4
}
