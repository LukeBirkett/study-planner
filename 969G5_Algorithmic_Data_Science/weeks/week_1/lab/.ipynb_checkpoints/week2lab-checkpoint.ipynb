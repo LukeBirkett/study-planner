{
 "cells": [
  {
   "cell_type": "markdown",
   "metadata": {},
   "source": [
    "# ADS Week 2 lab - Investigating Data Structures\n",
    "\n",
    "## This lab goes with the Week 1 lecture\n",
    "\n",
    "In the lecture we talked about the Python list data structure as well as dictionaries, hash tables and binary search trees.  Here we will be looking at simple operations on (long) lists and investigating how algorithmic choices impact run time.\n",
    "\n",
    "In order to do this we will be creating and processing lists of random numbers.  We can easily generate random numbers in Python using the *random* library."
   ]
  },
  {
   "cell_type": "code",
   "execution_count": 1,
   "metadata": {
    "pycharm": {
     "is_executing": true
    }
   },
   "outputs": [
    {
     "name": "stdout",
     "output_type": "stream",
     "text": [
      "44\n"
     ]
    }
   ],
   "source": [
    "import random\n",
    "\n",
    "startno=1\n",
    "endno=100\n",
    "\n",
    "#random.randint(a,b) returns a (pseudo-)random integer between a and b inclusive\n",
    "a=random.randint(startno,endno)\n",
    "print(a)"
   ]
  },
  {
   "cell_type": "markdown",
   "metadata": {},
   "source": [
    "### Exercise 1.\n",
    "Remember, if you have list *list1* you can add another *item* to the end by calling *list1.append(item)*\n",
    "\n",
    "Write a function *make_rand_list1(n)* which returns a list of *n* random integers (between 1 and 100).  This function should use the **append** method for lists as described above.\n",
    "\n",
    "*Hints:* For a reminder of how to create a function see the next bit of code below. You use **def** to begin creating a function and **return** to specify what the output of the function will be. You can use a **for** loop or a **while** loop to do the repeating (see the next bit of code below also for an example of a for loop)."
   ]
  },
  {
   "cell_type": "code",
   "execution_count": 2,
   "metadata": {},
   "outputs": [],
   "source": [
    "def make_rand_list1(n):\n",
    "    l = []\n",
    "    for i in range(0,n):\n",
    "        a=random.randint(1,100)\n",
    "        l.append(a)\n",
    "    return l"
   ]
  },
  {
   "cell_type": "code",
   "execution_count": 4,
   "metadata": {},
   "outputs": [
    {
     "name": "stdout",
     "output_type": "stream",
     "text": [
      "[3, 69, 100, 85, 13, 15, 98, 26, 72, 12]\n"
     ]
    }
   ],
   "source": [
    "print(make_rand_list1(10))"
   ]
  },
  {
   "cell_type": "code",
   "execution_count": 13,
   "metadata": {},
   "outputs": [
    {
     "data": {
      "text/plain": [
       "[46, 72, 6, 73, 70, 49, 32, 75, 83, 7]"
      ]
     },
     "execution_count": 13,
     "metadata": {},
     "output_type": "execute_result"
    }
   ],
   "source": [
    "[random.randint(1,100) for i in range(0,10)]"
   ]
  },
  {
   "cell_type": "markdown",
   "metadata": {},
   "source": [
    "## Keyword Arguments to Functions\n",
    "There are 2 ways of supplying arguments to functions in Python - by position and by name."
   ]
  },
  {
   "cell_type": "code",
   "execution_count": null,
   "metadata": {},
   "outputs": [],
   "source": [
    "def myfunc(a,b):\n",
    "    '''\n",
    "    myfunc() has 2 positional arguments.  \n",
    "    They have to be supplied each time the function is called.\n",
    "    They have to be supplied in the correct order\n",
    "    '''\n",
    "    \n",
    "    x=0\n",
    "    for i in range(100000):\n",
    "        x+=a*i/b*(i+1) \n",
    "    \n",
    "    return x\n"
   ]
  },
  {
   "cell_type": "code",
   "execution_count": null,
   "metadata": {},
   "outputs": [],
   "source": [
    "myfunc(2,10)"
   ]
  },
  {
   "cell_type": "code",
   "execution_count": null,
   "metadata": {},
   "outputs": [],
   "source": [
    "myfunc(10,2)"
   ]
  },
  {
   "cell_type": "code",
   "execution_count": null,
   "metadata": {},
   "outputs": [],
   "source": [
    "myfunc(20)"
   ]
  },
  {
   "cell_type": "markdown",
   "metadata": {},
   "source": [
    "However, sometimes we want to make arguments optional or supply default values.  We can do this using named or keyword arguments"
   ]
  },
  {
   "cell_type": "code",
   "execution_count": null,
   "metadata": {},
   "outputs": [],
   "source": [
    "def myfunc2(numerator=10,denominator=2):\n",
    "    '''\n",
    "    If no values are supplied at run-time then numerator will be 10 and denominator will be 2\n",
    "    '''\n",
    "    \n",
    "    x=0\n",
    "    for i in range(100000):\n",
    "        x+=numerator*i/denominator*(i+1) \n",
    "    \n",
    "    return x"
   ]
  },
  {
   "cell_type": "code",
   "execution_count": null,
   "metadata": {},
   "outputs": [],
   "source": [
    "myfunc2()"
   ]
  },
  {
   "cell_type": "code",
   "execution_count": null,
   "metadata": {},
   "outputs": [],
   "source": [
    "myfunc2(denominator=10,numerator=2) #we can give named arguments in any order provided we use the names"
   ]
  },
  {
   "cell_type": "code",
   "execution_count": null,
   "metadata": {},
   "outputs": [],
   "source": [
    "myfunc2(30,2) #no names given so default ordering is assumed"
   ]
  },
  {
   "cell_type": "code",
   "execution_count": null,
   "metadata": {},
   "outputs": [],
   "source": [
    "myfunc2(30)"
   ]
  },
  {
   "cell_type": "markdown",
   "metadata": {},
   "source": [
    "### Exercise 2\n",
    "Modify your code in exercise 1 so that it takes two optional keyword arguments that define the start and end of the range which the random numbers are selected from."
   ]
  },
  {
   "cell_type": "code",
   "execution_count": 31,
   "metadata": {},
   "outputs": [],
   "source": [
    "def make_rand_list1(start=0, end=10):\n",
    "    l = []\n",
    "    for i in range(start, end):\n",
    "        a=random.randint(1,100)\n",
    "        l.append(a)\n",
    "    return l"
   ]
  },
  {
   "cell_type": "markdown",
   "metadata": {},
   "source": [
    "### Exercise 3\n",
    "You may have thought of ways of creating this list which do not use the append method.  For example, you could\n",
    "* create a list containing a new random number and use list concatenation from the left: [r]+list1\n",
    "* create a list containing a new random number and use list concatenation from the right: list1 + [r]\n",
    "* use a \"list comprehension\": list1=[ ... for r in range(n)]\n",
    "\n",
    "Can you create Python functions for each of these algorithms (and any others you can think of)?\n",
    "\n",
    "Which of your functions do you think is the best?  Which do you think will run the fastest?"
   ]
  },
  {
   "cell_type": "code",
   "execution_count": 30,
   "metadata": {},
   "outputs": [],
   "source": [
    "def make_rand_list2(start=0, end=10):\n",
    "    l = []\n",
    "    for i in range(start, end):\n",
    "        a=[random.randint(1,100)]\n",
    "        l = a + l\n",
    "    return l"
   ]
  },
  {
   "cell_type": "code",
   "execution_count": 32,
   "metadata": {},
   "outputs": [
    {
     "data": {
      "text/plain": [
       "[4, 92, 62, 30, 41, 16, 73, 12, 42, 74]"
      ]
     },
     "execution_count": 32,
     "metadata": {},
     "output_type": "execute_result"
    }
   ],
   "source": [
    "make_rand_list2()"
   ]
  },
  {
   "cell_type": "code",
   "execution_count": null,
   "metadata": {
    "collapsed": true,
    "jupyter": {
     "outputs_hidden": true
    }
   },
   "outputs": [],
   "source": []
  },
  {
   "cell_type": "code",
   "execution_count": 35,
   "metadata": {},
   "outputs": [],
   "source": [
    "def make_rand_list_comp(start=0, end=10):\n",
    "    l = [random.randint(1,100) for i in range(start,end)]\n",
    "    return l"
   ]
  },
  {
   "cell_type": "code",
   "execution_count": 36,
   "metadata": {},
   "outputs": [
    {
     "data": {
      "text/plain": [
       "[52, 53, 22, 11, 10, 58, 78, 85, 26, 46]"
      ]
     },
     "execution_count": 36,
     "metadata": {},
     "output_type": "execute_result"
    }
   ],
   "source": [
    "make_rand_list_comp()"
   ]
  },
  {
   "cell_type": "markdown",
   "metadata": {},
   "source": [
    "## Timing Code\n",
    "We can time how long it takes code to run on the kernel using the *time* library"
   ]
  },
  {
   "cell_type": "code",
   "execution_count": 23,
   "metadata": {},
   "outputs": [
    {
     "name": "stdout",
     "output_type": "stream",
     "text": [
      "Time taken was 0.1109170913696289s\n"
     ]
    }
   ],
   "source": [
    "import time\n",
    "\n",
    "starttime=time.time() #start the stopwatch\n",
    "'''\n",
    "now put the code you want to time\n",
    "'''\n",
    "x=0\n",
    "for i in range(10000):\n",
    "    x+=2**i\n",
    "'''\n",
    "code being timed completed\n",
    "'''\n",
    "endtime=time.time() #stop the stopwatch\n",
    "timetaken=endtime-starttime\n",
    "print(\"Time taken was {}s\".format(timetaken)) #.format() can be called on a String for nice formatting (alternative to string concatenation)"
   ]
  },
  {
   "cell_type": "markdown",
   "metadata": {},
   "source": [
    "If you repeatedly run the cell above, you will notice that the times vary (a lot).  This is mainly due to the fact that your computer is doing other things at the same time.   Further, results will vary greatly from one machine to another.  However, by performing a large number of repetitions and taking an average, we can get an idea of how fast a snippet of code will run on the current machine.\n",
    "\n",
    "Below, there is code for a timeit() function.  This is a higher level function which takes as its first argument a function *somefunc*. This function may have its own positional arguments (\\*args) and its own keyword arguments (\\*\\*kwargs).  These must be passed to *somefunc* when it is called from within timeit() "
   ]
  },
  {
   "cell_type": "code",
   "execution_count": 25,
   "metadata": {},
   "outputs": [
    {
     "name": "stdout",
     "output_type": "stream",
     "text": [
      "Collecting numpy\n",
      "  Downloading numpy-2.3.3-cp313-cp313-macosx_14_0_arm64.whl.metadata (62 kB)\n",
      "Downloading numpy-2.3.3-cp313-cp313-macosx_14_0_arm64.whl (5.1 MB)\n",
      "\u001b[2K   \u001b[90m━━━━━━━━━━━━━━━━━━━━━━━━━━━━━━━━━━━━━━━━\u001b[0m \u001b[32m5.1/5.1 MB\u001b[0m \u001b[31m19.5 MB/s\u001b[0m eta \u001b[36m0:00:00\u001b[0ma \u001b[36m0:00:01\u001b[0m\n",
      "Installing collected packages: numpy\n",
      "Successfully installed numpy-2.3.3\n",
      "\n",
      "\u001b[1m[\u001b[0m\u001b[34;49mnotice\u001b[0m\u001b[1;39;49m]\u001b[0m\u001b[39;49m A new release of pip is available: \u001b[0m\u001b[31;49m25.0\u001b[0m\u001b[39;49m -> \u001b[0m\u001b[32;49m25.2\u001b[0m\n",
      "\u001b[1m[\u001b[0m\u001b[34;49mnotice\u001b[0m\u001b[1;39;49m]\u001b[0m\u001b[39;49m To update, run: \u001b[0m\u001b[32;49mpip install --upgrade pip\u001b[0m\n"
     ]
    }
   ],
   "source": [
    "import sys\n",
    "!{sys.executable} -m pip install numpy"
   ]
  },
  {
   "cell_type": "code",
   "execution_count": 38,
   "metadata": {},
   "outputs": [],
   "source": [
    "import numpy as np\n",
    "\n",
    "def timeit(somefunc,*args,repeats=100,**kwargs):\n",
    "    times=[]\n",
    "    for i in range(repeats):\n",
    "        starttime=time.time()\n",
    "        ans=somefunc(*args,**kwargs)\n",
    "        endtime=time.time()\n",
    "        timetaken=endtime-starttime\n",
    "        times.append(timetaken)\n",
    "    \n",
    "    mean=np.mean(times) # compute the mean time taken\n",
    "    stdev=np.std(times) # compute the standard deviation of times taken (how variable is the time taken)\n",
    "\n",
    "    mean_str = f\"{mean:.6f} s\"\n",
    "    stdev_str = f\"{stdev:.6f} s\"\n",
    "\n",
    "    return (mean_str,stdev_str)   #The first output will be the mean time taken and \n",
    "                                  #the second output will be the standard deviation of times taken"
   ]
  },
  {
   "cell_type": "code",
   "execution_count": 91,
   "metadata": {},
   "outputs": [
    {
     "data": {
      "text/plain": [
       "('0.000173 s', '0.000152 s')"
      ]
     },
     "execution_count": 91,
     "metadata": {},
     "output_type": "execute_result"
    }
   ],
   "source": [
    "timeit(make_rand_list2,0,100)"
   ]
  },
  {
   "cell_type": "code",
   "execution_count": 85,
   "metadata": {},
   "outputs": [
    {
     "data": {
      "text/plain": [
       "('0.000090 s', '0.000046 s')"
      ]
     },
     "execution_count": 85,
     "metadata": {},
     "output_type": "execute_result"
    }
   ],
   "source": [
    "timeit(make_rand_list_comp,0,100)"
   ]
  },
  {
   "cell_type": "code",
   "execution_count": null,
   "metadata": {},
   "outputs": [],
   "source": []
  },
  {
   "cell_type": "markdown",
   "metadata": {},
   "source": [
    "# Exercise 4\n",
    "Write some code to time the running of make_rand_list1(n) where n is a multiple of 10 between 0 and 1000. Store the values of n in a list called xs and the mean times (returned by timeit()) in a list called ys. (If you are on a super-fast computer, you can add one or two 0s above to make it take a bit longer.)"
   ]
  },
  {
   "cell_type": "code",
   "execution_count": 157,
   "metadata": {},
   "outputs": [],
   "source": [
    "xs = [] # n\n",
    "ys = [] # time\n",
    "\n",
    "def ten_runner(somefunc, n, repeats=100): \n",
    "    # print(f\"input of n = {n}\")\n",
    "\n",
    "    # between 0 and 1000 and multiple of 10\n",
    "    if n > 1000:\n",
    "        m = 1000\n",
    "    elif n < 0:\n",
    "        m = 0\n",
    "    else:\n",
    "        diff = n % 10\n",
    "        if diff >= 5:\n",
    "            m = n + (10-diff)\n",
    "        else:\n",
    "            m = n - diff\n",
    "\n",
    "    # print(f\"processed to m = {m}\")\n",
    "\n",
    "    times=[]\n",
    "    for i in range(repeats):\n",
    "        starttime=time.time()\n",
    "        ans=somefunc(end=m)\n",
    "        endtime=time.time()\n",
    "        timetaken=endtime-starttime\n",
    "        times.append(timetaken)\n",
    "\n",
    "        mean=np.mean(times)\n",
    "        stdev=np.std(times)\n",
    "\n",
    "        mean_str = f\"{mean:.6f} s\"\n",
    "        stdev_str = f\"{stdev:.6f} s\"\n",
    "\n",
    "    xs.append(m)\n",
    "    ys.append(mean)\n",
    "\n",
    "    # print(xs)\n",
    "    # print(ys)"
   ]
  },
  {
   "cell_type": "code",
   "execution_count": 158,
   "metadata": {},
   "outputs": [],
   "source": [
    "    ten_runner(make_rand_list_comp, n=733)"
   ]
  },
  {
   "cell_type": "code",
   "execution_count": 159,
   "metadata": {},
   "outputs": [],
   "source": [
    "def make_rand_list_comp_1000(start=0, end=50):\n",
    "    l = [random.randint(1,1001) for i in range(start,end)]\n",
    "    return l"
   ]
  },
  {
   "cell_type": "code",
   "execution_count": 170,
   "metadata": {},
   "outputs": [
    {
     "name": "stdout",
     "output_type": "stream",
     "text": [
      "[611, 695, 811, 973, 944, 645, 245, 109, 278, 8, 640, 777, 617, 75, 957, 695, 840, 126, 562, 980, 456, 429, 212, 143, 357, 549, 150, 937, 744, 150, 876, 991, 542, 196, 452, 674, 566, 214, 181, 438, 47, 645, 896, 139, 172, 4, 585, 74, 364, 692]\n"
     ]
    }
   ],
   "source": [
    "# make a list of numbers to iterate through so the function can be run N times\n",
    "_l = make_rand_list_comp_1000()\n",
    "print(_l)"
   ]
  },
  {
   "cell_type": "code",
   "execution_count": 169,
   "metadata": {},
   "outputs": [],
   "source": [
    "# Running the function N times and timing it\n",
    "for i in _l:\n",
    "    ten_runner(make_rand_list_comp, n=i)"
   ]
  },
  {
   "cell_type": "code",
   "execution_count": null,
   "metadata": {},
   "outputs": [],
   "source": [
    "# print(xs)\n",
    "# print(ys)"
   ]
  },
  {
   "cell_type": "markdown",
   "metadata": {},
   "source": [
    "## Plotting the Results\n",
    "For a really simple scatterplot of the results, you can use the following code"
   ]
  },
  {
   "cell_type": "code",
   "execution_count": 134,
   "metadata": {},
   "outputs": [
    {
     "name": "stdout",
     "output_type": "stream",
     "text": [
      "Collecting matplotlib\n",
      "  Downloading matplotlib-3.10.6-cp313-cp313-macosx_11_0_arm64.whl.metadata (11 kB)\n",
      "Collecting contourpy>=1.0.1 (from matplotlib)\n",
      "  Using cached contourpy-1.3.3-cp313-cp313-macosx_11_0_arm64.whl.metadata (5.5 kB)\n",
      "Collecting cycler>=0.10 (from matplotlib)\n",
      "  Using cached cycler-0.12.1-py3-none-any.whl.metadata (3.8 kB)\n",
      "Collecting fonttools>=4.22.0 (from matplotlib)\n",
      "  Downloading fonttools-4.60.1-cp313-cp313-macosx_10_13_universal2.whl.metadata (112 kB)\n",
      "Collecting kiwisolver>=1.3.1 (from matplotlib)\n",
      "  Using cached kiwisolver-1.4.9-cp313-cp313-macosx_11_0_arm64.whl.metadata (6.3 kB)\n",
      "Requirement already satisfied: numpy>=1.23 in ./algo_w1_venv/lib/python3.13/site-packages (from matplotlib) (2.3.3)\n",
      "Requirement already satisfied: packaging>=20.0 in ./algo_w1_venv/lib/python3.13/site-packages (from matplotlib) (25.0)\n",
      "Collecting pillow>=8 (from matplotlib)\n",
      "  Using cached pillow-11.3.0-cp313-cp313-macosx_11_0_arm64.whl.metadata (9.0 kB)\n",
      "Collecting pyparsing>=2.3.1 (from matplotlib)\n",
      "  Downloading pyparsing-3.2.5-py3-none-any.whl.metadata (5.0 kB)\n",
      "Requirement already satisfied: python-dateutil>=2.7 in ./algo_w1_venv/lib/python3.13/site-packages (from matplotlib) (2.9.0.post0)\n",
      "Requirement already satisfied: six>=1.5 in ./algo_w1_venv/lib/python3.13/site-packages (from python-dateutil>=2.7->matplotlib) (1.17.0)\n",
      "Downloading matplotlib-3.10.6-cp313-cp313-macosx_11_0_arm64.whl (8.1 MB)\n",
      "\u001b[2K   \u001b[90m━━━━━━━━━━━━━━━━━━━━━━━━━━━━━━━━━━━━━━━━\u001b[0m \u001b[32m8.1/8.1 MB\u001b[0m \u001b[31m16.2 MB/s\u001b[0m eta \u001b[36m0:00:00\u001b[0ma \u001b[36m0:00:01\u001b[0m\n",
      "\u001b[?25hUsing cached contourpy-1.3.3-cp313-cp313-macosx_11_0_arm64.whl (274 kB)\n",
      "Using cached cycler-0.12.1-py3-none-any.whl (8.3 kB)\n",
      "Downloading fonttools-4.60.1-cp313-cp313-macosx_10_13_universal2.whl (2.8 MB)\n",
      "\u001b[2K   \u001b[90m━━━━━━━━━━━━━━━━━━━━━━━━━━━━━━━━━━━━━━━━\u001b[0m \u001b[32m2.8/2.8 MB\u001b[0m \u001b[31m16.0 MB/s\u001b[0m eta \u001b[36m0:00:00\u001b[0m\n",
      "\u001b[?25hUsing cached kiwisolver-1.4.9-cp313-cp313-macosx_11_0_arm64.whl (64 kB)\n",
      "Using cached pillow-11.3.0-cp313-cp313-macosx_11_0_arm64.whl (4.7 MB)\n",
      "Downloading pyparsing-3.2.5-py3-none-any.whl (113 kB)\n",
      "Installing collected packages: pyparsing, pillow, kiwisolver, fonttools, cycler, contourpy, matplotlib\n",
      "Successfully installed contourpy-1.3.3 cycler-0.12.1 fonttools-4.60.1 kiwisolver-1.4.9 matplotlib-3.10.6 pillow-11.3.0 pyparsing-3.2.5\n",
      "\n",
      "\u001b[1m[\u001b[0m\u001b[34;49mnotice\u001b[0m\u001b[1;39;49m]\u001b[0m\u001b[39;49m A new release of pip is available: \u001b[0m\u001b[31;49m25.0\u001b[0m\u001b[39;49m -> \u001b[0m\u001b[32;49m25.2\u001b[0m\n",
      "\u001b[1m[\u001b[0m\u001b[34;49mnotice\u001b[0m\u001b[1;39;49m]\u001b[0m\u001b[39;49m To update, run: \u001b[0m\u001b[32;49mpip install --upgrade pip\u001b[0m\n"
     ]
    }
   ],
   "source": [
    "import sys\n",
    "!{sys.executable} -m pip install matplotlib"
   ]
  },
  {
   "cell_type": "code",
   "execution_count": 135,
   "metadata": {},
   "outputs": [],
   "source": [
    "import matplotlib.pyplot as plt"
   ]
  },
  {
   "cell_type": "code",
   "execution_count": 171,
   "metadata": {},
   "outputs": [
    {
     "data": {
      "text/plain": [
       "Text(0.5, 1.0, 'Average length of time to generate lists of different lengths')"
      ]
     },
     "execution_count": 171,
     "metadata": {},
     "output_type": "execute_result"
    },
    {
     "data": {
      "image/png": "[encoded data removed]",
      "text/plain": [
       "<Figure size 640x480 with 1 Axes>"
      ]
     },
     "metadata": {},
     "output_type": "display_data"
    }
   ],
   "source": [
    "plt.scatter(xs,ys,label='make_rand_list1')\n",
    "plt.ylim(0,0.003)  #you will need to play around with the upper limit depending on your computer\n",
    "plt.legend(loc='upper left')\n",
    "plt.xlabel('Length of list')\n",
    "plt.ylabel('Time (s)')\n",
    "plt.title('Average length of time to generate lists of different lengths')"
   ]
  },
  {
   "cell_type": "markdown",
   "metadata": {},
   "source": [
    "### Exercise 5\n",
    "Can you time all of your different functions for making a list of random integers (for varying values of n) and plot the results on the same graph?  What can you conclude about the different algorithms?"
   ]
  },
  {
   "cell_type": "code",
   "execution_count": 165,
   "metadata": {},
   "outputs": [],
   "source": [
    "def make_rand_list_1000(start=0, end=50):\n",
    "    l = []\n",
    "    for i in range(start, end):\n",
    "        a=[random.randint(1,1001)]\n",
    "        l = a + l\n",
    "    return l"
   ]
  },
  {
   "cell_type": "code",
   "execution_count": 166,
   "metadata": {},
   "outputs": [],
   "source": [
    "_l = make_rand_list_1000()\n",
    "for i in _l:\n",
    "    ten_runner(make_rand_list_1000, n=i)"
   ]
  },
  {
   "cell_type": "markdown",
   "metadata": {},
   "source": [
    "## Extension\n",
    "\n",
    "- How big are the standard deviations of run-time over repeats? Can you repeat Exercise 5, but this time plotting also the standard errors (the standard error is, roughly, the expected error in the estimate of the mean time taken, and is given by the standard deviation divided by the square root of the number of repeats). You can use *plt.errorbar*. \n",
    "\n",
    "\n",
    "- Does it make a difference if you do all the repeats for one list length one after the other, or if you do all list lengths once, and then all list lengths again, and again, for the given number of repeats?\n",
    "\n",
    "\n",
    "- You can sort any of your lists using the sorted() function.  Investigate how long it takes to find a number in a sorted() list by\n",
    "\n",
    "    1. Checking each item in turn.\n",
    "    2. Using a binary search strategy.  In other words, start in the middle of the list, compare the current item with your target item and move to the left or right accordingly.  Take the middle of that sub-list and so on until the item is found.\n",
    "\n",
    "To make this more realistic, make the range that your random numbers are selected from much larger than your longest lists (in order to reduce the number of repeated items in the lists). "
   ]
  },
  {
   "cell_type": "code",
   "execution_count": 173,
   "metadata": {},
   "outputs": [],
   "source": [
    "def ten_factor(n):\n",
    "    if n > 1000:\n",
    "        m = 1000\n",
    "    elif n < 0:\n",
    "        m = 0\n",
    "    else:\n",
    "        diff = n % 10\n",
    "        if diff >= 5:\n",
    "            m = n + (10-diff)\n",
    "        else:\n",
    "            m = n - diff   \n",
    "    return m"
   ]
  },
  {
   "cell_type": "code",
   "execution_count": 205,
   "metadata": {},
   "outputs": [],
   "source": [
    "def my_timer(somefunc, rp, m):\n",
    "    times=[]\n",
    "    for i in range(rp):\n",
    "        starttime=time.time()\n",
    "        ans=somefunc(end=m)\n",
    "        endtime=time.time()\n",
    "        timetaken=endtime-starttime\n",
    "        times.append(timetaken)\n",
    "\n",
    "        mean=np.mean(times)\n",
    "        stdev=np.std(times)\n",
    "\n",
    "    return mean, stdev"
   ]
  },
  {
   "cell_type": "code",
   "execution_count": 210,
   "metadata": {},
   "outputs": [],
   "source": [
    "def ten_runner(somefunc, n, repeats=100, type=\"mean\"):\n",
    "    m = ten_factor(n)\n",
    "    mean, stdev = my_timer(somefunc, rp=repeats, m=m)\n",
    "\n",
    "    xs.append(m)\n",
    "    if type == \"mean\":\n",
    "        ys.append(mean)\n",
    "    elif type == \"sd\":\n",
    "        ys.append(stdev)"
   ]
  },
  {
   "cell_type": "code",
   "execution_count": 219,
   "metadata": {},
   "outputs": [],
   "source": [
    "xs = [] # n\n",
    "ys = [] # time"
   ]
  },
  {
   "cell_type": "code",
   "execution_count": 220,
   "metadata": {},
   "outputs": [],
   "source": [
    "make_a_list = make_rand_list_comp_1000(start=0, end=100) # these are the list lengths that the func will make"
   ]
  },
  {
   "cell_type": "code",
   "execution_count": 221,
   "metadata": {},
   "outputs": [],
   "source": [
    "for i in make_a_list:\n",
    "    ten_runner(make_rand_list_comp_1000, i, repeats=100, type=\"sd\")"
   ]
  },
  {
   "cell_type": "code",
   "execution_count": 224,
   "metadata": {},
   "outputs": [
    {
     "data": {
      "text/plain": [
       "Text(0.5, 1.0, 'Average length of time to generate lists of different lengths')"
      ]
     },
     "execution_count": 224,
     "metadata": {},
     "output_type": "execute_result"
    },
    {
     "data": {
      "image/png": "[encoded data removed]",
      "text/plain": [
       "<Figure size 640x480 with 1 Axes>"
      ]
     },
     "metadata": {},
     "output_type": "display_data"
    }
   ],
   "source": [
    "plt.scatter(xs,ys,label='make_rand_list1')\n",
    "plt.ylim(0,0.003)  #you will need to play around with the upper limit depending on your computer\n",
    "plt.legend(loc='upper left')\n",
    "plt.xlabel('Length of list')\n",
    "plt.ylabel('Time (s)')\n",
    "plt.title('Standard Dev to generate lists of different lengths')"
   ]
  },
  {
   "cell_type": "code",
   "execution_count": 225,
   "metadata": {},
   "outputs": [],
   "source": [
    "for i in make_a_list:\n",
    "    ten_runner(make_rand_list_1000, i, repeats=100, type=\"sd\")"
   ]
  },
  {
   "cell_type": "code",
   "execution_count": 226,
   "metadata": {},
   "outputs": [
    {
     "data": {
      "text/plain": [
       "Text(0.5, 1.0, 'Average length of time to generate lists of different lengths')"
      ]
     },
     "execution_count": 226,
     "metadata": {},
     "output_type": "execute_result"
    },
    {
     "data": {
      "image/png": "[encoded data removed]",
      "text/plain": [
       "<Figure size 640x480 with 1 Axes>"
      ]
     },
     "metadata": {},
     "output_type": "display_data"
    }
   ],
   "source": [
    "plt.scatter(xs,ys,label='make_rand_list1')\n",
    "plt.ylim(0,0.003)  #you will need to play around with the upper limit depending on your computer\n",
    "plt.legend(loc='upper left')\n",
    "plt.xlabel('Length of list')\n",
    "plt.ylabel('Time (s)')\n",
    "plt.title('Standard Dev to generate lists of different lengths')"
   ]
  }
 ],
 "metadata": {
  "kernelspec": {
   "display_name": "algo_w1_venv",
   "language": "python",
   "name": "algo_w1_venv"
  },
  "language_info": {
   "codemirror_mode": {
    "name": "ipython",
    "version": 3
   },
   "file_extension": ".py",
   "mimetype": "text/x-python",
   "name": "python",
   "nbconvert_exporter": "python",
   "pygments_lexer": "ipython3",
   "version": "3.13.2"
  }
 },
 "nbformat": 4,
 "nbformat_minor": 4
}
