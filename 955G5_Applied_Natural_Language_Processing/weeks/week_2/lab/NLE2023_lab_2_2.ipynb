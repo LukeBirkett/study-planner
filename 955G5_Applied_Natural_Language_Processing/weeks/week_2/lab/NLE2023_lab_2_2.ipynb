{
  "cells": [
    {
      "cell_type": "markdown",
      "metadata": {
        "id": "Pq7c607fjXsS"
      },
      "source": [
        "# Week 2: Preprocessing Text (Part 2)\n"
      ]
    },
    {
      "cell_type": "code",
      "execution_count": null,
      "metadata": {
        "id": "vo-uSUEwjXsU"
      },
      "outputs": [],
      "source": [
        "#necessary library imports and setup introduced previously\n",
        "\n",
        "import sys\n",
        "import re\n",
        "import pandas as pd\n",
        "#import matplotlib.pyplot as plt\n",
        "#%matplotlib inline\n",
        "from itertools import zip_longest\n",
        "import nltk\n",
        "from nltk.corpus import reuters\n",
        "from nltk.tokenize import word_tokenize\n",
        "#nltk.download('punkt')"
      ]
    },
    {
      "cell_type": "code",
      "execution_count": null,
      "metadata": {
        "id": "baDBuSxYlE0Q"
      },
      "outputs": [],
      "source": [
        "##uncomment these lines below if working on colab\n",
        "#from google.colab import drive\n",
        "##mount google drive\n",
        "#drive.mount('/content/drive/')\n"
      ]
    },
    {
      "cell_type": "markdown",
      "metadata": {
        "id": "-7FNGNyljXsY"
      },
      "source": [
        "## Overview\n",
        "Remember, a raw text document is just a sequence of characters. There are a number of basic steps that are often performed when processing natural language text. In lab sessions this week we are covering some of the basic text pre-processing methods. In the previous notebook, you looked at\n",
        "- <b> segmentation</b> - breaking down large units of text into smaller units such as documents and sentences.\n",
        "- <b> tokenisation</b> - roughly speaking, this involves grouping characters into words;\n",
        "\n",
        "In this notebook, you will be looking at:\n",
        "- <b>case normalisation</b> - this involves converting all of the text into lower case;\n",
        "- <b>stemming</b> - this involves removing a word's inflections to find the stem; and\n",
        "- <b>punctuation and stop-word removal</b> - stop-words are common functions words that in some situations can be ignored.\n",
        "\n",
        "Note that we do not always apply all of the above preprocessing methods; it depends on the application. One of the things that you will be learning about in this module, is when the application of each of these methods is, and is not, appropriate."
      ]
    },
    {
      "cell_type": "markdown",
      "metadata": {
        "id": "7l6pjAZljXsY"
      },
      "source": [
        "## Normalising text and removing unimportant tokens\n",
        "In this next section we will consider several methods that pre-process (tokenised) text in ways that are sometimes helpful to 'downstream' processing."
      ]
    },
    {
      "cell_type": "markdown",
      "metadata": {
        "id": "CQbWxHPFjXsZ"
      },
      "source": [
        "### Number and case normalisation\n",
        "Without any kind of normalisation, the tokens `\"help\"` and `\"Help\"` are two distinct types. In some contexts you may not want to distinguish them.\n",
        "\n",
        "Another example, is that `\"1998\"` and `\"1999\"` count as distinct types. There are situations where there is no need to distinction between different numbers.\n",
        "\n",
        "The following code performs case normalisation and replaces tokens that consist of digits by \"NUM\".\n",
        "- Python provides a [number of functions](http://docs.python.org/library/stdtypes.html#string-methods), which you can call in order to analyse their content, or produce new strings from them.\n",
        "- The code uses a [list comprehension](http://docs.python.org/tutorial/datastructures.html#list-comprehensions) to build a new list by looping through and filtering items."
      ]
    },
    {
      "cell_type": "code",
      "execution_count": null,
      "metadata": {
        "id": "GGESwOoSjXsZ",
        "scrolled": false
      },
      "outputs": [],
      "source": [
        "tokens = [\"The\",\"cake\",\"is\",\"a\",\"LIE\"]      #a list of tokens, some of which contain uppercase letters\n",
        "print([token.lower() for token in tokens])   #print newly created list of all lowercase tokens\n",
        "\n",
        "numbers = ['in', 'the', 'year', '120', 'of', 'the', 'fourth', 'age', ',', 'after', '120', 'years', 'as', 'king', ',' , 'aragorn', 'died', 'at', 'the', 'age', 'of', '210']\n",
        "print([\"NUM\" if token.isdigit() else token for token in numbers])  #replace all number tokens with \"NUM\" in a new list of tokens"
      ]
    },
    {
      "cell_type": "markdown",
      "metadata": {
        "id": "S4uE15AXjXsc"
      },
      "source": [
        "### Exercise 1.1\n",
        "- Write a function <code>number_normalise</code> which\n",
        "    * replaces numbers with NUM;\n",
        "    * and replaces tokens such as `\"4th\"`, `\"1st\"` and `\"22nd\"` with `\"Nth\"`.\n",
        "- Test your code on the list `[\"Within\",\"5\",\"minutes\",\",\",\"the\", \"1st\", \"and\", \"2nd\", \"placed\", \"runners\", \"lapped\", \"the\", \"5th\",\".\"]`.\n",
        "- Check that the token `\"and\"` isn't changed to `\"Nth\"`.\n",
        "- You will find [this page](http://docs.python.org/library/stdtypes.html#string-methods) useful.\n"
      ]
    },
    {
      "cell_type": "code",
      "execution_count": null,
      "metadata": {
        "id": "62J_VD4GjXsd"
      },
      "outputs": [],
      "source": []
    },
    {
      "cell_type": "code",
      "execution_count": null,
      "metadata": {
        "id": "pqGsM4K0jXsf"
      },
      "outputs": [],
      "source": []
    },
    {
      "cell_type": "markdown",
      "metadata": {
        "id": "eTBYKFVVjXsj"
      },
      "source": [
        "### Exercise 1.2\n",
        "- Complete the code in the cell below. You have just two lines to complete. The goal is to use a large sample of the Reuters corpus to establish the extent to which vocabulary size is reduced when number and case normalisation is applied.\n",
        "- For each of the two incomplete lines you should ideally use nested list comprehensions. This is described in Section 5.1.4 in [this document](http://docs.python.org/tutorial/datastructures.html#list-comprehensions).  Alternatively, you could define functions which iterate over the sentences in each sample and the tokens within each sentence.\n"
      ]
    },
    {
      "cell_type": "code",
      "execution_count": null,
      "metadata": {
        "id": "JEtQ39z_nEGm"
      },
      "outputs": [],
      "source": []
    },
    {
      "cell_type": "code",
      "execution_count": null,
      "metadata": {
        "id": "qePwmgrnjXsk"
      },
      "outputs": [],
      "source": [
        "#the sample_sentences() function from the last lab will be useful here\n",
        "#next week we will look at including useful functions like this in a utils python file which we can import from\n",
        "import random\n",
        "\n",
        "def sample_sentences(corpus,sample_size):\n",
        "\n",
        "    size=len(corpus)\n",
        "    ids=random.sample(range(size),sample_size)\n",
        "    sample=[corpus[i] for i in ids]\n",
        "    return sample\n",
        "\n",
        "#in vocabulary_size(), we use a dictionary to store the frequency of each token type in the corpus\n",
        "#the number of keys in this dictionary is the size of the vocab\n",
        "def vocabulary_size(sentences):\n",
        "    tok_counts = {}\n",
        "    for sentence in sentences:\n",
        "        for token in sentence:\n",
        "            tok_counts[token]=tok_counts.get(token,0)+1\n",
        "    return len(tok_counts.keys())\n",
        "\n",
        "\n",
        "\n",
        "sample_size = 10000\n",
        "\n",
        "raw_sentences = sample_sentences(reuters.sents(),sample_size)\n",
        "\n",
        "############################################\n",
        "lowered_sentences = # complete this line\n",
        "normalised_sentences = # complete this line\n",
        "\n",
        "############################################\n",
        "\n",
        "raw_vocab_size = vocabulary_size(tokenised_sentences)\n",
        "normalised_vocab_size = vocabulary_size(normalised_sentences)\n",
        "print(\"Normalisation produced a {0:.2f}% reduction in vocabulary size from {1} to {2}\".format(\n",
        "    100*(raw_vocab_size - normalised_vocab_size)/raw_vocab_size,raw_vocab_size,normalised_vocab_size))\n"
      ]
    },
    {
      "cell_type": "code",
      "execution_count": null,
      "metadata": {
        "id": "OozqCpzQjXsn"
      },
      "outputs": [],
      "source": []
    },
    {
      "cell_type": "markdown",
      "metadata": {
        "id": "sXE01afsjXsq"
      },
      "source": [
        "## Stemming\n",
        "A considerable amount of the lexical variation found in documents results from the use of morphological variants which we might not wish to distinguish - e.g. when determining the topic of a document. An easy way to remove these varied forms is to use a stemmer. NLTK includes a number of stemmers in the `nltk.stem` package.\n",
        "- [NLTK stem module API](https://www.nltk.org/api/nltk.stem.html)\n",
        "\n",
        "- [NLTK Porter stemmer](https://www.nltk.org/api/nltk.stem.porter.html)"
      ]
    },
    {
      "cell_type": "markdown",
      "metadata": {
        "id": "LYvUBOUnjXsr"
      },
      "source": [
        "- Look at the code below to show how the NLTK implementation of the Porter stemmer in `nltk.stem.porter.PorterStemmer` stems a sample of sentences in the Reuters corpus.\n",
        "- Have a close look at the differences between the columns. This will give you a good indication of what the stemmer does."
      ]
    },
    {
      "cell_type": "code",
      "execution_count": null,
      "metadata": {
        "id": "RLMKMiU3jXsr"
      },
      "outputs": [],
      "source": [
        "from nltk.stem.porter import PorterStemmer\n",
        "\n",
        "st = PorterStemmer()\n",
        "\n",
        "sample_size = 10\n",
        "\n",
        "tokenised_sentences = sample_sentences(reuters.sents(),sample_size)\n",
        "\n",
        "for sentence in tokenised_sentences:\n",
        "    df = pd.DataFrame(list(zip_longest(sentence,[st.stem(token) for token in sentence])),columns=[\"BEFORE\",\"AFTER\"])\n",
        "    display(df)"
      ]
    },
    {
      "cell_type": "markdown",
      "metadata": {
        "id": "ZaBir7EVjXsw"
      },
      "source": [
        "### Exercise 2.1\n",
        "- By looking at the impact on a large sample of the Reuters corpus, establish the extent to which vocabulary size is reduced by stemming.\n",
        "- Write code to do this in the empty cell below. You should be able to re-use a lot of the code from the code you used when measuring the impact of lower case and number normalisation."
      ]
    },
    {
      "cell_type": "code",
      "execution_count": null,
      "metadata": {
        "id": "laXsH-MZjXsx"
      },
      "outputs": [],
      "source": []
    },
    {
      "cell_type": "markdown",
      "metadata": {
        "id": "ZzA9Cl6ZjXsz"
      },
      "source": [
        "### Exercise 2.2\n",
        "* Try using the WordNetLemmatizer <code>nltk.stem.wordnet.WordNetLemmatizer</code> instead of the Porter Stemmer.\n",
        "* Using a large sample of the Reuters corpus, establish the extent to which the vocabulary size reduced by lemmatization?\n",
        "* As an extension, you could look at different sample sizes and/or different corpora and display the results in a table or graph (e.g., using <code>pandas</code> and/or <code>matplotlib</code>)"
      ]
    },
    {
      "cell_type": "code",
      "execution_count": null,
      "metadata": {
        "id": "NBLtSKiimwG9"
      },
      "outputs": [],
      "source": []
    },
    {
      "cell_type": "code",
      "execution_count": null,
      "metadata": {
        "id": "4_RtCin6jXsz"
      },
      "outputs": [],
      "source": []
    },
    {
      "cell_type": "markdown",
      "metadata": {
        "id": "kBwfUlC3jXs1"
      },
      "source": [
        "### Punctuation and stop-word removal\n",
        "A stopword is a word that occurs so often that it loses its usefulness in some tasks. We may get more meaningful information from our corpus analysis if we remove stopwords and punctuation.\n",
        "\n",
        "The code below takes a list of tokens and creates a new list, which contains only those strings which are alphabetic and non-stop-words."
      ]
    },
    {
      "cell_type": "code",
      "execution_count": null,
      "metadata": {
        "id": "2suL2eJOmqvW"
      },
      "outputs": [],
      "source": [
        "from nltk.corpus import stopwords\n",
        "nltk.download('stopwords')\n"
      ]
    },
    {
      "cell_type": "code",
      "execution_count": null,
      "metadata": {
        "id": "mhTSVWNcjXs2"
      },
      "outputs": [],
      "source": [
        "\n",
        "stop = stopwords.words('english')\n",
        "tokens=\"The cat , which is really fat , sat on the mat\".lower().split()\n",
        "filtered_tokens = [w for w in tokens if w.isalpha() and w not in stop]\n",
        "print(tokens)\n",
        "print(filtered_tokens)"
      ]
    },
    {
      "cell_type": "markdown",
      "metadata": {
        "id": "QGATIwNmjXs5"
      },
      "source": [
        "**Note**: `isalpha` only returns `True` if the string is entirely composed of alphabet characters. If you want a function to return `True` even when a word contains digits, then you should use `isalnum`.`"
      ]
    },
    {
      "cell_type": "markdown",
      "metadata": {
        "id": "_XyRZmVnjXs5"
      },
      "source": [
        "### Exercise 3.1\n",
        "- In the empty cell below, write code that looks at a large sample of the Reuters corpus, establishing what proportion of tokens are stop-words.\n",
        "- As extension, you could establish the mean (and or the distribution of the) number of stop-words per sentence; or compare the numbers of stop-words in different corpora."
      ]
    },
    {
      "cell_type": "code",
      "execution_count": null,
      "metadata": {
        "id": "scuIYe_xjXs6"
      },
      "outputs": [],
      "source": []
    },
    {
      "cell_type": "code",
      "metadata": {
        "id": "sUUOjqB9nRSp"
      },
      "source": [
        "### Exercise 3.2\n",
        "Explain the difference between the number of tokens in a corpus and the size of the vocabulary of a corpus.  Would you expect stopword removal to have a greater effect on the size of the vocabulary or the number of tokens in the corpus?"
      ],
      "execution_count": null,
      "outputs": []
    },
    {
      "cell_type": "code",
      "metadata": {
        "id": "Ba2ncBYZjXs9"
      },
      "source": [
        "#### My answer\n"
      ],
      "execution_count": null,
      "outputs": []
    },
    {
      "cell_type": "code",
      "execution_count": null,
      "metadata": {
        "id": "Z-ztBumkV01I"
      },
      "outputs": [],
      "source": []
    }
  ],
  "metadata": {
    "colab": {
      "provenance": []
    },
    "kernelspec": {
      "display_name": "Python 3",
      "language": "python",
      "name": "python3"
    },
    "language_info": {
      "codemirror_mode": {
        "name": "ipython",
        "version": 3
      },
      "file_extension": ".py",
      "mimetype": "text/x-python",
      "name": "python",
      "nbconvert_exporter": "python",
      "pygments_lexer": "ipython3",
      "version": "3.7.4"
    }
  },
  "nbformat": 4,
  "nbformat_minor": 0
}