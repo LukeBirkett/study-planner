{
 "cells": [
  {
   "cell_type": "markdown",
   "metadata": {
    "id": "WuA5qiDdPsx6"
   },
   "source": [
    "# Week 2: Preprocessing Text (Part 1)\n"
   ]
  },
  {
   "cell_type": "markdown",
   "metadata": {
    "id": "ta6XHS7fPsyA"
   },
   "source": [
    "## Overview\n",
    "A raw text document is just a sequence of characters. There are a number of basic steps that are often performed when processing natural language text. In lab sessions this week we will cover some of the basic text pre-processing methods. In particular, you will be looking at:\n",
    "- <b> sentence segmentation</b> - roughly speaking, this involves grouping characters into sentences;\n",
    "- <b> tokenisation</b> - roughly speaking, this involves grouping characters into words;\n",
    "- <b>case normalisation</b> - this involves converting all of the text into lower case;\n",
    "- <b>stemming</b> - this involves removing a word's inflections to find the stem; and\n",
    "- <b>punctuation and stop-word removal</b> - stop-words are common functions words that in some situations can be ignored.\n",
    "\n",
    "Note that we do not always apply all of the above preprocessing methods; it depends on the application. One of the things that you will be learning about in this module, is when the application of each of these methods is, and is not, appropriate.\n",
    "\n",
    "We are going to be writing some of our own code, in order to develop understanding of methods and python programming, as well as experimenting with **off-the-shelf** technology.  In particular, we are going to be using the Python library **NLTK** (Natural Language ToolKit) to carry out some of these pre-processing methods.  "
   ]
  },
  {
   "cell_type": "markdown",
   "metadata": {
    "id": "ogmTUT63nw1h"
   },
   "source": [
    "First, we need to import some libraries for use later on.  Its conventional to have all of your library imports in the first code cell of a notebook - but we can import more later on if necessary."
   ]
  },
  {
   "cell_type": "code",
   "execution_count": 3,
   "metadata": {},
   "outputs": [
    {
     "name": "stdout",
     "output_type": "stream",
     "text": [
      "Collecting pandas\n",
      "  Using cached pandas-2.3.3-cp313-cp313-macosx_11_0_arm64.whl.metadata (91 kB)\n",
      "Collecting numpy>=1.26.0 (from pandas)\n",
      "  Using cached numpy-2.3.3-cp313-cp313-macosx_14_0_arm64.whl.metadata (62 kB)\n",
      "Requirement already satisfied: python-dateutil>=2.8.2 in ./nlp_w2_venv/lib/python3.13/site-packages (from pandas) (2.9.0.post0)\n",
      "Collecting pytz>=2020.1 (from pandas)\n",
      "  Using cached pytz-2025.2-py2.py3-none-any.whl.metadata (22 kB)\n",
      "Collecting tzdata>=2022.7 (from pandas)\n",
      "  Using cached tzdata-2025.2-py2.py3-none-any.whl.metadata (1.4 kB)\n",
      "Requirement already satisfied: six>=1.5 in ./nlp_w2_venv/lib/python3.13/site-packages (from python-dateutil>=2.8.2->pandas) (1.17.0)\n",
      "Using cached pandas-2.3.3-cp313-cp313-macosx_11_0_arm64.whl (10.7 MB)\n",
      "Using cached numpy-2.3.3-cp313-cp313-macosx_14_0_arm64.whl (5.1 MB)\n",
      "Using cached pytz-2025.2-py2.py3-none-any.whl (509 kB)\n",
      "Using cached tzdata-2025.2-py2.py3-none-any.whl (347 kB)\n",
      "Installing collected packages: pytz, tzdata, numpy, pandas\n",
      "Successfully installed numpy-2.3.3 pandas-2.3.3 pytz-2025.2 tzdata-2025.2\n",
      "\n",
      "\u001b[1m[\u001b[0m\u001b[34;49mnotice\u001b[0m\u001b[1;39;49m]\u001b[0m\u001b[39;49m A new release of pip is available: \u001b[0m\u001b[31;49m25.0\u001b[0m\u001b[39;49m -> \u001b[0m\u001b[32;49m25.2\u001b[0m\n",
      "\u001b[1m[\u001b[0m\u001b[34;49mnotice\u001b[0m\u001b[1;39;49m]\u001b[0m\u001b[39;49m To update, run: \u001b[0m\u001b[32;49mpip install --upgrade pip\u001b[0m\n"
     ]
    }
   ],
   "source": [
    "import sys\n",
    "!{sys.executable} -m pip install pandas"
   ]
  },
  {
   "cell_type": "code",
   "execution_count": null,
   "metadata": {},
   "outputs": [],
   "source": []
  },
  {
   "cell_type": "code",
   "execution_count": 2,
   "metadata": {},
   "outputs": [
    {
     "name": "stdout",
     "output_type": "stream",
     "text": [
      "Collecting nltk\n",
      "  Using cached nltk-3.9.2-py3-none-any.whl.metadata (3.2 kB)\n",
      "Collecting click (from nltk)\n",
      "  Using cached click-8.3.0-py3-none-any.whl.metadata (2.6 kB)\n",
      "Collecting joblib (from nltk)\n",
      "  Using cached joblib-1.5.2-py3-none-any.whl.metadata (5.6 kB)\n",
      "Collecting regex>=2021.8.3 (from nltk)\n",
      "  Using cached regex-2025.9.18-cp313-cp313-macosx_11_0_arm64.whl.metadata (40 kB)\n",
      "Collecting tqdm (from nltk)\n",
      "  Using cached tqdm-4.67.1-py3-none-any.whl.metadata (57 kB)\n",
      "Using cached nltk-3.9.2-py3-none-any.whl (1.5 MB)\n",
      "Using cached regex-2025.9.18-cp313-cp313-macosx_11_0_arm64.whl (287 kB)\n",
      "Using cached click-8.3.0-py3-none-any.whl (107 kB)\n",
      "Using cached joblib-1.5.2-py3-none-any.whl (308 kB)\n",
      "Using cached tqdm-4.67.1-py3-none-any.whl (78 kB)\n",
      "Installing collected packages: tqdm, regex, joblib, click, nltk\n",
      "Successfully installed click-8.3.0 joblib-1.5.2 nltk-3.9.2 regex-2025.9.18 tqdm-4.67.1\n",
      "\n",
      "\u001b[1m[\u001b[0m\u001b[34;49mnotice\u001b[0m\u001b[1;39;49m]\u001b[0m\u001b[39;49m A new release of pip is available: \u001b[0m\u001b[31;49m25.0\u001b[0m\u001b[39;49m -> \u001b[0m\u001b[32;49m25.2\u001b[0m\n",
      "\u001b[1m[\u001b[0m\u001b[34;49mnotice\u001b[0m\u001b[1;39;49m]\u001b[0m\u001b[39;49m To update, run: \u001b[0m\u001b[32;49mpip install --upgrade pip\u001b[0m\n"
     ]
    }
   ],
   "source": [
    "import sys\n",
    "!{sys.executable} -m pip install nltk"
   ]
  },
  {
   "cell_type": "code",
   "execution_count": 4,
   "metadata": {
    "id": "F9qUG5uqPsx7"
   },
   "outputs": [],
   "source": [
    "import sys\n",
    "import re\n",
    "import pandas as pd\n",
    "from itertools import zip_longest\n",
    "\n",
    "#uncomment the following line on colab\n",
    "#from google.colab import drive"
   ]
  },
  {
   "cell_type": "code",
   "execution_count": null,
   "metadata": {},
   "outputs": [],
   "source": []
  },
  {
   "cell_type": "markdown",
   "metadata": {
    "id": "RdtfEdHgnw1j"
   },
   "source": [
    "## The NLTK sentence segmenter\n",
    "The NLTK implements a sentence segmenter (called the Punkt segmenter).  It is generally simple to use.\n",
    "\n",
    "**Function**: `sent_tokenize`\n",
    "\n",
    "- Arguments\n",
    " - a single string, representing a document (or collection of documents)\n",
    "- Returns\n",
    " - a list of strings, where each string is a sentence within the document\n",
    "\n"
   ]
  },
  {
   "cell_type": "code",
   "execution_count": 5,
   "metadata": {
    "id": "rx6Pcl_Snw1j",
    "scrolled": true
   },
   "outputs": [
    {
     "ename": "LookupError",
     "evalue": "\n**********************************************************************\n  Resource \u001b[93mpunkt_tab\u001b[0m not found.\n  Please use the NLTK Downloader to obtain the resource:\n\n  \u001b[31m>>> import nltk\n  >>> nltk.download('punkt_tab')\n  \u001b[0m\n  For more information see: https://www.nltk.org/data.html\n\n  Attempted to load \u001b[93mtokenizers/punkt_tab/english/\u001b[0m\n\n  Searched in:\n    - '/Users/lukebirkett/nltk_data'\n    - '/Users/lukebirkett/Repos/study-planner/955G5_Applied_Natural_Language_Processing/weeks/week_2/lab/nlp_w2_venv/nltk_data'\n    - '/Users/lukebirkett/Repos/study-planner/955G5_Applied_Natural_Language_Processing/weeks/week_2/lab/nlp_w2_venv/share/nltk_data'\n    - '/Users/lukebirkett/Repos/study-planner/955G5_Applied_Natural_Language_Processing/weeks/week_2/lab/nlp_w2_venv/lib/nltk_data'\n    - '/usr/share/nltk_data'\n    - '/usr/local/share/nltk_data'\n    - '/usr/lib/nltk_data'\n    - '/usr/local/lib/nltk_data'\n**********************************************************************\n",
     "output_type": "error",
     "traceback": [
      "\u001b[31m---------------------------------------------------------------------------\u001b[39m",
      "\u001b[31mLookupError\u001b[39m                               Traceback (most recent call last)",
      "\u001b[36mCell\u001b[39m\u001b[36m \u001b[39m\u001b[32mIn[5]\u001b[39m\u001b[32m, line 7\u001b[39m\n\u001b[32m      5\u001b[39m testtext=\u001b[33m\"\u001b[39m\u001b[33mI went to Portsmouth last week.  Don\u001b[39m\u001b[33m'\u001b[39m\u001b[33mt you remember?  I saw H.M.S. Victory in Portsmouth.  I want to go to the U.S.A. next Summer.\u001b[39m\u001b[33m\"\u001b[39m\n\u001b[32m      6\u001b[39m \u001b[38;5;66;03m#call the function sent_tokenize on the value of testtext\u001b[39;00m\n\u001b[32m----> \u001b[39m\u001b[32m7\u001b[39m \u001b[43msent_tokenize\u001b[49m\u001b[43m(\u001b[49m\u001b[43mtesttext\u001b[49m\u001b[43m)\u001b[49m\n",
      "\u001b[36mFile \u001b[39m\u001b[32m~/Repos/study-planner/955G5_Applied_Natural_Language_Processing/weeks/week_2/lab/nlp_w2_venv/lib/python3.13/site-packages/nltk/tokenize/__init__.py:119\u001b[39m, in \u001b[36msent_tokenize\u001b[39m\u001b[34m(text, language)\u001b[39m\n\u001b[32m    109\u001b[39m \u001b[38;5;28;01mdef\u001b[39;00m\u001b[38;5;250m \u001b[39m\u001b[34msent_tokenize\u001b[39m(text, language=\u001b[33m\"\u001b[39m\u001b[33menglish\u001b[39m\u001b[33m\"\u001b[39m):\n\u001b[32m    110\u001b[39m \u001b[38;5;250m    \u001b[39m\u001b[33;03m\"\"\"\u001b[39;00m\n\u001b[32m    111\u001b[39m \u001b[33;03m    Return a sentence-tokenized copy of *text*,\u001b[39;00m\n\u001b[32m    112\u001b[39m \u001b[33;03m    using NLTK's recommended sentence tokenizer\u001b[39;00m\n\u001b[32m   (...)\u001b[39m\u001b[32m    117\u001b[39m \u001b[33;03m    :param language: the model name in the Punkt corpus\u001b[39;00m\n\u001b[32m    118\u001b[39m \u001b[33;03m    \"\"\"\u001b[39;00m\n\u001b[32m--> \u001b[39m\u001b[32m119\u001b[39m     tokenizer = \u001b[43m_get_punkt_tokenizer\u001b[49m\u001b[43m(\u001b[49m\u001b[43mlanguage\u001b[49m\u001b[43m)\u001b[49m\n\u001b[32m    120\u001b[39m     \u001b[38;5;28;01mreturn\u001b[39;00m tokenizer.tokenize(text)\n",
      "\u001b[36mFile \u001b[39m\u001b[32m~/Repos/study-planner/955G5_Applied_Natural_Language_Processing/weeks/week_2/lab/nlp_w2_venv/lib/python3.13/site-packages/nltk/tokenize/__init__.py:105\u001b[39m, in \u001b[36m_get_punkt_tokenizer\u001b[39m\u001b[34m(language)\u001b[39m\n\u001b[32m     96\u001b[39m \u001b[38;5;129m@functools\u001b[39m.lru_cache\n\u001b[32m     97\u001b[39m \u001b[38;5;28;01mdef\u001b[39;00m\u001b[38;5;250m \u001b[39m\u001b[34m_get_punkt_tokenizer\u001b[39m(language=\u001b[33m\"\u001b[39m\u001b[33menglish\u001b[39m\u001b[33m\"\u001b[39m):\n\u001b[32m     98\u001b[39m \u001b[38;5;250m    \u001b[39m\u001b[33;03m\"\"\"\u001b[39;00m\n\u001b[32m     99\u001b[39m \u001b[33;03m    A constructor for the PunktTokenizer that utilizes\u001b[39;00m\n\u001b[32m    100\u001b[39m \u001b[33;03m    a lru cache for performance.\u001b[39;00m\n\u001b[32m   (...)\u001b[39m\u001b[32m    103\u001b[39m \u001b[33;03m    :type language: str\u001b[39;00m\n\u001b[32m    104\u001b[39m \u001b[33;03m    \"\"\"\u001b[39;00m\n\u001b[32m--> \u001b[39m\u001b[32m105\u001b[39m     \u001b[38;5;28;01mreturn\u001b[39;00m \u001b[43mPunktTokenizer\u001b[49m\u001b[43m(\u001b[49m\u001b[43mlanguage\u001b[49m\u001b[43m)\u001b[49m\n",
      "\u001b[36mFile \u001b[39m\u001b[32m~/Repos/study-planner/955G5_Applied_Natural_Language_Processing/weeks/week_2/lab/nlp_w2_venv/lib/python3.13/site-packages/nltk/tokenize/punkt.py:1744\u001b[39m, in \u001b[36mPunktTokenizer.__init__\u001b[39m\u001b[34m(self, lang)\u001b[39m\n\u001b[32m   1742\u001b[39m \u001b[38;5;28;01mdef\u001b[39;00m\u001b[38;5;250m \u001b[39m\u001b[34m__init__\u001b[39m(\u001b[38;5;28mself\u001b[39m, lang=\u001b[33m\"\u001b[39m\u001b[33menglish\u001b[39m\u001b[33m\"\u001b[39m):\n\u001b[32m   1743\u001b[39m     PunktSentenceTokenizer.\u001b[34m__init__\u001b[39m(\u001b[38;5;28mself\u001b[39m)\n\u001b[32m-> \u001b[39m\u001b[32m1744\u001b[39m     \u001b[38;5;28;43mself\u001b[39;49m\u001b[43m.\u001b[49m\u001b[43mload_lang\u001b[49m\u001b[43m(\u001b[49m\u001b[43mlang\u001b[49m\u001b[43m)\u001b[49m\n",
      "\u001b[36mFile \u001b[39m\u001b[32m~/Repos/study-planner/955G5_Applied_Natural_Language_Processing/weeks/week_2/lab/nlp_w2_venv/lib/python3.13/site-packages/nltk/tokenize/punkt.py:1749\u001b[39m, in \u001b[36mPunktTokenizer.load_lang\u001b[39m\u001b[34m(self, lang)\u001b[39m\n\u001b[32m   1746\u001b[39m \u001b[38;5;28;01mdef\u001b[39;00m\u001b[38;5;250m \u001b[39m\u001b[34mload_lang\u001b[39m(\u001b[38;5;28mself\u001b[39m, lang=\u001b[33m\"\u001b[39m\u001b[33menglish\u001b[39m\u001b[33m\"\u001b[39m):\n\u001b[32m   1747\u001b[39m     \u001b[38;5;28;01mfrom\u001b[39;00m\u001b[38;5;250m \u001b[39m\u001b[34;01mnltk\u001b[39;00m\u001b[34;01m.\u001b[39;00m\u001b[34;01mdata\u001b[39;00m\u001b[38;5;250m \u001b[39m\u001b[38;5;28;01mimport\u001b[39;00m find\n\u001b[32m-> \u001b[39m\u001b[32m1749\u001b[39m     lang_dir = \u001b[43mfind\u001b[49m\u001b[43m(\u001b[49m\u001b[33;43mf\u001b[39;49m\u001b[33;43m\"\u001b[39;49m\u001b[33;43mtokenizers/punkt_tab/\u001b[39;49m\u001b[38;5;132;43;01m{\u001b[39;49;00m\u001b[43mlang\u001b[49m\u001b[38;5;132;43;01m}\u001b[39;49;00m\u001b[33;43m/\u001b[39;49m\u001b[33;43m\"\u001b[39;49m\u001b[43m)\u001b[49m\n\u001b[32m   1750\u001b[39m     \u001b[38;5;28mself\u001b[39m._params = load_punkt_params(lang_dir)\n\u001b[32m   1751\u001b[39m     \u001b[38;5;28mself\u001b[39m._lang = lang\n",
      "\u001b[36mFile \u001b[39m\u001b[32m~/Repos/study-planner/955G5_Applied_Natural_Language_Processing/weeks/week_2/lab/nlp_w2_venv/lib/python3.13/site-packages/nltk/data.py:579\u001b[39m, in \u001b[36mfind\u001b[39m\u001b[34m(resource_name, paths)\u001b[39m\n\u001b[32m    577\u001b[39m sep = \u001b[33m\"\u001b[39m\u001b[33m*\u001b[39m\u001b[33m\"\u001b[39m * \u001b[32m70\u001b[39m\n\u001b[32m    578\u001b[39m resource_not_found = \u001b[33mf\u001b[39m\u001b[33m\"\u001b[39m\u001b[38;5;130;01m\\n\u001b[39;00m\u001b[38;5;132;01m{\u001b[39;00msep\u001b[38;5;132;01m}\u001b[39;00m\u001b[38;5;130;01m\\n\u001b[39;00m\u001b[38;5;132;01m{\u001b[39;00mmsg\u001b[38;5;132;01m}\u001b[39;00m\u001b[38;5;130;01m\\n\u001b[39;00m\u001b[38;5;132;01m{\u001b[39;00msep\u001b[38;5;132;01m}\u001b[39;00m\u001b[38;5;130;01m\\n\u001b[39;00m\u001b[33m\"\u001b[39m\n\u001b[32m--> \u001b[39m\u001b[32m579\u001b[39m \u001b[38;5;28;01mraise\u001b[39;00m \u001b[38;5;167;01mLookupError\u001b[39;00m(resource_not_found)\n",
      "\u001b[31mLookupError\u001b[39m: \n**********************************************************************\n  Resource \u001b[93mpunkt_tab\u001b[0m not found.\n  Please use the NLTK Downloader to obtain the resource:\n\n  \u001b[31m>>> import nltk\n  >>> nltk.download('punkt_tab')\n  \u001b[0m\n  For more information see: https://www.nltk.org/data.html\n\n  Attempted to load \u001b[93mtokenizers/punkt_tab/english/\u001b[0m\n\n  Searched in:\n    - '/Users/lukebirkett/nltk_data'\n    - '/Users/lukebirkett/Repos/study-planner/955G5_Applied_Natural_Language_Processing/weeks/week_2/lab/nlp_w2_venv/nltk_data'\n    - '/Users/lukebirkett/Repos/study-planner/955G5_Applied_Natural_Language_Processing/weeks/week_2/lab/nlp_w2_venv/share/nltk_data'\n    - '/Users/lukebirkett/Repos/study-planner/955G5_Applied_Natural_Language_Processing/weeks/week_2/lab/nlp_w2_venv/lib/nltk_data'\n    - '/usr/share/nltk_data'\n    - '/usr/local/share/nltk_data'\n    - '/usr/lib/nltk_data'\n    - '/usr/local/lib/nltk_data'\n**********************************************************************\n"
     ]
    }
   ],
   "source": [
    "#load the sent_tokenize function from the nltk.tokenize library\n",
    "from nltk.tokenize import sent_tokenize\n",
    "\n",
    "#some text to segment stored in testtext\n",
    "testtext=\"I went to Portsmouth last week.  Don't you remember?  I saw H.M.S. Victory in Portsmouth.  I want to go to the U.S.A. next Summer.\"\n",
    "#call the function sent_tokenize on the value of testtext\n",
    "sent_tokenize(testtext)"
   ]
  },
  {
   "cell_type": "markdown",
   "metadata": {
    "id": "9-DQrw0tVdyX"
   },
   "source": [
    "The first time you run this, you will probably get an error because certain NLTK resources ('punkt') are not available.\n",
    "\n",
    "![Screen Shot 2020-08-19 at 16.28.08.png](data:image/png;base64,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)"
   ]
  },
  {
   "cell_type": "markdown",
   "metadata": {
    "id": "MzQZA9A9oMw_"
   },
   "source": [
    "To fix this, you need to run the following cell."
   ]
  },
  {
   "cell_type": "code",
   "execution_count": 10,
   "metadata": {},
   "outputs": [
    {
     "name": "stderr",
     "output_type": "stream",
     "text": [
      "[nltk_data] Downloading package punkt to\n",
      "[nltk_data]     /Users/lukebirkett/nltk_data...\n",
      "[nltk_data]   Package punkt is already up-to-date!\n"
     ]
    },
    {
     "data": {
      "text/plain": [
       "True"
      ]
     },
     "execution_count": 10,
     "metadata": {},
     "output_type": "execute_result"
    }
   ],
   "source": [
    "import nltk\n",
    "nltk.download('punkt')"
   ]
  },
  {
   "cell_type": "code",
   "execution_count": 12,
   "metadata": {},
   "outputs": [
    {
     "name": "stderr",
     "output_type": "stream",
     "text": [
      "[nltk_data] Downloading package punkt_tab to\n",
      "[nltk_data]     /Users/lukebirkett/nltk_data...\n",
      "[nltk_data]   Unzipping tokenizers/punkt_tab.zip.\n"
     ]
    },
    {
     "data": {
      "text/plain": [
       "True"
      ]
     },
     "execution_count": 12,
     "metadata": {},
     "output_type": "execute_result"
    }
   ],
   "source": [
    "import nltk\n",
    "nltk.download('punkt_tab')"
   ]
  },
  {
   "cell_type": "markdown",
   "metadata": {
    "id": "hBOiH2CVXNMF"
   },
   "source": [
    "Now the sentence segmenter should work."
   ]
  },
  {
   "cell_type": "code",
   "execution_count": 13,
   "metadata": {
    "id": "oVg9fZuOPsy8"
   },
   "outputs": [
    {
     "data": {
      "text/plain": [
       "['I went to Portsmouth last week.',\n",
       " \"Don't you remember?\",\n",
       " 'I saw H.M.S.',\n",
       " 'Victory in Portsmouth.',\n",
       " 'I want to go to the U.S.A. next Summer.']"
      ]
     },
     "execution_count": 13,
     "metadata": {},
     "output_type": "execute_result"
    }
   ],
   "source": [
    "#load the sent_tokenize function from the nltk.tokenize library\n",
    "from nltk.tokenize import sent_tokenize\n",
    "\n",
    "#some text to segment stored in testtext\n",
    "testtext=\"I went to Portsmouth last week.  Don't you remember?  I saw H.M.S. Victory in Portsmouth.  I want to go to the U.S.A. next Summer.\"\n",
    "#call the sent_tokenize function on the value of testtext\n",
    "sent_tokenize(testtext)"
   ]
  },
  {
   "cell_type": "markdown",
   "metadata": {
    "id": "ZwSJjbZjnw1p"
   },
   "source": [
    "### Exercise 1\n",
    "Load in some text from a file (see Lab_1_2) and run the sentence segmenter on it.\n",
    "\n",
    "Look at the output.  Can you see any mistakes?  Estimate the error rate (the number of errors divided by the number of actual sentences)."
   ]
  },
  {
   "cell_type": "code",
   "execution_count": 14,
   "metadata": {},
   "outputs": [
    {
     "name": "stdout",
     "output_type": "stream",
     "text": [
      "/Users/lukebirkett/Repos/study-planner/955G5_Applied_Natural_Language_Processing/weeks/week_2/lab\n"
     ]
    }
   ],
   "source": [
    "import pathlib\n",
    "\n",
    "# 1. Get the current working directory (CWD)\n",
    "cwd = pathlib.Path.cwd()\n",
    "print(cwd)"
   ]
  },
  {
   "cell_type": "code",
   "execution_count": 18,
   "metadata": {
    "id": "XH-BLyR3nw1p"
   },
   "outputs": [
    {
     "data": {
      "text/plain": [
       "['This is a sample sentence showing 7 different token types: alphabetic, numeric, alphanumeric, Title, UPPERCASE, CamelCase and punctuation!',\n",
       " 'Sentences like that should not exist.',\n",
       " \"They're too artificial\\nA REAL sentence looks different.\",\n",
       " 'It has flavour to it.',\n",
       " \"You can smell it; it's like Pythonic code, you know?\",\n",
       " \"Have you heard of 'code smell'?\",\n",
       " \"Google it if you haven't.\"]"
      ]
     },
     "execution_count": 18,
     "metadata": {},
     "output_type": "execute_result"
    }
   ],
   "source": [
    "import pathlib\n",
    "\n",
    "fp = f\"{pathlib.Path.cwd()}/sample_corpus.txt\"\n",
    "\n",
    "with open(fp) as input_file:\n",
    "    text=input_file.read()\n",
    "\n",
    "sent_tokenize(text)"
   ]
  },
  {
   "cell_type": "markdown",
   "metadata": {
    "id": "SKr2Rs0Onw1p"
   },
   "source": [
    "No mistakes for this piece of sample text so the error rate is 0.\n",
    "\n",
    "In the earlier Portsmouth example, there was one error due to the H.M.S. abbreviation.  Therefore the error rate was 1/4 or 25%"
   ]
  },
  {
   "cell_type": "markdown",
   "metadata": {
    "id": "1gN3-Z5Nnw1p"
   },
   "source": [
    "## Word Tokenization\n",
    "\n",
    "In some situations, just using Python's split function can perform adequate word tokenization.\n",
    "**String method**: `split`\n",
    "\n",
    "- Arguments\n",
    " - a string object which the method is called on, representing a sentence (or collection of sentences)\n",
    " - optionally, an extra argument which is the character to split by.  The default value for this argument is any whitespace\n",
    "- Returns\n",
    " - a list of strings, where each string represents a token in the input string\n",
    "\n"
   ]
  },
  {
   "cell_type": "code",
   "execution_count": 19,
   "metadata": {
    "id": "m1LHZVNPnw1q"
   },
   "outputs": [
    {
     "data": {
      "text/plain": [
       "['The', 'cat', 'sat', 'on', 'the', 'mat.']"
      ]
     },
     "execution_count": 19,
     "metadata": {},
     "output_type": "execute_result"
    }
   ],
   "source": [
    "test_sentence=\"The cat  sat\\ton the mat.\"\n",
    "test_sentence.split()"
   ]
  },
  {
   "cell_type": "markdown",
   "metadata": {
    "id": "nO_-ijbvnw1q"
   },
   "source": [
    "Notice in the example above that two spaces and the tab character ('\\t') were treated the same as a single space.\n",
    "\n",
    "However, split() isn't able to separate punctuation from the end of a word.  In the following example, 'times,' and 'times.' are seen as instances of different word types because they are followed by different items of punctuation."
   ]
  },
  {
   "cell_type": "code",
   "execution_count": 20,
   "metadata": {
    "id": "EG75pgl0nw1q"
   },
   "outputs": [
    {
     "name": "stdout",
     "output_type": "stream",
     "text": [
      "{'worst', 'of', 'it', 'times,', 'the', 'It', 'was', 'times.', 'best'}\n"
     ]
    }
   ],
   "source": [
    "opening_line=\"It was the best of times, it was the worst of times.\"\n",
    "tokens=opening_line.split()\n",
    "vocab=set(tokens)\n",
    "print(vocab)"
   ]
  },
  {
   "cell_type": "markdown",
   "metadata": {
    "id": "Cg9cjc6nPsy4"
   },
   "source": [
    "## The NLTK regular expression tokeniser\n",
    "The NLTK implements a regular expression tokeniser `word_tokenize` that is based on the tokenisation guidelines found at ftp://ftp.cis.upenn.edu/pub/treebank/public_html/tokenization.html\n",
    "\n",
    "The main ones are summarized below:\n",
    "### Guidelines\n",
    "\n",
    "- punctuation is split from adjoining words\n",
    "- opening double quotes are changed to two single forward quotes.\n",
    "- closing double quotes are changed to two single backward quotes.\n",
    "- the Anglo-Saxon genitive of nouns are split into their component parts.\n",
    "  - e.g. `\"children's\"` produces `\"children 's\"`\n",
    "  - e.g. `\"parents'\"` produces `\"parents '\"`\n",
    "- contractions should be split into component parts\n",
    "  - e.g. `\"won't\"` produces `\"wo n't\"`\n",
    "  - e.g. `\"gonna\"` produces `\"gon na\"`\n",
    "  - e.g. `\"I'm\"` produces `\"I 'm\"`\n",
    "  \n"
   ]
  },
  {
   "cell_type": "markdown",
   "metadata": {
    "id": "SkVHm-6gPsy4"
   },
   "source": [
    "**Function**: `word_tokenize`\n",
    "\n",
    "- Arguments\n",
    " - a single string, representing a sentence\n",
    "- Returns\n",
    " - a list of strings, where each string is a token within the sentence"
   ]
  },
  {
   "cell_type": "markdown",
   "metadata": {
    "id": "SNZjn5H7Psy5"
   },
   "source": [
    "### Exercise 2\n",
    "\n",
    "- Make sure you understand the code in the cell below and then run it so that you can compare the way that the test sentence has been tokenised."
   ]
  },
  {
   "cell_type": "code",
   "execution_count": 21,
   "metadata": {
    "id": "VqtzPaPMPsy5"
   },
   "outputs": [
    {
     "data": {
      "text/plain": [
       "['The', 'cat', 'sat', 'on', 'the', 'mat', '.']"
      ]
     },
     "execution_count": 21,
     "metadata": {},
     "output_type": "execute_result"
    }
   ],
   "source": [
    "#import the word_tokenize function from nltk\n",
    "from nltk.tokenize import word_tokenize\n",
    "\n",
    "# run the nltk tokeniser on a test sentence\n",
    "test_sentence=\"The cat sat on the mat.\"\n",
    "word_tokenize(test_sentence)\n"
   ]
  },
  {
   "cell_type": "markdown",
   "metadata": {
    "id": "jP_O2mZIXxcd"
   },
   "source": [
    "Now lets try something harder and compare the results of using the nltk tokeniser and the split function."
   ]
  },
  {
   "cell_type": "code",
   "execution_count": 22,
   "metadata": {
    "id": "CLrRYC9gXa4L"
   },
   "outputs": [
    {
     "data": {
      "text/html": [
       "<div>\n",
       "<style scoped>\n",
       "    .dataframe tbody tr th:only-of-type {\n",
       "        vertical-align: middle;\n",
       "    }\n",
       "\n",
       "    .dataframe tbody tr th {\n",
       "        vertical-align: top;\n",
       "    }\n",
       "\n",
       "    .dataframe thead th {\n",
       "        text-align: right;\n",
       "    }\n",
       "</style>\n",
       "<table border=\"1\" class=\"dataframe\">\n",
       "  <thead>\n",
       "    <tr style=\"text-align: right;\">\n",
       "      <th></th>\n",
       "      <th>NLTK</th>\n",
       "      <th>SPLIT</th>\n",
       "    </tr>\n",
       "  </thead>\n",
       "  <tbody>\n",
       "    <tr>\n",
       "      <th>0</th>\n",
       "      <td>After</td>\n",
       "      <td>After</td>\n",
       "    </tr>\n",
       "    <tr>\n",
       "      <th>1</th>\n",
       "      <td>saying</td>\n",
       "      <td>saying</td>\n",
       "    </tr>\n",
       "    <tr>\n",
       "      <th>2</th>\n",
       "      <td>``</td>\n",
       "      <td>\"I</td>\n",
       "    </tr>\n",
       "    <tr>\n",
       "      <th>3</th>\n",
       "      <td>I</td>\n",
       "      <td>won't</td>\n",
       "    </tr>\n",
       "    <tr>\n",
       "      <th>4</th>\n",
       "      <td>wo</td>\n",
       "      <td>help,</td>\n",
       "    </tr>\n",
       "    <tr>\n",
       "      <th>5</th>\n",
       "      <td>n't</td>\n",
       "      <td>I'm</td>\n",
       "    </tr>\n",
       "    <tr>\n",
       "      <th>6</th>\n",
       "      <td>help</td>\n",
       "      <td>gonna</td>\n",
       "    </tr>\n",
       "    <tr>\n",
       "      <th>7</th>\n",
       "      <td>,</td>\n",
       "      <td>leave!\",</td>\n",
       "    </tr>\n",
       "    <tr>\n",
       "      <th>8</th>\n",
       "      <td>I</td>\n",
       "      <td>on</td>\n",
       "    </tr>\n",
       "    <tr>\n",
       "      <th>9</th>\n",
       "      <td>'m</td>\n",
       "      <td>his</td>\n",
       "    </tr>\n",
       "    <tr>\n",
       "      <th>10</th>\n",
       "      <td>gon</td>\n",
       "      <td>parents'</td>\n",
       "    </tr>\n",
       "    <tr>\n",
       "      <th>11</th>\n",
       "      <td>na</td>\n",
       "      <td>arrival,</td>\n",
       "    </tr>\n",
       "    <tr>\n",
       "      <th>12</th>\n",
       "      <td>leave</td>\n",
       "      <td>the</td>\n",
       "    </tr>\n",
       "    <tr>\n",
       "      <th>13</th>\n",
       "      <td>!</td>\n",
       "      <td>boy's</td>\n",
       "    </tr>\n",
       "    <tr>\n",
       "      <th>14</th>\n",
       "      <td>``</td>\n",
       "      <td>behaviour</td>\n",
       "    </tr>\n",
       "    <tr>\n",
       "      <th>15</th>\n",
       "      <td>,</td>\n",
       "      <td>improved.</td>\n",
       "    </tr>\n",
       "    <tr>\n",
       "      <th>16</th>\n",
       "      <td>on</td>\n",
       "      <td>None</td>\n",
       "    </tr>\n",
       "    <tr>\n",
       "      <th>17</th>\n",
       "      <td>his</td>\n",
       "      <td>None</td>\n",
       "    </tr>\n",
       "    <tr>\n",
       "      <th>18</th>\n",
       "      <td>parents</td>\n",
       "      <td>None</td>\n",
       "    </tr>\n",
       "    <tr>\n",
       "      <th>19</th>\n",
       "      <td>'</td>\n",
       "      <td>None</td>\n",
       "    </tr>\n",
       "    <tr>\n",
       "      <th>20</th>\n",
       "      <td>arrival</td>\n",
       "      <td>None</td>\n",
       "    </tr>\n",
       "    <tr>\n",
       "      <th>21</th>\n",
       "      <td>,</td>\n",
       "      <td>None</td>\n",
       "    </tr>\n",
       "    <tr>\n",
       "      <th>22</th>\n",
       "      <td>the</td>\n",
       "      <td>None</td>\n",
       "    </tr>\n",
       "    <tr>\n",
       "      <th>23</th>\n",
       "      <td>boy</td>\n",
       "      <td>None</td>\n",
       "    </tr>\n",
       "    <tr>\n",
       "      <th>24</th>\n",
       "      <td>'s</td>\n",
       "      <td>None</td>\n",
       "    </tr>\n",
       "    <tr>\n",
       "      <th>25</th>\n",
       "      <td>behaviour</td>\n",
       "      <td>None</td>\n",
       "    </tr>\n",
       "    <tr>\n",
       "      <th>26</th>\n",
       "      <td>improved</td>\n",
       "      <td>None</td>\n",
       "    </tr>\n",
       "    <tr>\n",
       "      <th>27</th>\n",
       "      <td>.</td>\n",
       "      <td>None</td>\n",
       "    </tr>\n",
       "  </tbody>\n",
       "</table>\n",
       "</div>"
      ],
      "text/plain": [
       "         NLTK      SPLIT\n",
       "0       After      After\n",
       "1      saying     saying\n",
       "2          ``         \"I\n",
       "3           I      won't\n",
       "4          wo      help,\n",
       "5         n't        I'm\n",
       "6        help      gonna\n",
       "7           ,   leave!\",\n",
       "8           I         on\n",
       "9          'm        his\n",
       "10        gon   parents'\n",
       "11         na   arrival,\n",
       "12      leave        the\n",
       "13          !      boy's\n",
       "14         ``  behaviour\n",
       "15          ,  improved.\n",
       "16         on       None\n",
       "17        his       None\n",
       "18    parents       None\n",
       "19          '       None\n",
       "20    arrival       None\n",
       "21          ,       None\n",
       "22        the       None\n",
       "23        boy       None\n",
       "24         's       None\n",
       "25  behaviour       None\n",
       "26   improved       None\n",
       "27          .       None"
      ]
     },
     "execution_count": 22,
     "metadata": {},
     "output_type": "execute_result"
    }
   ],
   "source": [
    "testsentence = \"After saying \\\"I won't help, I'm gonna leave!\\\", on his parents' arrival, the boy's behaviour improved.\"\n",
    "\n",
    "# run the nltk tokeniser and your tokeniser on the test sentence\n",
    "nltk_toks = word_tokenize(testsentence) # run the nltk tokeniser\n",
    "split_toks = testsentence.split() # run split\n",
    "\n",
    "pd.DataFrame(list(zip_longest(nltk_toks,split_toks)),columns=[\"NLTK\", \"SPLIT\"])"
   ]
  },
  {
   "cell_type": "markdown",
   "metadata": {
    "id": "rzQgRQW1Psy9"
   },
   "source": [
    "What do you think the effect on the size of the vocabulary will be using the NLTK tokenizer rather than the split function?  Explain your answer."
   ]
  },
  {
   "cell_type": "markdown",
   "metadata": {
    "id": "_wbXan3Unw1s"
   },
   "source": [
    "#### My answer\n"
   ]
  },
  {
   "cell_type": "markdown",
   "metadata": {},
   "source": [
    "Significantly large as punctuation and work components are recognised and "
   ]
  },
  {
   "cell_type": "markdown",
   "metadata": {
    "id": "rL5susncPsyA"
   },
   "source": [
    "\n",
    "\n",
    "### Available corpora\n",
    "Next, we need some text to process.  Natural language engineering applications typically deal with large collections of documents which are referred to as **corpora**.\n",
    "\n",
    "A number of corpora have been made readily available (and pre-processed to some extent) via NLTK.  You may need to download them via the nltk.download() function when you first want to use them.\n",
    "\n",
    "- Gutenberg books (25k books `from nltk.corpus import gutenberg`)\n",
    "- Reuters articles (~11k news articles `from nltk.corpus import reuters`)\n",
    "- Twitter posts (20k tweets `from nltk.corpus import twitter_samples`)\n",
    "- Brown corpus (the first 1 million word corpus made by Brown University in 1961, `from nltk.corpus import brown`)\n",
    "- Plus many others: http://www.nltk.org/nltk_data/"
   ]
  },
  {
   "cell_type": "markdown",
   "metadata": {
    "id": "rQyYDTD2PsyF"
   },
   "source": [
    "### Getting sentences from a corpus\n",
    "Let's start to look at some of these corpora.\n",
    "\n",
    "The code in the next cell shows you how to import the reuters corpus and use its `.sents()` function which will return all of the sentences in the corpus.  There are over 50,000 sentences in the corpus so we don't want to print them all out.    Here we are just going to iterate over the first 10 sentences and print out the length of each sentence.\n"
   ]
  },
  {
   "cell_type": "code",
   "execution_count": 26,
   "metadata": {},
   "outputs": [
    {
     "name": "stderr",
     "output_type": "stream",
     "text": [
      "[nltk_data] Downloading package reuters to\n",
      "[nltk_data]     /Users/lukebirkett/nltk_data...\n"
     ]
    },
    {
     "data": {
      "text/plain": [
       "True"
      ]
     },
     "execution_count": 26,
     "metadata": {},
     "output_type": "execute_result"
    }
   ],
   "source": [
    "import nltk\n",
    "nltk.download('reuters')"
   ]
  },
  {
   "cell_type": "code",
   "execution_count": 32,
   "metadata": {
    "id": "BbNvhx5-nw1t"
   },
   "outputs": [
    {
     "name": "stdout",
     "output_type": "stream",
     "text": [
      "['They', 'told', 'Reuter', 'correspondents', 'in', 'Asian', 'capitals', 'a', 'U', '.', 'S', '.', 'Move', 'against', 'Japan', 'might', 'boost', 'protectionist', 'sentiment', 'in', 'the', 'U', '.', 'S', '.', 'And', 'lead', 'to', 'curbs', 'on', 'American', 'imports', 'of', 'their', 'products', '.']\n",
      "36\n",
      "['But', 'some', 'exporters', 'said', 'that', 'while', 'the', 'conflict', 'would', 'hurt', 'them', 'in', 'the', 'long', '-', 'run', ',', 'in', 'the', 'short', '-', 'term', 'Tokyo', \"'\", 's', 'loss', 'might', 'be', 'their', 'gain', '.']\n",
      "31\n",
      "['The', 'U', '.', 'S', '.', 'Has', 'said', 'it', 'will', 'impose', '300', 'mln', 'dlrs', 'of', 'tariffs', 'on', 'imports', 'of', 'Japanese', 'electronics', 'goods', 'on', 'April', '17', ',', 'in', 'retaliation', 'for', 'Japan', \"'\", 's', 'alleged', 'failure', 'to', 'stick', 'to', 'a', 'pact', 'not', 'to', 'sell', 'semiconductors', 'on', 'world', 'markets', 'at', 'below', 'cost', '.']\n",
      "49\n",
      "['Unofficial', 'Japanese', 'estimates', 'put', 'the', 'impact', 'of', 'the', 'tariffs', 'at', '10', 'billion', 'dlrs', 'and', 'spokesmen', 'for', 'major', 'electronics', 'firms', 'said', 'they', 'would', 'virtually', 'halt', 'exports', 'of', 'products', 'hit', 'by', 'the', 'new', 'taxes', '.']\n",
      "33\n",
      "['\"', 'We', 'wouldn', \"'\", 't', 'be', 'able', 'to', 'do', 'business', ',\"', 'said', 'a', 'spokesman', 'for', 'leading', 'Japanese', 'electronics', 'firm', 'Matsushita', 'Electric', 'Industrial', 'Co', 'Ltd', '&', 'lt', ';', 'MC', '.', 'T', '>.']\n",
      "31\n",
      "['\"', 'If', 'the', 'tariffs', 'remain', 'in', 'place', 'for', 'any', 'length', 'of', 'time', 'beyond', 'a', 'few', 'months', 'it', 'will', 'mean', 'the', 'complete', 'erosion', 'of', 'exports', '(', 'of', 'goods', 'subject', 'to', 'tariffs', ')', 'to', 'the', 'U', '.', 'S', '.,\"', 'said', 'Tom', 'Murtha', ',', 'a', 'stock', 'analyst', 'at', 'the', 'Tokyo', 'office', 'of', 'broker', '&', 'lt', ';', 'James', 'Capel', 'and', 'Co', '>.']\n",
      "58\n",
      "['In', 'Taiwan', ',', 'businessmen', 'and', 'officials', 'are', 'also', 'worried', '.']\n",
      "10\n",
      "['\"', 'We', 'are', 'aware', 'of', 'the', 'seriousness', 'of', 'the', 'U', '.', 'S', '.']\n",
      "13\n",
      "['Threat', 'against', 'Japan', 'because', 'it', 'serves', 'as', 'a', 'warning', 'to', 'us', ',\"', 'said', 'a', 'senior', 'Taiwanese', 'trade', 'official', 'who', 'asked', 'not', 'to', 'be', 'named', '.']\n",
      "25\n"
     ]
    }
   ],
   "source": [
    "from nltk.corpus import reuters\n",
    "\n",
    "sents = reuters.sents()\n",
    "sample_size = 10\n",
    "\n",
    "for s in sents[1:10]:\n",
    "    print(s)\n",
    "    print(len(s))"
   ]
  },
  {
   "cell_type": "markdown",
   "metadata": {
    "id": "3-BMeDQnnw1t"
   },
   "source": [
    "What actually is the type of `sents` i.e, what does `reuters.sents()` return?  Well, lets check use the `type` function  "
   ]
  },
  {
   "cell_type": "code",
   "execution_count": 30,
   "metadata": {
    "id": "ETChhAqVnw1t"
   },
   "outputs": [
    {
     "data": {
      "text/plain": [
       "nltk.corpus.reader.util.ConcatenatedCorpusView"
      ]
     },
     "execution_count": 30,
     "metadata": {},
     "output_type": "execute_result"
    }
   ],
   "source": [
    "type(sents)"
   ]
  },
  {
   "cell_type": "markdown",
   "metadata": {
    "id": "pDBahMgenw1t"
   },
   "source": [
    "Its something called a `ConcatenatedCorpusView` which is defined in the util package of nltk.corpus.reader.  You can check out the documentation online: https://www.nltk.org/_modules/nltk/corpus/reader/util.html\n",
    "\n",
    "However, most of the time, you can think of it as a list of lists.  Each sentence is stored as a list of tokens and the whole corpus is stored as a list of sentences (i.e., a list of list of tokens).  To quote the nltk documentation:\n",
    "\n",
    "    ``A 'view' of a corpus file acts like a sequence of tokens:\n",
    "    it can be accessed by index, iterated over, etc.  However, the\n",
    "    tokens are only constructed as-needed -- the entire corpus is\n",
    "    never stored in memory at once.''\n",
    "    \n",
    "Let's just have a look at the first 10 sentences to be completely convinced that this is just like a list of lists."
   ]
  },
  {
   "cell_type": "code",
   "execution_count": 31,
   "metadata": {
    "id": "bpxiq8l0nw1t",
    "scrolled": true
   },
   "outputs": [
    {
     "data": {
      "text/plain": [
       "[['ASIAN',\n",
       "  'EXPORTERS',\n",
       "  'FEAR',\n",
       "  'DAMAGE',\n",
       "  'FROM',\n",
       "  'U',\n",
       "  '.',\n",
       "  'S',\n",
       "  '.-',\n",
       "  'JAPAN',\n",
       "  'RIFT',\n",
       "  'Mounting',\n",
       "  'trade',\n",
       "  'friction',\n",
       "  'between',\n",
       "  'the',\n",
       "  'U',\n",
       "  '.',\n",
       "  'S',\n",
       "  '.',\n",
       "  'And',\n",
       "  'Japan',\n",
       "  'has',\n",
       "  'raised',\n",
       "  'fears',\n",
       "  'among',\n",
       "  'many',\n",
       "  'of',\n",
       "  'Asia',\n",
       "  \"'\",\n",
       "  's',\n",
       "  'exporting',\n",
       "  'nations',\n",
       "  'that',\n",
       "  'the',\n",
       "  'row',\n",
       "  'could',\n",
       "  'inflict',\n",
       "  'far',\n",
       "  '-',\n",
       "  'reaching',\n",
       "  'economic',\n",
       "  'damage',\n",
       "  ',',\n",
       "  'businessmen',\n",
       "  'and',\n",
       "  'officials',\n",
       "  'said',\n",
       "  '.'],\n",
       " ['They',\n",
       "  'told',\n",
       "  'Reuter',\n",
       "  'correspondents',\n",
       "  'in',\n",
       "  'Asian',\n",
       "  'capitals',\n",
       "  'a',\n",
       "  'U',\n",
       "  '.',\n",
       "  'S',\n",
       "  '.',\n",
       "  'Move',\n",
       "  'against',\n",
       "  'Japan',\n",
       "  'might',\n",
       "  'boost',\n",
       "  'protectionist',\n",
       "  'sentiment',\n",
       "  'in',\n",
       "  'the',\n",
       "  'U',\n",
       "  '.',\n",
       "  'S',\n",
       "  '.',\n",
       "  'And',\n",
       "  'lead',\n",
       "  'to',\n",
       "  'curbs',\n",
       "  'on',\n",
       "  'American',\n",
       "  'imports',\n",
       "  'of',\n",
       "  'their',\n",
       "  'products',\n",
       "  '.'],\n",
       " ['But',\n",
       "  'some',\n",
       "  'exporters',\n",
       "  'said',\n",
       "  'that',\n",
       "  'while',\n",
       "  'the',\n",
       "  'conflict',\n",
       "  'would',\n",
       "  'hurt',\n",
       "  'them',\n",
       "  'in',\n",
       "  'the',\n",
       "  'long',\n",
       "  '-',\n",
       "  'run',\n",
       "  ',',\n",
       "  'in',\n",
       "  'the',\n",
       "  'short',\n",
       "  '-',\n",
       "  'term',\n",
       "  'Tokyo',\n",
       "  \"'\",\n",
       "  's',\n",
       "  'loss',\n",
       "  'might',\n",
       "  'be',\n",
       "  'their',\n",
       "  'gain',\n",
       "  '.'],\n",
       " ['The',\n",
       "  'U',\n",
       "  '.',\n",
       "  'S',\n",
       "  '.',\n",
       "  'Has',\n",
       "  'said',\n",
       "  'it',\n",
       "  'will',\n",
       "  'impose',\n",
       "  '300',\n",
       "  'mln',\n",
       "  'dlrs',\n",
       "  'of',\n",
       "  'tariffs',\n",
       "  'on',\n",
       "  'imports',\n",
       "  'of',\n",
       "  'Japanese',\n",
       "  'electronics',\n",
       "  'goods',\n",
       "  'on',\n",
       "  'April',\n",
       "  '17',\n",
       "  ',',\n",
       "  'in',\n",
       "  'retaliation',\n",
       "  'for',\n",
       "  'Japan',\n",
       "  \"'\",\n",
       "  's',\n",
       "  'alleged',\n",
       "  'failure',\n",
       "  'to',\n",
       "  'stick',\n",
       "  'to',\n",
       "  'a',\n",
       "  'pact',\n",
       "  'not',\n",
       "  'to',\n",
       "  'sell',\n",
       "  'semiconductors',\n",
       "  'on',\n",
       "  'world',\n",
       "  'markets',\n",
       "  'at',\n",
       "  'below',\n",
       "  'cost',\n",
       "  '.'],\n",
       " ['Unofficial',\n",
       "  'Japanese',\n",
       "  'estimates',\n",
       "  'put',\n",
       "  'the',\n",
       "  'impact',\n",
       "  'of',\n",
       "  'the',\n",
       "  'tariffs',\n",
       "  'at',\n",
       "  '10',\n",
       "  'billion',\n",
       "  'dlrs',\n",
       "  'and',\n",
       "  'spokesmen',\n",
       "  'for',\n",
       "  'major',\n",
       "  'electronics',\n",
       "  'firms',\n",
       "  'said',\n",
       "  'they',\n",
       "  'would',\n",
       "  'virtually',\n",
       "  'halt',\n",
       "  'exports',\n",
       "  'of',\n",
       "  'products',\n",
       "  'hit',\n",
       "  'by',\n",
       "  'the',\n",
       "  'new',\n",
       "  'taxes',\n",
       "  '.'],\n",
       " ['\"',\n",
       "  'We',\n",
       "  'wouldn',\n",
       "  \"'\",\n",
       "  't',\n",
       "  'be',\n",
       "  'able',\n",
       "  'to',\n",
       "  'do',\n",
       "  'business',\n",
       "  ',\"',\n",
       "  'said',\n",
       "  'a',\n",
       "  'spokesman',\n",
       "  'for',\n",
       "  'leading',\n",
       "  'Japanese',\n",
       "  'electronics',\n",
       "  'firm',\n",
       "  'Matsushita',\n",
       "  'Electric',\n",
       "  'Industrial',\n",
       "  'Co',\n",
       "  'Ltd',\n",
       "  '&',\n",
       "  'lt',\n",
       "  ';',\n",
       "  'MC',\n",
       "  '.',\n",
       "  'T',\n",
       "  '>.'],\n",
       " ['\"',\n",
       "  'If',\n",
       "  'the',\n",
       "  'tariffs',\n",
       "  'remain',\n",
       "  'in',\n",
       "  'place',\n",
       "  'for',\n",
       "  'any',\n",
       "  'length',\n",
       "  'of',\n",
       "  'time',\n",
       "  'beyond',\n",
       "  'a',\n",
       "  'few',\n",
       "  'months',\n",
       "  'it',\n",
       "  'will',\n",
       "  'mean',\n",
       "  'the',\n",
       "  'complete',\n",
       "  'erosion',\n",
       "  'of',\n",
       "  'exports',\n",
       "  '(',\n",
       "  'of',\n",
       "  'goods',\n",
       "  'subject',\n",
       "  'to',\n",
       "  'tariffs',\n",
       "  ')',\n",
       "  'to',\n",
       "  'the',\n",
       "  'U',\n",
       "  '.',\n",
       "  'S',\n",
       "  '.,\"',\n",
       "  'said',\n",
       "  'Tom',\n",
       "  'Murtha',\n",
       "  ',',\n",
       "  'a',\n",
       "  'stock',\n",
       "  'analyst',\n",
       "  'at',\n",
       "  'the',\n",
       "  'Tokyo',\n",
       "  'office',\n",
       "  'of',\n",
       "  'broker',\n",
       "  '&',\n",
       "  'lt',\n",
       "  ';',\n",
       "  'James',\n",
       "  'Capel',\n",
       "  'and',\n",
       "  'Co',\n",
       "  '>.'],\n",
       " ['In',\n",
       "  'Taiwan',\n",
       "  ',',\n",
       "  'businessmen',\n",
       "  'and',\n",
       "  'officials',\n",
       "  'are',\n",
       "  'also',\n",
       "  'worried',\n",
       "  '.'],\n",
       " ['\"',\n",
       "  'We',\n",
       "  'are',\n",
       "  'aware',\n",
       "  'of',\n",
       "  'the',\n",
       "  'seriousness',\n",
       "  'of',\n",
       "  'the',\n",
       "  'U',\n",
       "  '.',\n",
       "  'S',\n",
       "  '.'],\n",
       " ['Threat',\n",
       "  'against',\n",
       "  'Japan',\n",
       "  'because',\n",
       "  'it',\n",
       "  'serves',\n",
       "  'as',\n",
       "  'a',\n",
       "  'warning',\n",
       "  'to',\n",
       "  'us',\n",
       "  ',\"',\n",
       "  'said',\n",
       "  'a',\n",
       "  'senior',\n",
       "  'Taiwanese',\n",
       "  'trade',\n",
       "  'official',\n",
       "  'who',\n",
       "  'asked',\n",
       "  'not',\n",
       "  'to',\n",
       "  'be',\n",
       "  'named',\n",
       "  '.']]"
      ]
     },
     "execution_count": 31,
     "metadata": {},
     "output_type": "execute_result"
    }
   ],
   "source": [
    "sents[0:10]"
   ]
  },
  {
   "cell_type": "markdown",
   "metadata": {
    "id": "1AQH3tF3nw1u"
   },
   "source": [
    "When we found the length of each sentence earlier, what is that length in terms of: the number of characters or the number of tokens?"
   ]
  },
  {
   "cell_type": "code",
   "execution_count": 33,
   "metadata": {},
   "outputs": [
    {
     "data": {
      "text/plain": [
       "36"
      ]
     },
     "execution_count": 33,
     "metadata": {},
     "output_type": "execute_result"
    }
   ],
   "source": [
    "a = ['They', 'told', 'Reuter', 'correspondents', 'in', 'Asian', 'capitals', 'a', 'U', '.', 'S', '.', 'Move', 'against', 'Japan', 'might', 'boost', 'protectionist', 'sentiment', 'in', 'the', 'U', '.', 'S', '.', 'And', 'lead', 'to', 'curbs', 'on', 'American', 'imports', 'of', 'their', 'products', '.']\n",
    "len(a)"
   ]
  },
  {
   "cell_type": "markdown",
   "metadata": {
    "id": "GYcxgII9nw1u"
   },
   "source": [
    "#### My answer\n"
   ]
  },
  {
   "cell_type": "markdown",
   "metadata": {},
   "source": [
    "The length was the number of tokens (words) in a sentance"
   ]
  },
  {
   "cell_type": "markdown",
   "metadata": {
    "id": "1PE3TTTNnw1u"
   },
   "source": [
    "## Random Sampling of Sentences\n",
    "\n",
    "We don't always want to use the same 10 sentences from a corpus.  We want to be able to take random samples.  The function below will take a ConcatenatedCorpusView object such as is returned by `reuters.sents()` and returns a random sampe of size `sample_size`.  Study the code and make sure you understand how it works."
   ]
  },
  {
   "cell_type": "code",
   "execution_count": 49,
   "metadata": {
    "id": "cCug6GBWnw1u"
   },
   "outputs": [],
   "source": [
    "import random\n",
    "\n",
    "def sample_sentences(corpus,sample_size):\n",
    "\n",
    "    size=len(corpus) # gives the number of sentances in the corpus\n",
    "    ids=random.sample(range(size),sample_size) # create x number of ID in the range of the number sentnances\n",
    "    sample=[corpus[i] for i in ids]  # create a list of sample sentances\n",
    "    return sample\n",
    "\n"
   ]
  },
  {
   "cell_type": "code",
   "execution_count": 53,
   "metadata": {
    "id": "CRVDqKE9nw1u"
   },
   "outputs": [
    {
     "name": "stdout",
     "output_type": "stream",
     "text": [
      "[['1985', 'net', 'includes', 'charge', '504', ',', '571', 'dlrs', 'from', 'cumulative', 'effect', 'of', 'accounting', 'change', '.'], ['HOVNANIAN', 'ENTERPRISES', 'INC', '&', 'lt', ';', 'HOV', '>', 'QTR', 'EARNINGS', 'May', '31', 'end', 'Shr', '27', 'cts', 'vs', '14', 'cts', 'Net', '5', ',', '664', ',', '000', 'vs', '2', ',', '812', ',', '000', 'Revs', '68', '.', '2', 'mln', 'vs', '54', '.', '7', 'mln', 'Avg', 'shrs', '21', ',', '254', ',', '054', 'vs', '20', ',', '167', ',', '714', 'NOTE', ':', 'First', 'quarter', 'report'], ['CHEMIE', 'LINZ', 'EXPECTS', 'SHARPLY', 'HIGHER', '1986', 'LOSS', 'State', '-', 'owned', '&', 'lt', ';', 'Chemie', 'Linz', 'AG', '>', 'is', 'likely', 'to', 'record', 'a', '1986', 'loss', 'of', 'some', '600', 'mln', 'schillings', 'compared', 'with', 'a', '340', 'mln', 'loss', 'in', '1985', ',', 'a', 'company', 'spokesman', 'said', '.'], ['REUTER', 'N'], ['N', '.', 'Z', '.'], ['\"', 'If', 'indeed', ',', 'the', 'reason', 'Dudley', 'Taft', 'is', 'no', 'longer', 'president', 'is', 'because', 'the', 'bass', 'group', 'tossed', 'him', 'out', ',', 'I', 'couldn', \"'\", 't', 'see', 'them', 'backing', 'him', 'on', 'any', 'deal', ',\"', 'said', 'one', 'analyst', ',', 'who', 'asked', 'not', 'to', 'be', 'identified', '.'], ['Unit', 'Two', 'is', 'about', '60', 'pct', 'complete', ',', 'it', 'added', '.'], ['Harcourt', 'said', 'three', 'of', 'its', 'senior', 'officers', 'and', 'its', 'investment', 'bankers', 'met', 'yesterday', 'with', 'investment', 'bankers', 'for', 'Harper', 'and', 'Row', 'to', 'discuss', 'the', 'Harcourt', 'Brace', 'offer', '.'], ['He', 'gave', 'no', 'figure', 'for', 'expected', 'output', ',', 'except', 'to', 'say', 'it', 'would', 'probably', 'be', 'down', 'a', 'little', 'from', '1985', '/', '86', '.'], ['Harper', 'said', 'it', 'will', 'consider', 'the', 'proposal', ',', 'including', 'such', 'possible', 'concerns', 'as', 'anti', '-', 'trust', 'and', 'other', 'legal', 'considerations', '.']]\n"
     ]
    }
   ],
   "source": [
    "random.seed(33) #uncomment this line if you want the same random sample every time you run the cell\n",
    "\n",
    "sample=sample_sentences(sents,10)\n",
    "print(sample)"
   ]
  },
  {
   "cell_type": "markdown",
   "metadata": {
    "id": "scz8JgBSPsyK"
   },
   "source": [
    "### Exercise 3.1\n",
    "\n",
    "- In the cell below, write code which will print a sample of **20** sentences from the **twitter_samples** corpus.  \n",
    "\n",
    "Check out the documentation for the twitter_samples corpus reader here: http://www.nltk.org/howto/twitter.html#corpus_reader\n",
    "\n",
    "Note that it has a `strings()` function rather than a `sents()` function to get back the text of tweets.\n"
   ]
  },
  {
   "cell_type": "code",
   "execution_count": 55,
   "metadata": {
    "id": "9fPXiUHSPsyL"
   },
   "outputs": [
    {
     "name": "stderr",
     "output_type": "stream",
     "text": [
      "[nltk_data] Downloading package twitter_samples to\n",
      "[nltk_data]     /Users/lukebirkett/nltk_data...\n",
      "[nltk_data]   Unzipping corpora/twitter_samples.zip.\n"
     ]
    },
    {
     "data": {
      "text/plain": [
       "True"
      ]
     },
     "execution_count": 55,
     "metadata": {},
     "output_type": "execute_result"
    }
   ],
   "source": [
    "import nltk\n",
    "nltk.download('twitter_samples')"
   ]
  },
  {
   "cell_type": "code",
   "execution_count": 74,
   "metadata": {
    "id": "yQYkrCsonw1v"
   },
   "outputs": [
    {
     "name": "stdout",
     "output_type": "stream",
     "text": [
      "RT @KirkKus: Indirect cost of the UK being in the EU is estimated to be costing Britain £170 billion per year! #BetterOffOut #UKIP\n",
      " \n"
     ]
    }
   ],
   "source": [
    "from nltk.corpus import twitter_samples\n",
    "\n",
    "tw_corpus = twitter_samples.fileids()\n",
    "\n",
    "# tw_corpus ['negative_tweets.json', 'positive_tweets.json', 'tweets.20150430-223406.json']\n",
    "\n",
    "strings = twitter_samples.strings('tweets.20150430-223406.json')\n",
    "for string in strings[0:1]:\n",
    "    print(string)\n",
    "    print(\" \")"
   ]
  },
  {
   "cell_type": "markdown",
   "metadata": {
    "id": "LhxakKC-nw1v"
   },
   "source": [
    "### Exercise 3.2\n",
    "\n",
    "The twitter text doesn't come pre-tokenised.  Write some code to generate a list of list of tokens for your sample."
   ]
  },
  {
   "cell_type": "code",
   "execution_count": 76,
   "metadata": {
    "id": "X9vahL6Wnw1v"
   },
   "outputs": [
    {
     "name": "stdout",
     "output_type": "stream",
     "text": [
      "['RT', '@KirkKus', ':', 'Indirect', 'cost', 'of', 'the', 'UK', 'being', 'in', 'the', 'EU', 'is', 'estimated', 'to', 'be', 'costing', 'Britain', '£', '170', 'billion', 'per', 'year', '!', '#BetterOffOut', '#UKIP']\n"
     ]
    }
   ],
   "source": [
    "tokenized = twitter_samples.tokenized('tweets.20150430-223406.json')\n",
    "for toks in tokenized[:1]:\n",
    "    print(toks)"
   ]
  },
  {
   "cell_type": "markdown",
   "metadata": {
    "id": "xUzA9KsGPsyV"
   },
   "source": [
    "### Exercise 3.3\n",
    "\n",
    "- In the cell below write code that will take a sample of sentences from each of the Reuters, Twitter and Gutenberg corpora and displays the average length (as measured in terms of the number of tokens in the sentence).\n",
    "\n",
    "- How large do you think the sample size should be in order to decide whether the differences observed are systematic or random?"
   ]
  },
  {
   "cell_type": "code",
   "execution_count": 102,
   "metadata": {},
   "outputs": [
    {
     "name": "stdout",
     "output_type": "stream",
     "text": [
      "24.9 19.0\n"
     ]
    }
   ],
   "source": [
    "from nltk.corpus import reuters\n",
    "from nltk.corpus import twitter_samples\n",
    "\n",
    "sents = reuters.sents()\n",
    "# strings = twitter_samples.strings('tweets.20150430-223406.json')\n",
    "tokenized = twitter_samples.tokenized('tweets.20150430-223406.json')\n",
    "\n",
    "random.seed(33)\n",
    "\n",
    "r_sample=sample_sentences(sents,10)\n",
    "t_sample=sample_sentences(tokenized,10)\n",
    "\n",
    "r_sample_lens = [len(i) for i in r_sample]\n",
    "t_sample_lens = [len(i) for i in t_sample]\n",
    "\n",
    "r_avg = sum(len(s) for s in r_sample) / len(r_sample)\n",
    "t_avg = sum(len(s) for s in t_sample) / len(t_sample)\n",
    "\n",
    "print(r_avg, t_avg)\n"
   ]
  },
  {
   "cell_type": "code",
   "execution_count": 115,
   "metadata": {},
   "outputs": [],
   "source": [
    "from nltk.corpus import reuters\n",
    "from nltk.corpus import twitter_samples\n",
    "\n",
    "ru_output = []\n",
    "tw_output = []\n",
    "\n",
    "samples = [10, 50, 75, 100, 250, 500, 750, 1000, 2500, 5000, 7500, 10000]\n",
    "\n",
    "sents = reuters.sents()\n",
    "tokenized = twitter_samples.tokenized('tweets.20150430-223406.json')\n",
    "\n",
    "random.seed(33)\n",
    "\n",
    "for i in samples:\n",
    "    r_sample=sample_sentences(sents, i)\n",
    "    t_sample=sample_sentences(tokenized, i)\n",
    "\n",
    "    r_sample_lens = [len(i) for i in r_sample]\n",
    "    t_sample_lens = [len(i) for i in t_sample]\n",
    "\n",
    "    r_avg = sum(len(s) for s in r_sample) / len(r_sample)\n",
    "    t_avg = sum(len(s) for s in t_sample) / len(t_sample)\n",
    "\n",
    "    ru_output.append(r_avg)\n",
    "    tw_output.append(t_avg)\n",
    "    "
   ]
  },
  {
   "cell_type": "code",
   "execution_count": 116,
   "metadata": {},
   "outputs": [
    {
     "data": {
      "text/plain": [
       "[19.0,\n",
       " 20.52,\n",
       " 22.72,\n",
       " 22.34,\n",
       " 22.512,\n",
       " 22.624,\n",
       " 22.118666666666666,\n",
       " 22.26,\n",
       " 22.48,\n",
       " 22.3938,\n",
       " 22.529333333333334,\n",
       " 22.4861]"
      ]
     },
     "execution_count": 116,
     "metadata": {},
     "output_type": "execute_result"
    }
   ],
   "source": [
    "ru_output\n",
    "tw_output"
   ]
  },
  {
   "cell_type": "markdown",
   "metadata": {
    "id": "MgBYKA4efjyq"
   },
   "source": [
    "#### MY ANSWER\n"
   ]
  },
  {
   "cell_type": "code",
   "execution_count": 107,
   "metadata": {
    "scrolled": true
   },
   "outputs": [
    {
     "name": "stdout",
     "output_type": "stream",
     "text": [
      "Collecting matplotlib\n",
      "  Using cached matplotlib-3.10.6-cp313-cp313-macosx_11_0_arm64.whl.metadata (11 kB)\n",
      "Collecting contourpy>=1.0.1 (from matplotlib)\n",
      "  Using cached contourpy-1.3.3-cp313-cp313-macosx_11_0_arm64.whl.metadata (5.5 kB)\n",
      "Collecting cycler>=0.10 (from matplotlib)\n",
      "  Using cached cycler-0.12.1-py3-none-any.whl.metadata (3.8 kB)\n",
      "Collecting fonttools>=4.22.0 (from matplotlib)\n",
      "  Using cached fonttools-4.60.1-cp313-cp313-macosx_10_13_universal2.whl.metadata (112 kB)\n",
      "Collecting kiwisolver>=1.3.1 (from matplotlib)\n",
      "  Using cached kiwisolver-1.4.9-cp313-cp313-macosx_11_0_arm64.whl.metadata (6.3 kB)\n",
      "Requirement already satisfied: numpy>=1.23 in ./nlp_w2_venv/lib/python3.13/site-packages (from matplotlib) (2.3.3)\n",
      "Requirement already satisfied: packaging>=20.0 in ./nlp_w2_venv/lib/python3.13/site-packages (from matplotlib) (25.0)\n",
      "Collecting pillow>=8 (from matplotlib)\n",
      "  Using cached pillow-11.3.0-cp313-cp313-macosx_11_0_arm64.whl.metadata (9.0 kB)\n",
      "Collecting pyparsing>=2.3.1 (from matplotlib)\n",
      "  Using cached pyparsing-3.2.5-py3-none-any.whl.metadata (5.0 kB)\n",
      "Requirement already satisfied: python-dateutil>=2.7 in ./nlp_w2_venv/lib/python3.13/site-packages (from matplotlib) (2.9.0.post0)\n",
      "Requirement already satisfied: six>=1.5 in ./nlp_w2_venv/lib/python3.13/site-packages (from python-dateutil>=2.7->matplotlib) (1.17.0)\n",
      "Using cached matplotlib-3.10.6-cp313-cp313-macosx_11_0_arm64.whl (8.1 MB)\n",
      "Using cached contourpy-1.3.3-cp313-cp313-macosx_11_0_arm64.whl (274 kB)\n",
      "Using cached cycler-0.12.1-py3-none-any.whl (8.3 kB)\n",
      "Using cached fonttools-4.60.1-cp313-cp313-macosx_10_13_universal2.whl (2.8 MB)\n",
      "Using cached kiwisolver-1.4.9-cp313-cp313-macosx_11_0_arm64.whl (64 kB)\n",
      "Using cached pillow-11.3.0-cp313-cp313-macosx_11_0_arm64.whl (4.7 MB)\n",
      "Using cached pyparsing-3.2.5-py3-none-any.whl (113 kB)\n",
      "Installing collected packages: pyparsing, pillow, kiwisolver, fonttools, cycler, contourpy, matplotlib\n",
      "Successfully installed contourpy-1.3.3 cycler-0.12.1 fonttools-4.60.1 kiwisolver-1.4.9 matplotlib-3.10.6 pillow-11.3.0 pyparsing-3.2.5\n",
      "\n",
      "\u001b[1m[\u001b[0m\u001b[34;49mnotice\u001b[0m\u001b[1;39;49m]\u001b[0m\u001b[39;49m A new release of pip is available: \u001b[0m\u001b[31;49m25.0\u001b[0m\u001b[39;49m -> \u001b[0m\u001b[32;49m25.2\u001b[0m\n",
      "\u001b[1m[\u001b[0m\u001b[34;49mnotice\u001b[0m\u001b[1;39;49m]\u001b[0m\u001b[39;49m To update, run: \u001b[0m\u001b[32;49mpip install --upgrade pip\u001b[0m\n"
     ]
    }
   ],
   "source": [
    "import sys\n",
    "!{sys.executable} -m pip install matplotlib"
   ]
  },
  {
   "cell_type": "code",
   "execution_count": 117,
   "metadata": {
    "id": "LBy_UFYWnw1v"
   },
   "outputs": [
    {
     "data": {
      "image/png": "[encoded data removed]",
      "text/plain": [
       "<Figure size 1000x600 with 1 Axes>"
      ]
     },
     "metadata": {},
     "output_type": "display_data"
    }
   ],
   "source": [
    "import matplotlib.pyplot as plt\n",
    "\n",
    "# samples = [10, 100, 1000, 5000, 10000]\n",
    "# ru_output = [5.2, 8.5, 9.1, 9.5, 9.4]\n",
    "# tw_output = [15.1, 14.8, 14.9, 15.0, 15.2]\n",
    "\n",
    "plt.figure(figsize=(10, 6))\n",
    "\n",
    "plt.plot(samples, ru_output, marker='o', linestyle='-', color='blue', label='Reuters Output')\n",
    "plt.plot(samples, tw_output, marker='x', linestyle='--', color='red', label='Twitter Output')\n",
    "\n",
    "plt.title('Comparison of Output vs. Sample Size')\n",
    "plt.xlabel('Sample Size (Number of Sentences)')\n",
    "plt.ylabel('Average Sentence Length (or other Metric)')\n",
    "\n",
    "plt.grid(True, linestyle=':', alpha=0.6)\n",
    "plt.legend()\n",
    "plt.show()"
   ]
  }
 ],
 "metadata": {
  "colab": {
   "provenance": []
  },
  "kernelspec": {
   "display_name": "nlp_w2_venv",
   "language": "python",
   "name": "nlp_w2_venv"
  },
  "language_info": {
   "codemirror_mode": {
    "name": "ipython",
    "version": 3
   },
   "file_extension": ".py",
   "mimetype": "text/x-python",
   "name": "python",
   "nbconvert_exporter": "python",
   "pygments_lexer": "ipython3",
   "version": "3.13.2"
  }
 },
 "nbformat": 4,
 "nbformat_minor": 4
}
