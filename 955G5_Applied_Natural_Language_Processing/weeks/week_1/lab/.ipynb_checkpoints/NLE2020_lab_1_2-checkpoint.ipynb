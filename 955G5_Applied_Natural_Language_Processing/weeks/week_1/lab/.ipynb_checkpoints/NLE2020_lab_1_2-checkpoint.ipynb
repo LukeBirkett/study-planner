{
 "cells": [
  {
   "cell_type": "markdown",
   "metadata": {
    "colab_type": "text",
    "id": "75ZTNS_6VGk0"
   },
   "source": [
    "# Week 1: Introduction to Python (Part 2)"
   ]
  },
  {
   "cell_type": "markdown",
   "metadata": {
    "colab_type": "text",
    "id": "BlnzWPHEVGk2"
   },
   "source": [
    "This is the second part of the Introduction to Python for Natural Language Engineering mini-course.\n",
    "\n",
    "These notebooks are designed to give you the working knowledge of Python necessary to complete the lab sessions for Natural Language Engineering. \n",
    "\n",
    "From the last notebook you should be familiar with python types, basic operators, identifiers, lists, strings, booleans and conditions.  This notebook will introduce you to defining functions, using comments and docstrings and working with more data structures such as sets, tuples and dictionaries.\n",
    "\n",
    "As in the last session:-\n",
    "\n",
    "- Run all of the code cells as you work through the notebook. \n",
    "- Try to understand what is happening in each code cell and predict the output before running it.\n",
    "- Add more cells to try things out.\n",
    "- Complete all of the exercises.\n",
    "- Discuss answers and ask questions!\n"
   ]
  },
  {
   "cell_type": "markdown",
   "metadata": {
    "colab_type": "text",
    "id": "b82YQGQNVGk3"
   },
   "source": [
    "## 1.2.1 Functions\n",
    "Functions are defined using the keyword `def`, followed by a function name, and some number of arguments in parentheses.  If there are multiple arguments to a function, these are separated by commas.  Don't forget the `:` after the closing parenthesis.\n",
    "\n",
    "The body of the function starts on the next line, and must be indented.\n",
    "\n",
    "The function `double()` below has a single argument `number`.  It returns the value of the `number` argument multiplied by 2. "
   ]
  },
  {
   "cell_type": "code",
   "execution_count": null,
   "metadata": {
    "colab": {},
    "colab_type": "code",
    "id": "077mr93dVGk4"
   },
   "outputs": [],
   "source": [
    "def double(number):\n",
    "     return(number * 2)"
   ]
  },
  {
   "cell_type": "markdown",
   "metadata": {
    "colab_type": "text",
    "id": "Jw0J0gDtVnCh"
   },
   "source": [
    "To use or call a function, you use the function name and supply it with values for its arguments in parentheses.\n",
    "\n"
   ]
  },
  {
   "cell_type": "code",
   "execution_count": null,
   "metadata": {
    "colab": {},
    "colab_type": "code",
    "id": "ahzg6G5nVGk8"
   },
   "outputs": [],
   "source": [
    "double(13)"
   ]
  },
  {
   "cell_type": "markdown",
   "metadata": {
    "colab_type": "text",
    "id": "3ucsaa1YWhTr"
   },
   "source": [
    "We will often want to store the return value from a function in a variable for use later on in our code.  Remember from last time that we can assign a value to a variable using a single `=`"
   ]
  },
  {
   "cell_type": "code",
   "execution_count": null,
   "metadata": {
    "colab": {},
    "colab_type": "code",
    "id": "i1mP1OYEW1vS"
   },
   "outputs": [],
   "source": [
    "new_value = double(13)"
   ]
  },
  {
   "cell_type": "markdown",
   "metadata": {
    "colab_type": "text",
    "id": "lnZD4xpvWhDJ"
   },
   "source": [
    "Note also that the built-in `type()` function will tell us that `double` is a function."
   ]
  },
  {
   "cell_type": "code",
   "execution_count": null,
   "metadata": {
    "colab": {},
    "colab_type": "code",
    "id": "ygpAIO4ZVGlB"
   },
   "outputs": [],
   "source": [
    "type(double)"
   ]
  },
  {
   "cell_type": "markdown",
   "metadata": {
    "colab_type": "text",
    "id": "StLt_TeXXM-m"
   },
   "source": [
    "We can define functions to do whatever we want.  Here we have a function which takes a String argument and adds a question mark on the add before returning it."
   ]
  },
  {
   "cell_type": "code",
   "execution_count": null,
   "metadata": {
    "colab": {},
    "colab_type": "code",
    "id": "a7MM4DMnVGlE"
   },
   "outputs": [],
   "source": [
    "def add_question_mark(any_string):\n",
    "    return any_string + \"?\""
   ]
  },
  {
   "cell_type": "code",
   "execution_count": null,
   "metadata": {
    "colab": {},
    "colab_type": "code",
    "id": "3Fy3VXmdVGlH"
   },
   "outputs": [],
   "source": [
    "add_question_mark(\"what's your name\")"
   ]
  },
  {
   "cell_type": "markdown",
   "metadata": {
    "colab_type": "text",
    "id": "34G1876XXgkJ"
   },
   "source": [
    "Note that the argument variable (`any_string` in the example above) is a **local variable** to the function.  This means that it cannot be referred to outside of the function.  If you do so, you will get a *NameError* as below."
   ]
  },
  {
   "cell_type": "code",
   "execution_count": null,
   "metadata": {
    "colab": {},
    "colab_type": "code",
    "id": "iGbCh0gbX0di"
   },
   "outputs": [],
   "source": [
    "any_string"
   ]
  },
  {
   "cell_type": "markdown",
   "metadata": {
    "colab_type": "text",
    "id": "dqab98UbYV4Z"
   },
   "source": [
    "What does the unhelpfully named function below do?"
   ]
  },
  {
   "cell_type": "code",
   "execution_count": null,
   "metadata": {
    "colab": {},
    "colab_type": "code",
    "id": "XpqO8PZyVGlK"
   },
   "outputs": [],
   "source": [
    "def some_function(any_string):\n",
    "    half_length_of_string = len(any_string)//2 #use floor division as indices must be integers\n",
    "    return any_string[:half_length_of_string]"
   ]
  },
  {
   "cell_type": "code",
   "execution_count": null,
   "metadata": {
    "colab": {},
    "colab_type": "code",
    "id": "moP0ucq8VGlN"
   },
   "outputs": [],
   "source": [
    "some_function('hi how are you doing?')"
   ]
  },
  {
   "cell_type": "markdown",
   "metadata": {
    "colab_type": "text",
    "id": "hoiIDkIMVGlQ"
   },
   "source": [
    "### **Exercise 1a**\n",
    "In the empty cell below define a function called `square` that returns an input parameter squared. \n",
    "\n",
    "Hint: check the 'basic functions' section (Section 1.1.2 in Part 1) for the Python syntax for exponentials."
   ]
  },
  {
   "cell_type": "code",
   "execution_count": null,
   "metadata": {
    "colab": {},
    "colab_type": "code",
    "id": "dBpINd1kVGlR"
   },
   "outputs": [],
   "source": []
  },
  {
   "cell_type": "markdown",
   "metadata": {
    "colab_type": "text",
    "id": "6F01G7TJVGlT"
   },
   "source": [
    "### **Exercise 1b**\n",
    "In the empty cell below define a function `makelist` that takes a sentence string as an input, and returns a list of the words in the sentence."
   ]
  },
  {
   "cell_type": "code",
   "execution_count": null,
   "metadata": {
    "colab": {},
    "colab_type": "code",
    "id": "HRYsC0xIVGlT"
   },
   "outputs": [],
   "source": []
  },
  {
   "cell_type": "markdown",
   "metadata": {
    "colab_type": "text",
    "id": "cSZMbVlCVGlW"
   },
   "source": [
    "### 1.2.2 Comments and docstrings\n",
    "\n",
    "Look at the code in the code cell below.\n",
    "\n",
    "- The first block of text shows how doc strings are used in Python. By convention, all function definitions should begin with a block of documentation (docstring) of the form given by the first block in triple quotes in the programme below.\n",
    "- Comments in the code itself are introduced by a `#` either as a separate line or appended to the end of a line. Python will ignore the rest of a line after a `#`.\n",
    "\n",
    "When you type shift-enter to execute the cell, the function exists in the kernel and can be called by any cell in the notebook. The function definition ends as soon as the indentation ceases (this is triggered by the comment `\"Here is the argument:\"`).  After creating the function the kernel will continue to execute the contents of the cell, thereby calling the function. \n",
    "\n",
    "Notice how the program splits a character string at carriage return (\"\\n\") characters. This works because split is an inbuilt method of the text data type. Therefore all text objects can be split in this way.\n",
    "- `\\n` is the carriage return character. \n",
    "- `\\t` can be used similarly for reading tab separated data.\n",
    "- If you leave the argument empty it will treat any string of whitespace as a delimiter to be split. This has the advantage that a double space will be treated as a single delimiter.\n",
    "\n",
    "### **Exercise 2a**\n",
    "The cell below defines and calls a function `count_paragraphs()`.  Read the docstring and the comments to understand what it does.\n",
    "- Notice that execution of the first cell means the variable is now in the kernel and accessible to any cell.\n",
    "- Use the same box to try printing the variable `input_text`. What happens? Why?"
   ]
  },
  {
   "cell_type": "code",
   "execution_count": null,
   "metadata": {
    "colab": {},
    "colab_type": "code",
    "id": "cOGqAKOiVGlX"
   },
   "outputs": [],
   "source": [
    "\n",
    "def count_paragraphs(input_text):\n",
    "    \"\"\"\n",
    "    A paragraph is defined as the text before a CR character ie.: \"\\n\".\n",
    "    Take a character string, split it into paragraphs, count them\n",
    "    and return the count.\n",
    "    :param input_text: a character string containing paragraph marks.\n",
    "    :return: integer, the number of paragraphs.\n",
    "    \"\"\"\n",
    "    \n",
    "    # The following statement creates a list of strings by breaking\n",
    "    # up input_text wherever a \"\\n\" character occurs\n",
    "    \n",
    "    paragraphs = input_text.split(\"\\n\")  \n",
    "    \n",
    "    # The len() function counts the number of elements in the list\n",
    "    \n",
    "    return len(paragraphs)\n",
    "\n",
    "\n",
    "# Here is the argument:\n",
    "\n",
    "sample_text = \"This is a sample sentence01 showing 7 different token types: alphabetic, numeric, alphanumeric, Title, UPPERCASE, CamelCase and punctuation!\\nSentences like that should not exist. They're too artificial.\\nA REAL sentence looks different. It has flavour to it. You can smell it; it's like Pythonic code, you know?\\nHave you heard of 'code smell'? Google it if you haven't.\"\n",
    "print (sample_text)\n",
    "\n",
    "# Here is the function call:\n",
    "\n",
    "print (\"Number of paragraphs: \", count_paragraphs(sample_text))\n"
   ]
  },
  {
   "cell_type": "markdown",
   "metadata": {
    "colab_type": "text",
    "id": "9_jExrmjVGla"
   },
   "source": [
    "### **Exercise 2a continued**\n",
    "In the blank cell below examine the contents of the variable `sample_text` with and without the print function.\n",
    "- Notice that execution of the previous cell means the variable is now in the kernel and accessible to any cell.\n",
    "- Use the same box to try printing the variable `input_text`. What happens? Why?"
   ]
  },
  {
   "cell_type": "code",
   "execution_count": null,
   "metadata": {
    "colab": {},
    "colab_type": "code",
    "id": "WLbNBLTKVGla"
   },
   "outputs": [],
   "source": []
  },
  {
   "cell_type": "code",
   "execution_count": null,
   "metadata": {
    "colab": {},
    "colab_type": "code",
    "id": "XMYZCa8zbir0"
   },
   "outputs": [],
   "source": []
  },
  {
   "cell_type": "markdown",
   "metadata": {
    "colab_type": "text",
    "id": "TqNnygxLVGld"
   },
   "source": [
    "## 1.2.3 Sets  \n",
    "Last time, we looked at the more complex data structure of lists.\n",
    "\n",
    "Now we are going to take a look at a related data structure called a set.  These are **unordered** collections of **unique** elements.\n",
    "\n",
    "Note the use of curly  brackets rather than the square brackets used for lists."
   ]
  },
  {
   "cell_type": "code",
   "execution_count": null,
   "metadata": {
    "colab": {},
    "colab_type": "code",
    "id": "FrouAYAWVGle"
   },
   "outputs": [],
   "source": [
    "unique_numbers = {1, 2, 2, 2, 3}\n",
    "unique_numbers"
   ]
  },
  {
   "cell_type": "code",
   "execution_count": null,
   "metadata": {
    "colab": {},
    "colab_type": "code",
    "id": "sA3oTZp8VGlg"
   },
   "outputs": [],
   "source": [
    "type(unique_numbers)"
   ]
  },
  {
   "cell_type": "markdown",
   "metadata": {
    "colab_type": "text",
    "id": "UNlcA1scVGli"
   },
   "source": [
    "To initialise an empty set, use `set()`"
   ]
  },
  {
   "cell_type": "code",
   "execution_count": null,
   "metadata": {
    "colab": {},
    "colab_type": "code",
    "id": "1cCbo2PBVGlj"
   },
   "outputs": [],
   "source": [
    "new_set = set()\n",
    "type(new_set)"
   ]
  },
  {
   "cell_type": "markdown",
   "metadata": {
    "colab_type": "text",
    "id": "gTcd7nmsc05N"
   },
   "source": [
    "Or we can give a list of numbers to the set constructor `set()`.  This will construct a set out of the list.  Note that whilst we should think of a set as unordered, it has to be displayed in some order.  It could be any order but most versions of Python now will store and display a set in a default alphanumeric ordering."
   ]
  },
  {
   "cell_type": "code",
   "execution_count": null,
   "metadata": {
    "colab": {},
    "colab_type": "code",
    "id": "rIlAlg6Ic9Ew"
   },
   "outputs": [],
   "source": [
    "values=[3,1,1,4,5,2,2,1]\n",
    "set_of_values=set(values)\n",
    "set_of_values"
   ]
  },
  {
   "cell_type": "code",
   "execution_count": null,
   "metadata": {
    "colab": {},
    "colab_type": "code",
    "id": "vaj7I2_Mdsbc"
   },
   "outputs": [],
   "source": [
    "set(['z','e',3,'e','a'])\n"
   ]
  },
  {
   "cell_type": "markdown",
   "metadata": {
    "colab_type": "text",
    "id": "unOlbMosVGll"
   },
   "source": [
    "To add an element to a set, use the method `add`."
   ]
  },
  {
   "cell_type": "code",
   "execution_count": null,
   "metadata": {
    "colab": {},
    "colab_type": "code",
    "id": "U9LSE0V_VGll"
   },
   "outputs": [],
   "source": [
    "unique_numbers.add(5)"
   ]
  },
  {
   "cell_type": "markdown",
   "metadata": {
    "colab_type": "text",
    "id": "CpinAPWZVGlo"
   },
   "source": [
    "Use `len` to give the number of elements in a set."
   ]
  },
  {
   "cell_type": "code",
   "execution_count": null,
   "metadata": {
    "colab": {},
    "colab_type": "code",
    "id": "Jcebm9-oVGlp"
   },
   "outputs": [],
   "source": [
    "len(unique_numbers)"
   ]
  },
  {
   "cell_type": "markdown",
   "metadata": {
    "colab_type": "text",
    "id": "9BZI2wBiVGls"
   },
   "source": [
    "To check the presence of an element in a set use the keyword `in`.\n",
    "\n",
    "Similar to the use of `in` for lists and strings."
   ]
  },
  {
   "cell_type": "code",
   "execution_count": null,
   "metadata": {
    "colab": {},
    "colab_type": "code",
    "id": "AGuuJj_9VGls"
   },
   "outputs": [],
   "source": [
    "2 in unique_numbers"
   ]
  },
  {
   "cell_type": "markdown",
   "metadata": {
    "colab_type": "text",
    "collapsed": true,
    "id": "-ArZ36vzVGlv"
   },
   "source": [
    "Similarly to lists, we often want to do something for every element in a set.\n",
    "\n",
    "The syntax for **iterating over a set** is the same as that used when iterating over a list. \n",
    "\n",
    "Remember to use `for`, `in`, `:` and indentation."
   ]
  },
  {
   "cell_type": "code",
   "execution_count": null,
   "metadata": {
    "colab": {},
    "colab_type": "code",
    "id": "AK3iJkJXVGlv"
   },
   "outputs": [],
   "source": [
    "for number in unique_numbers:\n",
    "    print(number * 3)"
   ]
  },
  {
   "cell_type": "code",
   "execution_count": null,
   "metadata": {
    "colab": {},
    "colab_type": "code",
    "id": "lLxBSt-DVGlx",
    "scrolled": true
   },
   "outputs": [],
   "source": [
    "for number in unique_numbers:\n",
    "    print (double(number))"
   ]
  },
  {
   "cell_type": "markdown",
   "metadata": {
    "colab_type": "text",
    "id": "x6aOAeA5VGlz"
   },
   "source": [
    "### **Exercise 3a**\n",
    "In the empty cell below create a function called `get_vocabulary` that takes a *list* of words as input, and returns a *set* of the words in the sentence.\n",
    "\n",
    "Use your function `get_vocabulary` to create the set dickens_vocab, a set of unique words in the opening_line (see above)."
   ]
  },
  {
   "cell_type": "code",
   "execution_count": null,
   "metadata": {
    "colab": {},
    "colab_type": "code",
    "id": "BsvArC0KVGl0"
   },
   "outputs": [],
   "source": [
    "opening_line=\"It was the best of times, it was the worst of times\""
   ]
  },
  {
   "cell_type": "code",
   "execution_count": null,
   "metadata": {
    "colab": {},
    "colab_type": "code",
    "id": "1NB7gx39VGl4"
   },
   "outputs": [],
   "source": []
  },
  {
   "cell_type": "markdown",
   "metadata": {
    "colab_type": "text",
    "id": "CcN2s1dxVGl7"
   },
   "source": [
    "## 1.2.4 Dictionaries\n",
    "A dictionary is a very important data structure which we will be making much use of throughout the NLE course.  By definition, a dictionary is an *unordered set* of **key:value pairs**. \n",
    "\n",
    "**Keys** are used to index the dictionary.\n",
    "\n",
    "The main operations are storing a value with a key, and then extracting a specific value using its key. \n",
    "\n",
    "Each key in a given dictionary must be unique. \n",
    "\n",
    "A dictionary is initialised with curly braces. This can contain comma-separated key:value pairs. \n",
    "\n",
    "Note the use of ':' to map a key to a value."
   ]
  },
  {
   "cell_type": "code",
   "execution_count": null,
   "metadata": {
    "colab": {},
    "colab_type": "code",
    "id": "Lu38-FLBVGl8"
   },
   "outputs": [],
   "source": [
    "simpsons_ages = {\"Bart\":10, \"Lisa\":8, \"Homer\" : \"thirty something\"}\n",
    "simpsons_ages"
   ]
  },
  {
   "cell_type": "code",
   "execution_count": null,
   "metadata": {
    "colab": {},
    "colab_type": "code",
    "id": "9Z14qP45VGl-"
   },
   "outputs": [],
   "source": [
    "type(simpsons_ages)"
   ]
  },
  {
   "cell_type": "markdown",
   "metadata": {
    "colab_type": "text",
    "id": "7tgcUJXfVGmA"
   },
   "source": [
    "To access the values associated with keys in a dictionary, we use square brackets.  "
   ]
  },
  {
   "cell_type": "code",
   "execution_count": null,
   "metadata": {
    "colab": {},
    "colab_type": "code",
    "id": "Y8DFg0K6VGmB"
   },
   "outputs": [],
   "source": [
    "simpsons_ages[\"Homer\"]"
   ]
  },
  {
   "cell_type": "code",
   "execution_count": null,
   "metadata": {
    "colab": {},
    "colab_type": "code",
    "id": "Y1KwVa7gVGmD"
   },
   "outputs": [],
   "source": [
    "simpsons_ages['Bart']"
   ]
  },
  {
   "cell_type": "markdown",
   "metadata": {
    "colab_type": "text",
    "id": "nHVWSxhVVGmF"
   },
   "source": [
    "Getting the number of elements in a dictionary.\n",
    "\n",
    "Just like getting the length of a list, we use the keyword `len`."
   ]
  },
  {
   "cell_type": "code",
   "execution_count": null,
   "metadata": {
    "colab": {},
    "colab_type": "code",
    "id": "sGWMsOd4VGmG"
   },
   "outputs": [],
   "source": [
    "len(simpsons_ages)"
   ]
  },
  {
   "cell_type": "markdown",
   "metadata": {
    "colab_type": "text",
    "id": "Kzx3sQIMVGmI"
   },
   "source": [
    "We can checking the presence of a key in a dictionary using the keyword `in`"
   ]
  },
  {
   "cell_type": "code",
   "execution_count": null,
   "metadata": {
    "colab": {},
    "colab_type": "code",
    "id": "onxHPB6mVGmJ"
   },
   "outputs": [],
   "source": [
    "\"Marge\" in simpsons_ages"
   ]
  },
  {
   "cell_type": "code",
   "execution_count": null,
   "metadata": {
    "colab": {},
    "colab_type": "code",
    "id": "760KMygPVGmM"
   },
   "outputs": [],
   "source": [
    "\"Bart\" in simpsons_ages"
   ]
  },
  {
   "cell_type": "markdown",
   "metadata": {
    "colab_type": "text",
    "id": "CLlmsz1hVGmO"
   },
   "source": [
    "If we try to accessing a key that does not exist, we get a **KeyError**."
   ]
  },
  {
   "cell_type": "code",
   "execution_count": null,
   "metadata": {
    "colab": {},
    "colab_type": "code",
    "id": "62j1g49eVGmP"
   },
   "outputs": [],
   "source": [
    "simpsons_ages[\"Krusty\"]"
   ]
  },
  {
   "cell_type": "markdown",
   "metadata": {
    "colab_type": "text",
    "id": "l0OCS6OSVGmR"
   },
   "source": [
    "However, dictionaries also have a `get` method which allows us to look up values for keys which may or may not be in the dictionary.  To use the `get` method, we have to supply a second argument which is a default value to use in the case that the key does not exist."
   ]
  },
  {
   "cell_type": "code",
   "execution_count": null,
   "metadata": {
    "colab": {},
    "colab_type": "code",
    "id": "A8Vm9EQngevE"
   },
   "outputs": [],
   "source": [
    "simpsons_ages.get(\"Bart\",\"I don't know\")"
   ]
  },
  {
   "cell_type": "code",
   "execution_count": null,
   "metadata": {
    "colab": {},
    "colab_type": "code",
    "id": "BVrZiuTWVGmR"
   },
   "outputs": [],
   "source": [
    "simpsons_ages.get(\"Krusty\",\"I don't know\")"
   ]
  },
  {
   "cell_type": "markdown",
   "metadata": {
    "colab_type": "text",
    "id": "k3SQmn2jVGmT"
   },
   "source": [
    "We can add a new key:value entry to the dictionary by combining the syntax for looking up a value with the syntax for assigning a value to a variable.  \n",
    "\n",
    "For example, if we want to add the fact that Marge is 34, we write:"
   ]
  },
  {
   "cell_type": "code",
   "execution_count": null,
   "metadata": {
    "colab": {},
    "colab_type": "code",
    "id": "MKTwTG4yVGmT"
   },
   "outputs": [],
   "source": [
    "simpsons_ages[\"Marge\"] = 34\n",
    "simpsons_ages[\"Marge\"]"
   ]
  },
  {
   "cell_type": "markdown",
   "metadata": {
    "colab_type": "text",
    "id": "HIyEHBHHhIwj"
   },
   "source": [
    "We can also update the dictionary in the same way."
   ]
  },
  {
   "cell_type": "code",
   "execution_count": null,
   "metadata": {
    "colab": {},
    "colab_type": "code",
    "id": "uN-dNFFmhMi8"
   },
   "outputs": [],
   "source": [
    "simpsons_ages[\"Homer\"]=35\n",
    "simpsons_ages[\"Homer\"]"
   ]
  },
  {
   "cell_type": "markdown",
   "metadata": {
    "colab_type": "text",
    "id": "xc1gu2LlVGmV"
   },
   "source": [
    "### **Exercise 4a**\n",
    "In the blank cell below add two extra key-value pairs to the dictionary, `simpons_ages`, each consisting of a name and corresponding age.  "
   ]
  },
  {
   "cell_type": "code",
   "execution_count": null,
   "metadata": {
    "colab": {},
    "colab_type": "code",
    "id": "8ikIfdL1ldDY"
   },
   "outputs": [],
   "source": []
  },
  {
   "cell_type": "markdown",
   "metadata": {
    "colab_type": "text",
    "id": "7VQOHqc0hUjB"
   },
   "source": [
    "There are also some very useful dictionary methods which can be used to iterate over all the keys in the dictionary, all the values in the dictionary or all the key,value pairs in the dictionary.  Make sure you understand all of the examples below.\n",
    "\n",
    "First, we can use the `keys` method to get a set of all of the keys in a dictionary.  We can then iterate over this like any other set or list."
   ]
  },
  {
   "cell_type": "code",
   "execution_count": null,
   "metadata": {
    "colab": {},
    "colab_type": "code",
    "id": "TGhY8ZQ7hs_x"
   },
   "outputs": [],
   "source": [
    "for person in simpsons_ages.keys():\n",
    "  print(person,\"is in the Simpsons\")"
   ]
  },
  {
   "cell_type": "markdown",
   "metadata": {
    "colab_type": "text",
    "id": "L0Tf-MdFi0oN"
   },
   "source": [
    "Next, we can use the `values` method to get a set of all of the values in a dictionary.  Here we iterate over the list of values adding them to an **accumulator** variable called `total`"
   ]
  },
  {
   "cell_type": "code",
   "execution_count": null,
   "metadata": {
    "colab": {},
    "colab_type": "code",
    "id": "IrVLCdAFh-MO"
   },
   "outputs": [],
   "source": [
    "total=0\n",
    "for age in simpsons_ages.values():\n",
    "  total+=age\n",
    "print(\"The total age of known Simpsons characters is\",total)"
   ]
  },
  {
   "cell_type": "code",
   "execution_count": null,
   "metadata": {
    "colab": {},
    "colab_type": "code",
    "id": "IlwgJUtPVGmW"
   },
   "outputs": [],
   "source": []
  },
  {
   "cell_type": "markdown",
   "metadata": {
    "colab_type": "text",
    "id": "aJ8ZSo8PjJ-u"
   },
   "source": [
    "Alternatively, if we just want the sum of all of the values in the dictionary, we could have just used the built-in sum function.  Note that `sum` expects a list or a set of numbers (either floats or ints) and will generate an error if any of the values are strings."
   ]
  },
  {
   "cell_type": "code",
   "execution_count": null,
   "metadata": {
    "colab": {},
    "colab_type": "code",
    "id": "AZgG4HxljXFH"
   },
   "outputs": [],
   "source": [
    "print(\"The total age of known Simpsons characters is\",sum(simpsons_ages.values()))\n"
   ]
  },
  {
   "cell_type": "markdown",
   "metadata": {
    "colab_type": "text",
    "id": "qWV-opoWj8WN"
   },
   "source": [
    "Next, we can use the `items` method to get a list of key-value pairs. "
   ]
  },
  {
   "cell_type": "code",
   "execution_count": null,
   "metadata": {
    "colab": {},
    "colab_type": "code",
    "id": "mkbugX2ViZHU"
   },
   "outputs": [],
   "source": [
    "#Note that here as in other set and list iterations, 'person' and 'age' are arbitary variable names, and can be replaced with any two names eg 'key' and 'value'\n",
    "for person,age in simpsons_ages.items():\n",
    "  if age < 18:\n",
    "    print(person,\"is a child\")\n",
    "  else:\n",
    "    print(person,\"is an adult\")"
   ]
  },
  {
   "cell_type": "markdown",
   "metadata": {
    "colab_type": "text",
    "id": "5zAIy5DrVGmY"
   },
   "source": [
    "Finally, we can just use a `for` loop to iterate over *keys* in the dictionary, without explictly using the `keys` method.  I wouldn't recommend doing this as older versions of Python behave differently (allowing you to iterate over the `items` using this syntax).  Its best to be explicit about what you want - do you want a list of keys, values or pairs?  However, it is worth knowing that it is the **keys** that you get if you should perform an iteration over a dictionary."
   ]
  },
  {
   "cell_type": "code",
   "execution_count": null,
   "metadata": {
    "colab": {},
    "colab_type": "code",
    "id": "kE8oQQOiVGmY"
   },
   "outputs": [],
   "source": [
    "for person in simpsons_ages: \n",
    "     print (person)"
   ]
  },
  {
   "cell_type": "markdown",
   "metadata": {
    "colab_type": "text",
    "collapsed": true,
    "id": "eC4aobeiVGmm"
   },
   "source": [
    "### **Exercise 4b**\n",
    "In the blank cell below make a new dictionary called `polygons` where the keys are names of shapes and the values are the corresponding number of sides."
   ]
  },
  {
   "cell_type": "code",
   "execution_count": null,
   "metadata": {
    "colab": {},
    "colab_type": "code",
    "id": "Z1PSjeM_VGmn"
   },
   "outputs": [],
   "source": []
  },
  {
   "cell_type": "markdown",
   "metadata": {
    "colab_type": "text",
    "id": "ssXPNIFsVGmq"
   },
   "source": [
    "### **Exercise 4c**\n",
    "In the blank cell below iterate over the keys and values, printing each key and value in a sentence (eg 'a triangle has 3 sides')."
   ]
  },
  {
   "cell_type": "code",
   "execution_count": null,
   "metadata": {
    "colab": {},
    "colab_type": "code",
    "id": "6qM82lM3VGmr"
   },
   "outputs": [],
   "source": []
  },
  {
   "cell_type": "markdown",
   "metadata": {
    "colab_type": "text",
    "id": "iDpK5E7ZVGmt"
   },
   "source": [
    "### **Exercise 4d**\n",
    "In the empty code cells below write code that will print, one word per line, each word in `opening_line` together with the number of times that word appears in `opening_line`.\n",
    "\n",
    "Being able to counting the number of times a word or token has been seen is something which is very important in NLE.  However, it can be quite challenging to work out how to do it efficiently with a dictionary in the first place.  See the cells below for some hints ."
   ]
  },
  {
   "cell_type": "code",
   "execution_count": null,
   "metadata": {
    "colab": {},
    "colab_type": "code",
    "id": "CV7dCf0cVGmz"
   },
   "outputs": [],
   "source": []
  },
  {
   "cell_type": "markdown",
   "metadata": {
    "colab_type": "text",
    "id": "GRPAWgS1pvzw"
   },
   "source": [
    "**Hint 1**: you need to start with an empty dictionary and then iterate over a list of words.  For each word in the list, you need to look up how many times it has been seen previously and then add 1 to it (remembering to update the dictionary!)"
   ]
  },
  {
   "cell_type": "markdown",
   "metadata": {
    "colab_type": "text",
    "id": "VnesPOYKoTLW"
   },
   "source": [
    "**Hint 2**: use the `get` method to supply a default value of 0 for the number of times a word has been seen so far."
   ]
  },
  {
   "cell_type": "markdown",
   "metadata": {
    "colab_type": "text",
    "id": "07QH1CCgVGm3"
   },
   "source": [
    "## 1.2.5 Files\n",
    "\n",
    "Quite often we want to load data from (or save data to) files.\n",
    "Files have a file path and in the cell below we use the variable `input_file_path` to hold a string that contains a file path.\n",
    "\n",
    "If you are working on Colab then you will see on your Google Drive account that you have a directory called `Colab Notebooks`.  Navigate to this directory and create a new folder called `datafiles`.  Then drag and drop the `sample_text.txt` file from the Week 1 resources folder into this directory.  \n",
    "\n",
    "Now mount your Google Drive in colab.  You need to run the code below and follow the instructions in order to authorise the access to your Google Drive"
   ]
  },
  {
   "cell_type": "code",
   "execution_count": null,
   "metadata": {
    "colab": {},
    "colab_type": "code",
    "id": "mC4R30lRtp3C"
   },
   "outputs": [],
   "source": [
    "from google.colab import drive\n",
    "drive.mount('/content/drive')"
   ]
  },
  {
   "cell_type": "markdown",
   "metadata": {
    "colab_type": "text",
    "id": "wttOPjCzuWMK"
   },
   "source": [
    "Now you can access files in your Google Drive account by specifying a filepath in that directory"
   ]
  },
  {
   "cell_type": "code",
   "execution_count": null,
   "metadata": {
    "colab": {},
    "colab_type": "code",
    "id": "HuXjgLyDVGm4"
   },
   "outputs": [],
   "source": [
    "#Make sure the file path points to a valid file\n",
    "#on the windows machines in the labs you will want something like this\n",
    "#input_file_path = \"N:/Documents/teaching/NLE2018/w1/Week1Labs/sample_text.txt\"\n",
    "\n",
    "#on a mac or a linux machine you will want something like this\n",
    "#input_file_path = \"/Users/juliewe/Documents/teaching/NLE/NLE2019/w1/Week1Labs/sample_text.txt\"\n",
    "\n",
    "#on colab you will want something like this\n",
    "input_file_path='/content/drive/My Drive/NLE Notebooks/Week1Labs/sample_text.txt'"
   ]
  },
  {
   "cell_type": "markdown",
   "metadata": {
    "colab_type": "text",
    "id": "I4eSA0u6VGm6"
   },
   "source": [
    "We now use the file path variable to *open* the file. We need to do this before reading/writing to it.\n",
    "\n",
    "The code below also checks the **type** of the opened file path - it should be an `_io0.TextIOWrapper`. If the drive is not mounted or you type thepath incorrectly, you will get a `FileNotFoundError`"
   ]
  },
  {
   "cell_type": "code",
   "execution_count": null,
   "metadata": {
    "colab": {},
    "colab_type": "code",
    "id": "_rEjfK2zVGm6"
   },
   "outputs": [],
   "source": [
    "input_file = open(input_file_path)\n",
    "type(input_file)"
   ]
  },
  {
   "cell_type": "markdown",
   "metadata": {
    "colab_type": "text",
    "id": "KQ_EcN8LVGm9"
   },
   "source": [
    "Use the `read` command to read the entire file contents into a `str` variable called `input_text`."
   ]
  },
  {
   "cell_type": "code",
   "execution_count": null,
   "metadata": {
    "colab": {},
    "colab_type": "code",
    "id": "p84oDaNNVGm9"
   },
   "outputs": [],
   "source": [
    "input_text = input_file.read()\n",
    "type(input_text)"
   ]
  },
  {
   "cell_type": "markdown",
   "metadata": {
    "colab_type": "text",
    "id": "SWPok-XOvUyO"
   },
   "source": [
    "We can now use this `str` variable in the same way as any other."
   ]
  },
  {
   "cell_type": "code",
   "execution_count": null,
   "metadata": {
    "colab": {},
    "colab_type": "code",
    "id": "SeXP_sCDVGm_"
   },
   "outputs": [],
   "source": [
    "input_text"
   ]
  },
  {
   "cell_type": "code",
   "execution_count": null,
   "metadata": {
    "colab": {},
    "colab_type": "code",
    "id": "PtiwwpefvgHd"
   },
   "outputs": [],
   "source": [
    "print(\"The number of characters in the file is\",len(input_text))"
   ]
  },
  {
   "cell_type": "markdown",
   "metadata": {
    "colab_type": "text",
    "id": "Q3kpZpe3VGnC"
   },
   "source": [
    "When you are done with the file, close it."
   ]
  },
  {
   "cell_type": "code",
   "execution_count": null,
   "metadata": {
    "colab": {},
    "colab_type": "code",
    "id": "1TRTctK4VGnC"
   },
   "outputs": [],
   "source": [
    "input_file.close()"
   ]
  },
  {
   "cell_type": "markdown",
   "metadata": {
    "colab_type": "text",
    "id": "x1SRUO6GVGnG"
   },
   "source": [
    "After the file has been closed it cannot be read any more.  The following code should generate a `ValueError`"
   ]
  },
  {
   "cell_type": "code",
   "execution_count": null,
   "metadata": {
    "colab": {},
    "colab_type": "code",
    "id": "XIidgndAVGnH"
   },
   "outputs": [],
   "source": [
    "input_text = input_file.read()"
   ]
  },
  {
   "cell_type": "markdown",
   "metadata": {
    "colab_type": "text",
    "id": "TFzx4vLOVGnK"
   },
   "source": [
    "It is much neater to use a `with ... as` block to `open` a file (and then you do not need to `close` it since it will close automatically when the block exits)"
   ]
  },
  {
   "cell_type": "code",
   "execution_count": null,
   "metadata": {
    "colab": {},
    "colab_type": "code",
    "id": "lxsikng9VGnL"
   },
   "outputs": [],
   "source": [
    "with open(input_file_path) as input_file:\n",
    "    some_input_text=input_file.read()"
   ]
  },
  {
   "cell_type": "code",
   "execution_count": null,
   "metadata": {
    "colab": {},
    "colab_type": "code",
    "id": "V3BNAyDQVGnP"
   },
   "outputs": [],
   "source": [
    "some_input_text"
   ]
  },
  {
   "cell_type": "code",
   "execution_count": null,
   "metadata": {
    "colab": {},
    "colab_type": "code",
    "id": "z_i-RgdwVGnR"
   },
   "outputs": [],
   "source": [
    "input_file.read()"
   ]
  },
  {
   "cell_type": "markdown",
   "metadata": {
    "colab_type": "text",
    "id": "PQbGYHp-VGnT"
   },
   "source": [
    "### **Exercise 5**\n",
    "In the blank cell below write a function, `print_word_counts` that will take a file path as an argument, open the file, then print, one word per line, each word in the file together with the number of times that word appears in the file.   \n",
    "\n",
    "Test your function by running it on the `sample_text.txt`.\n",
    "\n",
    "Hint: Call the function you developed in Exercise 4!"
   ]
  },
  {
   "cell_type": "code",
   "execution_count": null,
   "metadata": {
    "colab": {},
    "colab_type": "code",
    "id": "baSXhVpNVGnT"
   },
   "outputs": [],
   "source": []
  },
  {
   "cell_type": "markdown",
   "metadata": {
    "colab_type": "text",
    "id": "8WYnkDylVGnV"
   },
   "source": [
    "## 1.2.6 Tuples\n",
    "\n",
    "A tuple is another data structure which at first sight might seem much like a list or a set.  However, note that once created, a tuple has a **fixed** number of elements - we cannot append or add items to a tuple.  The most common types of tuples are **pairs** (two-tuples) and **triples** (three-tuples).  We have already seen pairs when we used the dictionary `.items()` method which returns a list of pairs.\n",
    "\n",
    "In short, a tuple consists of a number of values separated by commas. These values can be different types. It is initialised with parentheses, containing its objects separated by commas."
   ]
  },
  {
   "cell_type": "code",
   "execution_count": null,
   "metadata": {
    "colab": {},
    "colab_type": "code",
    "id": "Er9k-j0KVGnV"
   },
   "outputs": [],
   "source": [
    "person = (\"Jon\", 14, \"jon@thewall.com\")\n",
    "person"
   ]
  },
  {
   "cell_type": "code",
   "execution_count": null,
   "metadata": {
    "colab": {},
    "colab_type": "code",
    "id": "XsCeFmC2VGnX"
   },
   "outputs": [],
   "source": [
    "type(person)"
   ]
  },
  {
   "cell_type": "markdown",
   "metadata": {
    "colab_type": "text",
    "id": "QhLLQfrKVGnZ"
   },
   "source": [
    "We can use `len` to count the number of elements in a tuple."
   ]
  },
  {
   "cell_type": "code",
   "execution_count": null,
   "metadata": {
    "colab": {},
    "colab_type": "code",
    "id": "Peh5GuHwVGnZ"
   },
   "outputs": [],
   "source": [
    "len(person)"
   ]
  },
  {
   "cell_type": "markdown",
   "metadata": {
    "colab_type": "text",
    "id": "YtiKliVZVGnb"
   },
   "source": [
    "We can index into a tuple in the same way that we index into a list."
   ]
  },
  {
   "cell_type": "code",
   "execution_count": null,
   "metadata": {
    "colab": {},
    "colab_type": "code",
    "id": "dQo3LzogVGnc"
   },
   "outputs": [],
   "source": [
    "person[0]"
   ]
  },
  {
   "cell_type": "code",
   "execution_count": null,
   "metadata": {
    "colab": {},
    "colab_type": "code",
    "id": "p3B4ftDtVGnd"
   },
   "outputs": [],
   "source": [
    "person[-2:]"
   ]
  },
  {
   "cell_type": "markdown",
   "metadata": {
    "colab_type": "text",
    "id": "zK00qkQhVGnf"
   },
   "source": [
    "It can be useful to use tuples as values in dictionaries."
   ]
  },
  {
   "cell_type": "code",
   "execution_count": null,
   "metadata": {
    "colab": {},
    "colab_type": "code",
    "id": "RKhw7bk_VGnf"
   },
   "outputs": [],
   "source": [
    "#Note that each key is a string, and each value is a tuple\n",
    "people = {\"Joffrey\":(12, \"Baratheon\", \"joff@kingslanding.com\"), \"Jon\":(14, \"Snow\", \"jon@thewall.com\")}\n",
    "people[\"Joffrey\"]"
   ]
  },
  {
   "cell_type": "code",
   "execution_count": null,
   "metadata": {
    "colab": {},
    "colab_type": "code",
    "id": "UF3noJrEVGng"
   },
   "outputs": [],
   "source": [
    "### Jon's age - we access this using the dictionary key, and then indexing within the value:\n",
    "people[\"Jon\"][0]"
   ]
  },
  {
   "cell_type": "code",
   "execution_count": null,
   "metadata": {
    "colab": {},
    "colab_type": "code",
    "id": "1gx5pJUPVGnh"
   },
   "outputs": [],
   "source": [
    "### Joffrey's email\n",
    "people[\"Joffrey\"][2]"
   ]
  },
  {
   "cell_type": "code",
   "execution_count": null,
   "metadata": {
    "colab": {},
    "colab_type": "code",
    "id": "B-7xMzYGVGnj"
   },
   "outputs": [],
   "source": [
    "#  list everyone's first and last names:\n",
    "for person, record in people.items():\n",
    "     print (person, record[1])"
   ]
  },
  {
   "cell_type": "markdown",
   "metadata": {
    "colab_type": "text",
    "id": "aZ5XX4HXVGnl"
   },
   "source": [
    "### **Exercise 6**\n",
    "In the blank cell below create a dictionary called `address_book`, with at least 3 key-value entries. Each should consist of a person's name in string format (the key), and a tuple with corresponding pieces of information about them (the value).\n",
    "\n",
    "Once you've done that, iterate over the address book, printing information about each person into a sentence."
   ]
  },
  {
   "cell_type": "code",
   "execution_count": null,
   "metadata": {
    "colab": {},
    "colab_type": "code",
    "id": "CvOeqofQVGnl"
   },
   "outputs": [],
   "source": []
  },
  {
   "cell_type": "markdown",
   "metadata": {
    "colab_type": "text",
    "id": "aL55YuOMVGnn"
   },
   "source": [
    "## 1.2.7 The range function\n",
    "\n",
    "This produces a **generator** of numbers in a specified range.  We will talk more about generators in Part 3 but, for now, you can think of a generator as a list which is generated as required (rather than all being held in memory).  \n",
    "\n",
    "For small ranges, it doesn't really matter if it is stored as a list or a generator.  But if you want a range of 1000,000 numbers, then it does make a big difference to the memory requirements.\n",
    "\n",
    "The `range` function takes up to three arguments.  The first argument is the initial number in the range.  The second argument is the first number **NOT** in the range."
   ]
  },
  {
   "cell_type": "code",
   "execution_count": null,
   "metadata": {
    "colab": {},
    "colab_type": "code",
    "id": "L7aoy1q7VGnn"
   },
   "outputs": [],
   "source": [
    "indices = range(0,5)"
   ]
  },
  {
   "cell_type": "markdown",
   "metadata": {
    "colab_type": "text",
    "id": "53yBTe8E1fq4"
   },
   "source": [
    "Note that when you output the range, you get a `range` object"
   ]
  },
  {
   "cell_type": "code",
   "execution_count": null,
   "metadata": {
    "colab": {},
    "colab_type": "code",
    "id": "kJ-mJNhh1fQr"
   },
   "outputs": [],
   "source": [
    "indices"
   ]
  },
  {
   "cell_type": "code",
   "execution_count": null,
   "metadata": {
    "colab": {},
    "colab_type": "code",
    "id": "mwJg_aOgVGnq"
   },
   "outputs": [],
   "source": [
    "type(indices)"
   ]
  },
  {
   "cell_type": "markdown",
   "metadata": {
    "colab_type": "text",
    "id": "_0hzykeH14jR"
   },
   "source": [
    "We can use the `len` function to find out how big the range is."
   ]
  },
  {
   "cell_type": "code",
   "execution_count": null,
   "metadata": {
    "colab": {},
    "colab_type": "code",
    "id": "qPbJvwB_VGnr"
   },
   "outputs": [],
   "source": [
    "len(indices)"
   ]
  },
  {
   "cell_type": "markdown",
   "metadata": {
    "colab_type": "text",
    "id": "_NnTXmh1VGnt"
   },
   "source": [
    "We may want to iterate over a range in the same way that we iterate over lists and sets:"
   ]
  },
  {
   "cell_type": "code",
   "execution_count": null,
   "metadata": {
    "colab": {},
    "colab_type": "code",
    "id": "VjKPa3n02WYY"
   },
   "outputs": [],
   "source": [
    "total=0\n",
    "for i in indices:\n",
    "  total+=i\n",
    "print(total)"
   ]
  },
  {
   "cell_type": "markdown",
   "metadata": {
    "colab_type": "text",
    "id": "wu7w7OaSVGnt"
   },
   "source": [
    "If `range` is given a single argument, it will create a range from zero."
   ]
  },
  {
   "cell_type": "code",
   "execution_count": null,
   "metadata": {
    "colab": {},
    "colab_type": "code",
    "id": "7PZqOGLRVGnt"
   },
   "outputs": [],
   "source": [
    "for i in range(10):\n",
    "  print (i)"
   ]
  },
  {
   "cell_type": "markdown",
   "metadata": {
    "colab_type": "text",
    "id": "98UJ0NAB2gwb"
   },
   "source": [
    "If a `range` is given a third argument, it will use this as a **step** value between the numbers generated in the range."
   ]
  },
  {
   "cell_type": "code",
   "execution_count": null,
   "metadata": {
    "colab": {},
    "colab_type": "code",
    "id": "3vkG53aU2vq7"
   },
   "outputs": [],
   "source": [
    "for i in range(0,10,2):\n",
    "  print(i)"
   ]
  },
  {
   "cell_type": "markdown",
   "metadata": {
    "colab_type": "text",
    "id": "8oBukl4yVGnw"
   },
   "source": [
    "### **Exercise 7a**\n",
    "In the blank cell below use `range` to print a list of the first 10 odd numbers."
   ]
  },
  {
   "cell_type": "code",
   "execution_count": null,
   "metadata": {
    "colab": {},
    "colab_type": "code",
    "id": "Nbs7sHkHVGnw"
   },
   "outputs": [],
   "source": []
  },
  {
   "cell_type": "markdown",
   "metadata": {
    "colab_type": "text",
    "id": "Mjg1sF9HVGnz"
   },
   "source": [
    "### **Exercise 7b**\n",
    "In the cell below use `range` to print a list of the first 10 cubes."
   ]
  },
  {
   "cell_type": "code",
   "execution_count": null,
   "metadata": {
    "colab": {},
    "colab_type": "code",
    "id": "MaiO05clVGnz"
   },
   "outputs": [],
   "source": []
  },
  {
   "cell_type": "markdown",
   "metadata": {
    "colab_type": "text",
    "id": "sgrGa74kVGn1"
   },
   "source": [
    "## 1.2.8 The zip function\n",
    "\n",
    "The zip function is used to pair up the corresponding elements between multiple iterables (i.e., lists, sets, tuples or generators). \n",
    "\n",
    "It takes multiple iterables as arguments, and returns a list of tuples where the i-th tuple consists of the i-th element from each of the input iterables.\n",
    "\n",
    "In the example below, we 'zip together' `words` and `indices` into a series of tuples called `word_positions`. For example, the 3rd element of `word_positions` contains the 3rd element of `words` and the 3rd element of `indices`."
   ]
  },
  {
   "cell_type": "code",
   "execution_count": null,
   "metadata": {
    "colab": {},
    "colab_type": "code",
    "id": "ByORIESBVGn2"
   },
   "outputs": [],
   "source": [
    "words = 'It was the best of times, it was the worst of times'.split()\n",
    "indices = range(len(words))\n",
    "word_positions = zip(words, indices)\n",
    "type(word_positions)"
   ]
  },
  {
   "cell_type": "code",
   "execution_count": null,
   "metadata": {
    "colab": {},
    "colab_type": "code",
    "id": "ZsErqS4aVGn3"
   },
   "outputs": [],
   "source": [
    "for word, position in word_positions:\n",
    "    print(\"'{0}' is in position {1}\".format(word,position))\n"
   ]
  },
  {
   "cell_type": "markdown",
   "metadata": {
    "colab_type": "text",
    "id": "z3pWr0eCVGn5"
   },
   "source": [
    "### **Exercise 8**\n",
    "In the blank cell below write a function, `show_word_positions` that takes a filepath as its argument. The function should read the text from the file, split the text on whitespace, and then print out each word and its position as in the above example.\n",
    "\n",
    "Test your function out on `sample_text.txt`."
   ]
  },
  {
   "cell_type": "code",
   "execution_count": null,
   "metadata": {
    "colab": {},
    "colab_type": "code",
    "id": "fOe4H9M1VGn5"
   },
   "outputs": [],
   "source": []
  },
  {
   "cell_type": "markdown",
   "metadata": {
    "colab_type": "text",
    "id": "GFgT9OZrVGn7"
   },
   "source": [
    "If lists are of different lengths, `zip` will ignore elements in the longer list beyond the length of the shorter list"
   ]
  },
  {
   "cell_type": "code",
   "execution_count": null,
   "metadata": {
    "colab": {},
    "colab_type": "code",
    "id": "_WDHSAPEVGn7"
   },
   "outputs": [],
   "source": [
    "listA = [\"the\",\"cat\",\"sat\"]\n",
    "listB = [\"a\",\"dog\",\"lay\",\"down\"]\n",
    "\n",
    "for elem in zip(listB,listA):\n",
    "    print(elem)"
   ]
  },
  {
   "cell_type": "markdown",
   "metadata": {
    "colab_type": "text",
    "id": "QAphnmWxVGn9"
   },
   "source": [
    "If you want to pad out any 'missing' elements, you might find `zip_longest` useful.  This resides in a library called `itertools` so you need to import it from there (more on libraries later!)"
   ]
  },
  {
   "cell_type": "code",
   "execution_count": null,
   "metadata": {
    "colab": {},
    "colab_type": "code",
    "id": "B44x-MLpVGn9"
   },
   "outputs": [],
   "source": [
    "from itertools import zip_longest\n",
    "\n",
    "for elem in zip_longest(listA,listB):\n",
    "    print(elem)"
   ]
  },
  {
   "cell_type": "markdown",
   "metadata": {
    "colab_type": "text",
    "id": "P3LklpjTVGoB"
   },
   "source": [
    "### 1.2.9 Enumerate\n",
    "Python provides a useful built-in function called `enumerate` that can be used instead of the combination of `range` and `zip` seen above."
   ]
  },
  {
   "cell_type": "code",
   "execution_count": null,
   "metadata": {
    "colab": {},
    "colab_type": "code",
    "id": "IGSEGGtgVGoB"
   },
   "outputs": [],
   "source": [
    "for a,b in enumerate(['The','Holy','Grail']): \n",
    "    print(a,b)"
   ]
  },
  {
   "cell_type": "code",
   "execution_count": null,
   "metadata": {
    "colab": {},
    "colab_type": "code",
    "id": "qYdDx4uPVGoD"
   },
   "outputs": [],
   "source": [
    "for a,b in enumerate(['The','Holy','Grail'],1): \n",
    "    print(a,b)"
   ]
  },
  {
   "cell_type": "markdown",
   "metadata": {
    "colab_type": "text",
    "id": "uaoIadgAVGoE"
   },
   "source": [
    "### **Exercise 9**\n",
    "In the empty cell below, write a function that calculates the number of letters in each word of an input string, returning a list of tuples `(position, length)`.\n"
   ]
  },
  {
   "cell_type": "code",
   "execution_count": null,
   "metadata": {
    "colab": {},
    "colab_type": "code",
    "id": "yok9urwwVGoE"
   },
   "outputs": [],
   "source": []
  },
  {
   "cell_type": "code",
   "execution_count": null,
   "metadata": {
    "colab": {},
    "colab_type": "code",
    "id": "cemqNl9fVGoF"
   },
   "outputs": [],
   "source": []
  }
 ],
 "metadata": {
  "anaconda-cloud": {},
  "colab": {
   "collapsed_sections": [
    "b82YQGQNVGk3",
    "hoiIDkIMVGlQ",
    "6F01G7TJVGlT",
    "cSZMbVlCVGlW",
    "9_jExrmjVGla",
    "x6aOAeA5VGlz"
   ],
   "name": "NLE2020_lab_1_2.ipynb",
   "provenance": []
  },
  "kernelspec": {
   "display_name": "Python 3",
   "language": "python",
   "name": "python3"
  },
  "language_info": {
   "codemirror_mode": {
    "name": "ipython",
    "version": 3
   },
   "file_extension": ".py",
   "mimetype": "text/x-python",
   "name": "python",
   "nbconvert_exporter": "python",
   "pygments_lexer": "ipython3",
   "version": "3.7.4"
  }
 },
 "nbformat": 4,
 "nbformat_minor": 1
}
